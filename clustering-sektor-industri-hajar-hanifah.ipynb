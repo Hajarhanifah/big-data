{
 "cells": [
  {
   "cell_type": "code",
   "execution_count": 1,
   "id": "6a4a90d5",
   "metadata": {
    "_cell_guid": "b1076dfc-b9ad-4769-8c92-a6c4dae69d19",
    "_uuid": "8f2839f25d086af736a60e9eeb907d3b93b6e0e5",
    "execution": {
     "iopub.execute_input": "2022-04-16T10:35:13.353090Z",
     "iopub.status.busy": "2022-04-16T10:35:13.352609Z",
     "iopub.status.idle": "2022-04-16T10:35:13.378394Z",
     "shell.execute_reply": "2022-04-16T10:35:13.377175Z"
    },
    "papermill": {
     "duration": 0.090406,
     "end_time": "2022-04-16T10:35:13.380415",
     "exception": false,
     "start_time": "2022-04-16T10:35:13.290009",
     "status": "completed"
    },
    "tags": []
   },
   "outputs": [
    {
     "name": "stdout",
     "output_type": "stream",
     "text": [
      "/kaggle/input/financial-data-and-ratio-sector-industry-2021/Financial Data and Ratio Q4 Sektor Industri - 2021.csv\n",
      "/kaggle/input/daftar-emiten-sektor-industri-mar-2022/Daftar_Emiten_Sektor_Industri_Mar_2022.csv\n"
     ]
    }
   ],
   "source": [
    "# This Python 3 environment comes with many helpful analytics libraries installed\n",
    "# It is defined by the kaggle/python Docker image: https://github.com/kaggle/docker-python\n",
    "# For example, here's several helpful packages to load\n",
    "\n",
    "import numpy as np # linear algebra\n",
    "import pandas as pd # data processing, CSV file I/O (e.g. pd.read_csv)\n",
    "\n",
    "# Input data files are available in the read-only \"../input/\" directory\n",
    "# For example, running this (by clicking run or pressing Shift+Enter) will list all files under the input directory\n",
    "\n",
    "import os\n",
    "for dirname, _, filenames in os.walk('/kaggle/input'):\n",
    "    for filename in filenames:\n",
    "        print(os.path.join(dirname, filename))\n",
    "\n",
    "# You can write up to 20GB to the current directory (/kaggle/working/) that gets preserved as output when you create a version using \"Save & Run All\" \n",
    "# You can also write temporary files to /kaggle/temp/, but they won't be saved outside of the current session"
   ]
  },
  {
   "cell_type": "markdown",
   "id": "affb7c3e",
   "metadata": {
    "papermill": {
     "duration": 0.060929,
     "end_time": "2022-04-16T10:35:13.504561",
     "exception": false,
     "start_time": "2022-04-16T10:35:13.443632",
     "status": "completed"
    },
    "tags": []
   },
   "source": [
    "***\n",
    "# CLUSTERING EMITEN SEKTOR INDUSTRI Q4 2021 -  HAJAR HANIFAH \n",
    "***"
   ]
  },
  {
   "cell_type": "markdown",
   "id": "9461f5ab",
   "metadata": {
    "papermill": {
     "duration": 0.058834,
     "end_time": "2022-04-16T10:35:13.622542",
     "exception": false,
     "start_time": "2022-04-16T10:35:13.563708",
     "status": "completed"
    },
    "tags": []
   },
   "source": [
    "Tujuan penelitian ini adalah melakukan clustering terhadap data seluruh emiten saham di sektor industri Q4 2021. \n",
    "Adapun beberapa step yang akan dilakukan adalah \n",
    "1. load data\n",
    "2. Data cleansing\n",
    "3. Display scatter plot\n",
    "4. Clustering Data\n",
    "5. Menentukan Outliers\n",
    "6. Mencari K-Means\n",
    "7. Mengukur Elbow Point \n",
    "8. Menampilkan Result data clustering"
   ]
  },
  {
   "cell_type": "markdown",
   "id": "9e6af977",
   "metadata": {
    "papermill": {
     "duration": 0.059483,
     "end_time": "2022-04-16T10:35:13.742542",
     "exception": false,
     "start_time": "2022-04-16T10:35:13.683059",
     "status": "completed"
    },
    "tags": []
   },
   "source": [
    "***\n",
    "# 1. Import Libraries\n",
    "***"
   ]
  },
  {
   "cell_type": "code",
   "execution_count": 2,
   "id": "b6661aa9",
   "metadata": {
    "execution": {
     "iopub.execute_input": "2022-04-16T10:35:13.863104Z",
     "iopub.status.busy": "2022-04-16T10:35:13.862422Z",
     "iopub.status.idle": "2022-04-16T10:35:14.874538Z",
     "shell.execute_reply": "2022-04-16T10:35:14.873740Z"
    },
    "papermill": {
     "duration": 1.074931,
     "end_time": "2022-04-16T10:35:14.876898",
     "exception": false,
     "start_time": "2022-04-16T10:35:13.801967",
     "status": "completed"
    },
    "tags": []
   },
   "outputs": [],
   "source": [
    "import pandas as pd \n",
    "import numpy as np\n",
    "import matplotlib.pyplot as plt\n",
    "import seaborn as sns\n",
    "from matplotlib.colors import ListedColormap\n",
    "%matplotlib inline\n",
    "from scipy import stats"
   ]
  },
  {
   "cell_type": "markdown",
   "id": "5469818c",
   "metadata": {
    "papermill": {
     "duration": 0.060434,
     "end_time": "2022-04-16T10:35:14.997961",
     "exception": false,
     "start_time": "2022-04-16T10:35:14.937527",
     "status": "completed"
    },
    "tags": []
   },
   "source": [
    "***\n",
    "# 2. Exploratory Data Analysis\n",
    "***\n"
   ]
  },
  {
   "cell_type": "markdown",
   "id": "cffb71f8",
   "metadata": {
    "papermill": {
     "duration": 0.060386,
     "end_time": "2022-04-16T10:35:15.117859",
     "exception": false,
     "start_time": "2022-04-16T10:35:15.057473",
     "status": "completed"
    },
    "tags": []
   },
   "source": [
    "# 2.1 Data Understanding"
   ]
  },
  {
   "cell_type": "markdown",
   "id": "391f3fbc",
   "metadata": {
    "papermill": {
     "duration": 0.060605,
     "end_time": "2022-04-16T10:35:15.238243",
     "exception": false,
     "start_time": "2022-04-16T10:35:15.177638",
     "status": "completed"
    },
    "tags": []
   },
   "source": [
    "Data yang diambil merupakan data statictical financial ratio Q4 2021 untuk seluruh emiten di sektor Industri.\n",
    "\n",
    "Data di dapatkan dari [IDX - Laporan Statistic Financial Data Ratio](https://www.idx.co.id/data-pasar/laporan-statistik/digital-statistic-beta/financial-data-ratio?q=eyJ5ZWFyIjoiMjAyMSIsIm1vbnRoIjpudWxsLCJxdWFydGVyIjo0LCJ0eXBlIjoieWVhcmx5In0=)\n"
   ]
  },
  {
   "cell_type": "markdown",
   "id": "c46ab375",
   "metadata": {
    "papermill": {
     "duration": 0.059213,
     "end_time": "2022-04-16T10:35:15.356933",
     "exception": false,
     "start_time": "2022-04-16T10:35:15.297720",
     "status": "completed"
    },
    "tags": []
   },
   "source": [
    "# 2.2 Understanding The Table"
   ]
  },
  {
   "cell_type": "markdown",
   "id": "52f21baf",
   "metadata": {
    "papermill": {
     "duration": 0.060275,
     "end_time": "2022-04-16T10:35:15.477609",
     "exception": false,
     "start_time": "2022-04-16T10:35:15.417334",
     "status": "completed"
    },
    "tags": []
   },
   "source": [
    "* **Emiten :** Pihak yang melakukan penawaran umum, yaitu penawaran efek yang dilakukan oleh emiten untuk menjual efek kepada masyarakat berdasarkan tata cara yang diatur dalam peraturan undang-undang yang berlaku. \n",
    "* **Sales Growth :** Kenaikan jumlah penjualan dari tahun ke tahun atau dari waktu ke waktu.\n",
    "* **ROA (Return of Asset) :** Indikator untuk menunjukkan seberapa untuk sebuah perusahaan dibandingkan dengan total asetnya. \n",
    "* **DER (Debt to Equity) :** Rasio hutang terhadap ekuitas atau rasio keuangan yang membandingkan jumlah hutang dengan ekuitas"
   ]
  },
  {
   "cell_type": "markdown",
   "id": "bc1030dd",
   "metadata": {
    "papermill": {
     "duration": 0.059031,
     "end_time": "2022-04-16T10:35:15.595879",
     "exception": false,
     "start_time": "2022-04-16T10:35:15.536848",
     "status": "completed"
    },
    "tags": []
   },
   "source": [
    "Keterangan rasio yang akan digunakan : \n",
    "- **DER =** Total Uang / Total Ekuitas\n",
    "- **Return on Asset =** Laba setelah pajak / Total Asset \n",
    "- **Sales Growth =** (penjualan periode 2021 - penjualan periode 2020)/ penjualan periode 2020"
   ]
  },
  {
   "cell_type": "markdown",
   "id": "6afc1e5a",
   "metadata": {
    "papermill": {
     "duration": 0.059022,
     "end_time": "2022-04-16T10:35:15.714085",
     "exception": false,
     "start_time": "2022-04-16T10:35:15.655063",
     "status": "completed"
    },
    "tags": []
   },
   "source": [
    "# 2.3 Load Data"
   ]
  },
  {
   "cell_type": "code",
   "execution_count": 3,
   "id": "fdea7021",
   "metadata": {
    "execution": {
     "iopub.execute_input": "2022-04-16T10:35:15.834588Z",
     "iopub.status.busy": "2022-04-16T10:35:15.833595Z",
     "iopub.status.idle": "2022-04-16T10:35:15.866567Z",
     "shell.execute_reply": "2022-04-16T10:35:15.865880Z"
    },
    "papermill": {
     "duration": 0.095735,
     "end_time": "2022-04-16T10:35:15.868751",
     "exception": false,
     "start_time": "2022-04-16T10:35:15.773016",
     "status": "completed"
    },
    "tags": []
   },
   "outputs": [
    {
     "name": "stdout",
     "output_type": "stream",
     "text": [
      "<class 'pandas.core.frame.DataFrame'>\n",
      "RangeIndex: 49 entries, 0 to 48\n",
      "Data columns (total 6 columns):\n",
      " #   Column        Non-Null Count  Dtype  \n",
      "---  ------        --------------  -----  \n",
      " 0   emiten        49 non-null     object \n",
      " 1   sales 2021    49 non-null     object \n",
      " 2   sales 2020    49 non-null     object \n",
      " 3   sales growth  49 non-null     float64\n",
      " 4   DER           49 non-null     float64\n",
      " 5   ROA           49 non-null     object \n",
      "dtypes: float64(2), object(4)\n",
      "memory usage: 2.4+ KB\n"
     ]
    }
   ],
   "source": [
    "data = pd.read_csv('../input/financial-data-and-ratio-sector-industry-2021/Financial Data and Ratio Q4 Sektor Industri - 2021.csv')\n",
    "data.info()"
   ]
  },
  {
   "cell_type": "code",
   "execution_count": 4,
   "id": "1af3c077",
   "metadata": {
    "execution": {
     "iopub.execute_input": "2022-04-16T10:35:15.993324Z",
     "iopub.status.busy": "2022-04-16T10:35:15.992377Z",
     "iopub.status.idle": "2022-04-16T10:35:16.017351Z",
     "shell.execute_reply": "2022-04-16T10:35:16.016493Z"
    },
    "papermill": {
     "duration": 0.089426,
     "end_time": "2022-04-16T10:35:16.019903",
     "exception": false,
     "start_time": "2022-04-16T10:35:15.930477",
     "status": "completed"
    },
    "tags": []
   },
   "outputs": [
    {
     "data": {
      "text/html": [
       "<div>\n",
       "<style scoped>\n",
       "    .dataframe tbody tr th:only-of-type {\n",
       "        vertical-align: middle;\n",
       "    }\n",
       "\n",
       "    .dataframe tbody tr th {\n",
       "        vertical-align: top;\n",
       "    }\n",
       "\n",
       "    .dataframe thead th {\n",
       "        text-align: right;\n",
       "    }\n",
       "</style>\n",
       "<table border=\"1\" class=\"dataframe\">\n",
       "  <thead>\n",
       "    <tr style=\"text-align: right;\">\n",
       "      <th></th>\n",
       "      <th>sales growth</th>\n",
       "      <th>DER</th>\n",
       "    </tr>\n",
       "  </thead>\n",
       "  <tbody>\n",
       "    <tr>\n",
       "      <th>count</th>\n",
       "      <td>49.000000</td>\n",
       "      <td>49.000000</td>\n",
       "    </tr>\n",
       "    <tr>\n",
       "      <th>mean</th>\n",
       "      <td>0.216122</td>\n",
       "      <td>1.636939</td>\n",
       "    </tr>\n",
       "    <tr>\n",
       "      <th>std</th>\n",
       "      <td>0.376136</td>\n",
       "      <td>3.014889</td>\n",
       "    </tr>\n",
       "    <tr>\n",
       "      <th>min</th>\n",
       "      <td>-0.280000</td>\n",
       "      <td>-2.860000</td>\n",
       "    </tr>\n",
       "    <tr>\n",
       "      <th>25%</th>\n",
       "      <td>-0.030000</td>\n",
       "      <td>0.490000</td>\n",
       "    </tr>\n",
       "    <tr>\n",
       "      <th>50%</th>\n",
       "      <td>0.160000</td>\n",
       "      <td>0.720000</td>\n",
       "    </tr>\n",
       "    <tr>\n",
       "      <th>75%</th>\n",
       "      <td>0.360000</td>\n",
       "      <td>1.680000</td>\n",
       "    </tr>\n",
       "    <tr>\n",
       "      <th>max</th>\n",
       "      <td>1.440000</td>\n",
       "      <td>16.330000</td>\n",
       "    </tr>\n",
       "  </tbody>\n",
       "</table>\n",
       "</div>"
      ],
      "text/plain": [
       "       sales growth        DER\n",
       "count     49.000000  49.000000\n",
       "mean       0.216122   1.636939\n",
       "std        0.376136   3.014889\n",
       "min       -0.280000  -2.860000\n",
       "25%       -0.030000   0.490000\n",
       "50%        0.160000   0.720000\n",
       "75%        0.360000   1.680000\n",
       "max        1.440000  16.330000"
      ]
     },
     "execution_count": 4,
     "metadata": {},
     "output_type": "execute_result"
    }
   ],
   "source": [
    "data.describe()"
   ]
  },
  {
   "cell_type": "code",
   "execution_count": 5,
   "id": "eaf6ce63",
   "metadata": {
    "execution": {
     "iopub.execute_input": "2022-04-16T10:35:16.143586Z",
     "iopub.status.busy": "2022-04-16T10:35:16.142800Z",
     "iopub.status.idle": "2022-04-16T10:35:16.168103Z",
     "shell.execute_reply": "2022-04-16T10:35:16.167335Z"
    },
    "papermill": {
     "duration": 0.089745,
     "end_time": "2022-04-16T10:35:16.170056",
     "exception": false,
     "start_time": "2022-04-16T10:35:16.080311",
     "status": "completed"
    },
    "tags": []
   },
   "outputs": [
    {
     "data": {
      "text/html": [
       "<div>\n",
       "<style scoped>\n",
       "    .dataframe tbody tr th:only-of-type {\n",
       "        vertical-align: middle;\n",
       "    }\n",
       "\n",
       "    .dataframe tbody tr th {\n",
       "        vertical-align: top;\n",
       "    }\n",
       "\n",
       "    .dataframe thead th {\n",
       "        text-align: right;\n",
       "    }\n",
       "</style>\n",
       "<table border=\"1\" class=\"dataframe\">\n",
       "  <thead>\n",
       "    <tr style=\"text-align: right;\">\n",
       "      <th></th>\n",
       "      <th>emiten</th>\n",
       "      <th>sales 2021</th>\n",
       "      <th>sales 2020</th>\n",
       "      <th>sales growth</th>\n",
       "      <th>DER</th>\n",
       "      <th>ROA</th>\n",
       "    </tr>\n",
       "  </thead>\n",
       "  <tbody>\n",
       "    <tr>\n",
       "      <th>0</th>\n",
       "      <td>AMFG</td>\n",
       "      <td>3,482.42</td>\n",
       "      <td>2,628.14</td>\n",
       "      <td>0.33</td>\n",
       "      <td>1.32</td>\n",
       "      <td>0.06</td>\n",
       "    </tr>\n",
       "    <tr>\n",
       "      <th>1</th>\n",
       "      <td>AMIN</td>\n",
       "      <td>126.41</td>\n",
       "      <td>89.53</td>\n",
       "      <td>0.41</td>\n",
       "      <td>1.14</td>\n",
       "      <td>-0.05</td>\n",
       "    </tr>\n",
       "    <tr>\n",
       "      <th>2</th>\n",
       "      <td>APII</td>\n",
       "      <td>196.58</td>\n",
       "      <td>191.18</td>\n",
       "      <td>0.03</td>\n",
       "      <td>0.49</td>\n",
       "      <td>0.05</td>\n",
       "    </tr>\n",
       "    <tr>\n",
       "      <th>3</th>\n",
       "      <td>ARKA</td>\n",
       "      <td>49.52</td>\n",
       "      <td>40.49</td>\n",
       "      <td>0.22</td>\n",
       "      <td>3.97</td>\n",
       "      <td>-0.02</td>\n",
       "    </tr>\n",
       "    <tr>\n",
       "      <th>4</th>\n",
       "      <td>ARNA</td>\n",
       "      <td>1,885.43</td>\n",
       "      <td>1,612.59</td>\n",
       "      <td>0.17</td>\n",
       "      <td>0.51</td>\n",
       "      <td>0.21</td>\n",
       "    </tr>\n",
       "    <tr>\n",
       "      <th>5</th>\n",
       "      <td>CAKK</td>\n",
       "      <td>192.80</td>\n",
       "      <td>148.83</td>\n",
       "      <td>0.30</td>\n",
       "      <td>0.88</td>\n",
       "      <td>0.03</td>\n",
       "    </tr>\n",
       "    <tr>\n",
       "      <th>6</th>\n",
       "      <td>CCSI</td>\n",
       "      <td>309.02</td>\n",
       "      <td>172.84</td>\n",
       "      <td>0.79</td>\n",
       "      <td>0.31</td>\n",
       "      <td>0.11</td>\n",
       "    </tr>\n",
       "    <tr>\n",
       "      <th>7</th>\n",
       "      <td>CTTH</td>\n",
       "      <td>63.36</td>\n",
       "      <td>76.58</td>\n",
       "      <td>-0.17</td>\n",
       "      <td>2.28</td>\n",
       "      <td>-0.05</td>\n",
       "    </tr>\n",
       "    <tr>\n",
       "      <th>8</th>\n",
       "      <td>HEXA</td>\n",
       "      <td>2,558.36</td>\n",
       "      <td>1,521.05</td>\n",
       "      <td>0.68</td>\n",
       "      <td>1.38</td>\n",
       "      <td>0.12</td>\n",
       "    </tr>\n",
       "    <tr>\n",
       "      <th>9</th>\n",
       "      <td>IKBI</td>\n",
       "      <td>1,607.30</td>\n",
       "      <td>959.71</td>\n",
       "      <td>0.67</td>\n",
       "      <td>0.67</td>\n",
       "      <td>0.01</td>\n",
       "    </tr>\n",
       "    <tr>\n",
       "      <th>10</th>\n",
       "      <td>IMPC</td>\n",
       "      <td>1,583.67</td>\n",
       "      <td>1,233.36</td>\n",
       "      <td>0.28</td>\n",
       "      <td>0.72</td>\n",
       "      <td>0.08</td>\n",
       "    </tr>\n",
       "    <tr>\n",
       "      <th>11</th>\n",
       "      <td>INTA</td>\n",
       "      <td>443.78</td>\n",
       "      <td>569.57</td>\n",
       "      <td>-0.22</td>\n",
       "      <td>-2.86</td>\n",
       "      <td>-0.32</td>\n",
       "    </tr>\n",
       "    <tr>\n",
       "      <th>12</th>\n",
       "      <td>JECC</td>\n",
       "      <td>1,265.57</td>\n",
       "      <td>1,095.40</td>\n",
       "      <td>0.16</td>\n",
       "      <td>1.58</td>\n",
       "      <td>-0.04</td>\n",
       "    </tr>\n",
       "    <tr>\n",
       "      <th>13</th>\n",
       "      <td>KBLI</td>\n",
       "      <td>1,105.12</td>\n",
       "      <td>1,328.94</td>\n",
       "      <td>-0.17</td>\n",
       "      <td>0.16</td>\n",
       "      <td>0.02</td>\n",
       "    </tr>\n",
       "    <tr>\n",
       "      <th>14</th>\n",
       "      <td>KBLM</td>\n",
       "      <td>895.40</td>\n",
       "      <td>657.97</td>\n",
       "      <td>0.36</td>\n",
       "      <td>0.38</td>\n",
       "      <td>-</td>\n",
       "    </tr>\n",
       "    <tr>\n",
       "      <th>15</th>\n",
       "      <td>KIAS</td>\n",
       "      <td>402.08</td>\n",
       "      <td>285.99</td>\n",
       "      <td>0.41</td>\n",
       "      <td>0.18</td>\n",
       "      <td>-0.01</td>\n",
       "    </tr>\n",
       "    <tr>\n",
       "      <th>16</th>\n",
       "      <td>KOBX</td>\n",
       "      <td>1,281.46</td>\n",
       "      <td>525.17</td>\n",
       "      <td>1.44</td>\n",
       "      <td>2.79</td>\n",
       "      <td>0.06</td>\n",
       "    </tr>\n",
       "    <tr>\n",
       "      <th>17</th>\n",
       "      <td>KOIN</td>\n",
       "      <td>1,779.88</td>\n",
       "      <td>894.80</td>\n",
       "      <td>0.99</td>\n",
       "      <td>8.53</td>\n",
       "      <td>-0.02</td>\n",
       "    </tr>\n",
       "    <tr>\n",
       "      <th>18</th>\n",
       "      <td>KPAL</td>\n",
       "      <td>30.56</td>\n",
       "      <td>30.56</td>\n",
       "      <td>0.00</td>\n",
       "      <td>3.15</td>\n",
       "      <td>-0.02</td>\n",
       "    </tr>\n",
       "    <tr>\n",
       "      <th>19</th>\n",
       "      <td>KRAH</td>\n",
       "      <td>179.50</td>\n",
       "      <td>179.50</td>\n",
       "      <td>0.00</td>\n",
       "      <td>16.33</td>\n",
       "      <td>-0.05</td>\n",
       "    </tr>\n",
       "    <tr>\n",
       "      <th>20</th>\n",
       "      <td>MARK</td>\n",
       "      <td>832.15</td>\n",
       "      <td>344.47</td>\n",
       "      <td>1.42</td>\n",
       "      <td>0.67</td>\n",
       "      <td>0.31</td>\n",
       "    </tr>\n",
       "    <tr>\n",
       "      <th>21</th>\n",
       "      <td>MLIA</td>\n",
       "      <td>3,190.36</td>\n",
       "      <td>2,759.79</td>\n",
       "      <td>0.16</td>\n",
       "      <td>0.91</td>\n",
       "      <td>0.08</td>\n",
       "    </tr>\n",
       "    <tr>\n",
       "      <th>22</th>\n",
       "      <td>SCCO</td>\n",
       "      <td>3,621.64</td>\n",
       "      <td>3,128.37</td>\n",
       "      <td>0.16</td>\n",
       "      <td>0.08</td>\n",
       "      <td>0.04</td>\n",
       "    </tr>\n",
       "    <tr>\n",
       "      <th>23</th>\n",
       "      <td>SINI</td>\n",
       "      <td>253.72</td>\n",
       "      <td>196.26</td>\n",
       "      <td>0.29</td>\n",
       "      <td>4.09</td>\n",
       "      <td>0.02</td>\n",
       "    </tr>\n",
       "    <tr>\n",
       "      <th>24</th>\n",
       "      <td>SKRN</td>\n",
       "      <td>258.01</td>\n",
       "      <td>357.83</td>\n",
       "      <td>-0.28</td>\n",
       "      <td>1.68</td>\n",
       "      <td>0.01</td>\n",
       "    </tr>\n",
       "    <tr>\n",
       "      <th>25</th>\n",
       "      <td>SPTO</td>\n",
       "      <td>1,582.87</td>\n",
       "      <td>1,347.45</td>\n",
       "      <td>0.17</td>\n",
       "      <td>0.54</td>\n",
       "      <td>0.06</td>\n",
       "    </tr>\n",
       "    <tr>\n",
       "      <th>26</th>\n",
       "      <td>TOTO</td>\n",
       "      <td>1,303.30</td>\n",
       "      <td>1,146.93</td>\n",
       "      <td>0.14</td>\n",
       "      <td>0.65</td>\n",
       "      <td>0.02</td>\n",
       "    </tr>\n",
       "    <tr>\n",
       "      <th>27</th>\n",
       "      <td>UNTR</td>\n",
       "      <td>57,822.37</td>\n",
       "      <td>46,466.48</td>\n",
       "      <td>0.24</td>\n",
       "      <td>0.59</td>\n",
       "      <td>0.09</td>\n",
       "    </tr>\n",
       "    <tr>\n",
       "      <th>28</th>\n",
       "      <td>VOKS</td>\n",
       "      <td>1,223.14</td>\n",
       "      <td>1,431.34</td>\n",
       "      <td>-0.15</td>\n",
       "      <td>1.91</td>\n",
       "      <td>-0.06</td>\n",
       "    </tr>\n",
       "    <tr>\n",
       "      <th>29</th>\n",
       "      <td>ASGR</td>\n",
       "      <td>1,999.20</td>\n",
       "      <td>2,348.38</td>\n",
       "      <td>-0.15</td>\n",
       "      <td>0.49</td>\n",
       "      <td>0.02</td>\n",
       "    </tr>\n",
       "    <tr>\n",
       "      <th>30</th>\n",
       "      <td>BLUE</td>\n",
       "      <td>76.26</td>\n",
       "      <td>49.45</td>\n",
       "      <td>0.54</td>\n",
       "      <td>0.13</td>\n",
       "      <td>0.17</td>\n",
       "    </tr>\n",
       "    <tr>\n",
       "      <th>31</th>\n",
       "      <td>DYAN</td>\n",
       "      <td>226.98</td>\n",
       "      <td>163.18</td>\n",
       "      <td>0.39</td>\n",
       "      <td>0.86</td>\n",
       "      <td>-0.11</td>\n",
       "    </tr>\n",
       "    <tr>\n",
       "      <th>32</th>\n",
       "      <td>ICON</td>\n",
       "      <td>113.36</td>\n",
       "      <td>98.75</td>\n",
       "      <td>0.15</td>\n",
       "      <td>0.55</td>\n",
       "      <td>0.01</td>\n",
       "    </tr>\n",
       "    <tr>\n",
       "      <th>33</th>\n",
       "      <td>INDX</td>\n",
       "      <td>3.68</td>\n",
       "      <td>4.00</td>\n",
       "      <td>-0.08</td>\n",
       "      <td>0.19</td>\n",
       "      <td>-</td>\n",
       "    </tr>\n",
       "    <tr>\n",
       "      <th>34</th>\n",
       "      <td>JTPE</td>\n",
       "      <td>595.97</td>\n",
       "      <td>738.47</td>\n",
       "      <td>-0.19</td>\n",
       "      <td>0.65</td>\n",
       "      <td>0.04</td>\n",
       "    </tr>\n",
       "    <tr>\n",
       "      <th>35</th>\n",
       "      <td>KONI</td>\n",
       "      <td>86.97</td>\n",
       "      <td>63.32</td>\n",
       "      <td>0.37</td>\n",
       "      <td>0.70</td>\n",
       "      <td>0.03</td>\n",
       "    </tr>\n",
       "    <tr>\n",
       "      <th>36</th>\n",
       "      <td>LION</td>\n",
       "      <td>193.96</td>\n",
       "      <td>216.67</td>\n",
       "      <td>-0.10</td>\n",
       "      <td>0.51</td>\n",
       "      <td>-0.04</td>\n",
       "    </tr>\n",
       "    <tr>\n",
       "      <th>37</th>\n",
       "      <td>MDRN</td>\n",
       "      <td>57.95</td>\n",
       "      <td>67.77</td>\n",
       "      <td>-0.14</td>\n",
       "      <td>-1.55</td>\n",
       "      <td>-0.61</td>\n",
       "    </tr>\n",
       "    <tr>\n",
       "      <th>38</th>\n",
       "      <td>MFMI</td>\n",
       "      <td>108.39</td>\n",
       "      <td>104.66</td>\n",
       "      <td>0.04</td>\n",
       "      <td>1.82</td>\n",
       "      <td>0.12</td>\n",
       "    </tr>\n",
       "    <tr>\n",
       "      <th>39</th>\n",
       "      <td>SOSS</td>\n",
       "      <td>1,032.82</td>\n",
       "      <td>1,066.69</td>\n",
       "      <td>-0.03</td>\n",
       "      <td>1.02</td>\n",
       "      <td>0.05</td>\n",
       "    </tr>\n",
       "    <tr>\n",
       "      <th>40</th>\n",
       "      <td>TIRA</td>\n",
       "      <td>175.84</td>\n",
       "      <td>190.84</td>\n",
       "      <td>-0.08</td>\n",
       "      <td>1.21</td>\n",
       "      <td>0.01</td>\n",
       "    </tr>\n",
       "    <tr>\n",
       "      <th>41</th>\n",
       "      <td>ABMM</td>\n",
       "      <td>10,065.03</td>\n",
       "      <td>6,596.19</td>\n",
       "      <td>0.53</td>\n",
       "      <td>2.92</td>\n",
       "      <td>0.06</td>\n",
       "    </tr>\n",
       "    <tr>\n",
       "      <th>42</th>\n",
       "      <td>ASII</td>\n",
       "      <td>167,402.00</td>\n",
       "      <td>130,349.00</td>\n",
       "      <td>0.28</td>\n",
       "      <td>0.73</td>\n",
       "      <td>0.05</td>\n",
       "    </tr>\n",
       "    <tr>\n",
       "      <th>43</th>\n",
       "      <td>BHIT</td>\n",
       "      <td>12,400.93</td>\n",
       "      <td>10,818.20</td>\n",
       "      <td>0.15</td>\n",
       "      <td>0.73</td>\n",
       "      <td>0.01</td>\n",
       "    </tr>\n",
       "    <tr>\n",
       "      <th>44</th>\n",
       "      <td>BMTR</td>\n",
       "      <td>10,478.74</td>\n",
       "      <td>8,967.44</td>\n",
       "      <td>0.17</td>\n",
       "      <td>0.46</td>\n",
       "      <td>0.04</td>\n",
       "    </tr>\n",
       "    <tr>\n",
       "      <th>45</th>\n",
       "      <td>BNBR</td>\n",
       "      <td>1,569.74</td>\n",
       "      <td>1,979.03</td>\n",
       "      <td>-0.21</td>\n",
       "      <td>10.94</td>\n",
       "      <td>-0.05</td>\n",
       "    </tr>\n",
       "    <tr>\n",
       "      <th>46</th>\n",
       "      <td>MLPL</td>\n",
       "      <td>7,421.28</td>\n",
       "      <td>7,578.50</td>\n",
       "      <td>-0.02</td>\n",
       "      <td>2.33</td>\n",
       "      <td>-0.01</td>\n",
       "    </tr>\n",
       "    <tr>\n",
       "      <th>47</th>\n",
       "      <td>EMTK</td>\n",
       "      <td>9,597.63</td>\n",
       "      <td>8,518.51</td>\n",
       "      <td>0.13</td>\n",
       "      <td>0.12</td>\n",
       "      <td>0.07</td>\n",
       "    </tr>\n",
       "    <tr>\n",
       "      <th>48</th>\n",
       "      <td>TFAS</td>\n",
       "      <td>489.88</td>\n",
       "      <td>485.56</td>\n",
       "      <td>0.01</td>\n",
       "      <td>0.37</td>\n",
       "      <td>0.12</td>\n",
       "    </tr>\n",
       "  </tbody>\n",
       "</table>\n",
       "</div>"
      ],
      "text/plain": [
       "   emiten  sales 2021  sales 2020  sales growth    DER    ROA\n",
       "0    AMFG    3,482.42    2,628.14          0.33   1.32   0.06\n",
       "1    AMIN      126.41       89.53          0.41   1.14  -0.05\n",
       "2    APII      196.58      191.18          0.03   0.49   0.05\n",
       "3    ARKA       49.52       40.49          0.22   3.97  -0.02\n",
       "4    ARNA    1,885.43    1,612.59          0.17   0.51   0.21\n",
       "5    CAKK      192.80      148.83          0.30   0.88   0.03\n",
       "6    CCSI      309.02      172.84          0.79   0.31   0.11\n",
       "7    CTTH       63.36       76.58         -0.17   2.28  -0.05\n",
       "8    HEXA    2,558.36    1,521.05          0.68   1.38   0.12\n",
       "9    IKBI    1,607.30      959.71          0.67   0.67   0.01\n",
       "10   IMPC    1,583.67    1,233.36          0.28   0.72   0.08\n",
       "11   INTA      443.78      569.57         -0.22  -2.86  -0.32\n",
       "12   JECC    1,265.57    1,095.40          0.16   1.58  -0.04\n",
       "13   KBLI    1,105.12    1,328.94         -0.17   0.16   0.02\n",
       "14   KBLM      895.40      657.97          0.36   0.38      -\n",
       "15   KIAS      402.08      285.99          0.41   0.18  -0.01\n",
       "16   KOBX    1,281.46      525.17          1.44   2.79   0.06\n",
       "17   KOIN    1,779.88      894.80          0.99   8.53  -0.02\n",
       "18   KPAL       30.56       30.56          0.00   3.15  -0.02\n",
       "19   KRAH      179.50      179.50          0.00  16.33  -0.05\n",
       "20   MARK      832.15      344.47          1.42   0.67   0.31\n",
       "21   MLIA    3,190.36    2,759.79          0.16   0.91   0.08\n",
       "22   SCCO    3,621.64    3,128.37          0.16   0.08   0.04\n",
       "23   SINI      253.72      196.26          0.29   4.09   0.02\n",
       "24   SKRN      258.01      357.83         -0.28   1.68   0.01\n",
       "25   SPTO    1,582.87    1,347.45          0.17   0.54   0.06\n",
       "26   TOTO    1,303.30    1,146.93          0.14   0.65   0.02\n",
       "27   UNTR   57,822.37   46,466.48          0.24   0.59   0.09\n",
       "28   VOKS    1,223.14    1,431.34         -0.15   1.91  -0.06\n",
       "29   ASGR    1,999.20    2,348.38         -0.15   0.49   0.02\n",
       "30   BLUE       76.26       49.45          0.54   0.13   0.17\n",
       "31   DYAN      226.98      163.18          0.39   0.86  -0.11\n",
       "32   ICON      113.36       98.75          0.15   0.55   0.01\n",
       "33   INDX        3.68        4.00         -0.08   0.19      -\n",
       "34   JTPE      595.97      738.47         -0.19   0.65   0.04\n",
       "35   KONI       86.97       63.32          0.37   0.70   0.03\n",
       "36   LION      193.96      216.67         -0.10   0.51  -0.04\n",
       "37   MDRN       57.95       67.77         -0.14  -1.55  -0.61\n",
       "38   MFMI      108.39      104.66          0.04   1.82   0.12\n",
       "39   SOSS    1,032.82    1,066.69         -0.03   1.02   0.05\n",
       "40   TIRA      175.84      190.84         -0.08   1.21   0.01\n",
       "41   ABMM   10,065.03    6,596.19          0.53   2.92   0.06\n",
       "42   ASII  167,402.00  130,349.00          0.28   0.73   0.05\n",
       "43   BHIT   12,400.93   10,818.20          0.15   0.73   0.01\n",
       "44   BMTR   10,478.74    8,967.44          0.17   0.46   0.04\n",
       "45   BNBR    1,569.74    1,979.03         -0.21  10.94  -0.05\n",
       "46   MLPL    7,421.28    7,578.50         -0.02   2.33  -0.01\n",
       "47   EMTK    9,597.63    8,518.51          0.13   0.12   0.07\n",
       "48   TFAS      489.88      485.56          0.01   0.37   0.12"
      ]
     },
     "metadata": {},
     "output_type": "display_data"
    }
   ],
   "source": [
    "display(data)"
   ]
  },
  {
   "cell_type": "markdown",
   "id": "209ca465",
   "metadata": {
    "papermill": {
     "duration": 0.061597,
     "end_time": "2022-04-16T10:35:16.293589",
     "exception": false,
     "start_time": "2022-04-16T10:35:16.231992",
     "status": "completed"
    },
    "tags": []
   },
   "source": [
    "# 2.4 Data Cleansing"
   ]
  },
  {
   "cell_type": "code",
   "execution_count": 6,
   "id": "fe3fa61d",
   "metadata": {
    "execution": {
     "iopub.execute_input": "2022-04-16T10:35:16.419984Z",
     "iopub.status.busy": "2022-04-16T10:35:16.419464Z",
     "iopub.status.idle": "2022-04-16T10:35:16.424045Z",
     "shell.execute_reply": "2022-04-16T10:35:16.423452Z"
    },
    "papermill": {
     "duration": 0.070466,
     "end_time": "2022-04-16T10:35:16.425740",
     "exception": false,
     "start_time": "2022-04-16T10:35:16.355274",
     "status": "completed"
    },
    "tags": []
   },
   "outputs": [],
   "source": [
    "data.drop([\"sales 2021\",\"sales 2020\"], axis=1, inplace=True)"
   ]
  },
  {
   "cell_type": "markdown",
   "id": "d2a00bf5",
   "metadata": {
    "papermill": {
     "duration": 0.061585,
     "end_time": "2022-04-16T10:35:16.550405",
     "exception": false,
     "start_time": "2022-04-16T10:35:16.488820",
     "status": "completed"
    },
    "tags": []
   },
   "source": [
    "# 2. Scatter Plot"
   ]
  },
  {
   "cell_type": "code",
   "execution_count": 7,
   "id": "4bd5bbc8",
   "metadata": {
    "execution": {
     "iopub.execute_input": "2022-04-16T10:35:16.677654Z",
     "iopub.status.busy": "2022-04-16T10:35:16.677126Z",
     "iopub.status.idle": "2022-04-16T10:35:18.935795Z",
     "shell.execute_reply": "2022-04-16T10:35:18.934848Z"
    },
    "papermill": {
     "duration": 2.325882,
     "end_time": "2022-04-16T10:35:18.938006",
     "exception": false,
     "start_time": "2022-04-16T10:35:16.612124",
     "status": "completed"
    },
    "tags": []
   },
   "outputs": [
    {
     "data": {
      "text/plain": [
       "<Figure size 1440x1440 with 0 Axes>"
      ]
     },
     "metadata": {},
     "output_type": "display_data"
    },
    {
     "data": {
      "image/png": "[encoded data removed]",
      "text/plain": [
       "<Figure size 540x540 with 12 Axes>"
      ]
     },
     "metadata": {
      "needs_background": "light"
     },
     "output_type": "display_data"
    }
   ],
   "source": [
    "plt.figure(figsize=(20, 20))\n",
    "sns.pairplot(data, vars = data.columns[1:6]);"
   ]
  },
  {
   "cell_type": "markdown",
   "id": "737be793",
   "metadata": {
    "papermill": {
     "duration": 0.064515,
     "end_time": "2022-04-16T10:35:19.066849",
     "exception": false,
     "start_time": "2022-04-16T10:35:19.002334",
     "status": "completed"
    },
    "tags": []
   },
   "source": [
    "\n",
    "# 3. CLUSTERING\n"
   ]
  },
  {
   "cell_type": "markdown",
   "id": "3c4b9de2",
   "metadata": {
    "papermill": {
     "duration": 0.065218,
     "end_time": "2022-04-16T10:35:19.196421",
     "exception": false,
     "start_time": "2022-04-16T10:35:19.131203",
     "status": "completed"
    },
    "tags": []
   },
   "source": [
    "# 3.1 Load Data"
   ]
  },
  {
   "cell_type": "markdown",
   "id": "f75fd2ba",
   "metadata": {
    "papermill": {
     "duration": 0.063541,
     "end_time": "2022-04-16T10:35:19.324488",
     "exception": false,
     "start_time": "2022-04-16T10:35:19.260947",
     "status": "completed"
    },
    "tags": []
   },
   "source": [
    "**Add new Column on Dataset**"
   ]
  },
  {
   "cell_type": "code",
   "execution_count": 8,
   "id": "4fc44e14",
   "metadata": {
    "execution": {
     "iopub.execute_input": "2022-04-16T10:35:19.453294Z",
     "iopub.status.busy": "2022-04-16T10:35:19.453028Z",
     "iopub.status.idle": "2022-04-16T10:35:19.459608Z",
     "shell.execute_reply": "2022-04-16T10:35:19.458740Z"
    },
    "papermill": {
     "duration": 0.073351,
     "end_time": "2022-04-16T10:35:19.461538",
     "exception": false,
     "start_time": "2022-04-16T10:35:19.388187",
     "status": "completed"
    },
    "tags": []
   },
   "outputs": [],
   "source": [
    "data[\"category\"] = pd.NaT"
   ]
  },
  {
   "cell_type": "markdown",
   "id": "fc40edeb",
   "metadata": {
    "papermill": {
     "duration": 0.06372,
     "end_time": "2022-04-16T10:35:19.590451",
     "exception": false,
     "start_time": "2022-04-16T10:35:19.526731",
     "status": "completed"
    },
    "tags": []
   },
   "source": [
    "**Delete Row with value \"-\"**"
   ]
  },
  {
   "cell_type": "code",
   "execution_count": 9,
   "id": "65a3dbb5",
   "metadata": {
    "execution": {
     "iopub.execute_input": "2022-04-16T10:35:19.719176Z",
     "iopub.status.busy": "2022-04-16T10:35:19.718922Z",
     "iopub.status.idle": "2022-04-16T10:35:19.724388Z",
     "shell.execute_reply": "2022-04-16T10:35:19.723765Z"
    },
    "papermill": {
     "duration": 0.072087,
     "end_time": "2022-04-16T10:35:19.726257",
     "exception": false,
     "start_time": "2022-04-16T10:35:19.654170",
     "status": "completed"
    },
    "tags": []
   },
   "outputs": [],
   "source": [
    "data.drop(data.index[data['ROA'] == '-'], inplace=True)"
   ]
  },
  {
   "cell_type": "code",
   "execution_count": 10,
   "id": "f7df8af4",
   "metadata": {
    "execution": {
     "iopub.execute_input": "2022-04-16T10:35:19.856011Z",
     "iopub.status.busy": "2022-04-16T10:35:19.855502Z",
     "iopub.status.idle": "2022-04-16T10:35:19.871056Z",
     "shell.execute_reply": "2022-04-16T10:35:19.870191Z"
    },
    "papermill": {
     "duration": 0.082521,
     "end_time": "2022-04-16T10:35:19.873090",
     "exception": false,
     "start_time": "2022-04-16T10:35:19.790569",
     "status": "completed"
    },
    "tags": []
   },
   "outputs": [
    {
     "data": {
      "text/html": [
       "<div>\n",
       "<style scoped>\n",
       "    .dataframe tbody tr th:only-of-type {\n",
       "        vertical-align: middle;\n",
       "    }\n",
       "\n",
       "    .dataframe tbody tr th {\n",
       "        vertical-align: top;\n",
       "    }\n",
       "\n",
       "    .dataframe thead th {\n",
       "        text-align: right;\n",
       "    }\n",
       "</style>\n",
       "<table border=\"1\" class=\"dataframe\">\n",
       "  <thead>\n",
       "    <tr style=\"text-align: right;\">\n",
       "      <th></th>\n",
       "      <th>sales growth</th>\n",
       "      <th>DER</th>\n",
       "    </tr>\n",
       "  </thead>\n",
       "  <tbody>\n",
       "    <tr>\n",
       "      <th>count</th>\n",
       "      <td>47.000000</td>\n",
       "      <td>47.000000</td>\n",
       "    </tr>\n",
       "    <tr>\n",
       "      <th>mean</th>\n",
       "      <td>0.219362</td>\n",
       "      <td>1.694468</td>\n",
       "    </tr>\n",
       "    <tr>\n",
       "      <th>std</th>\n",
       "      <td>0.381133</td>\n",
       "      <td>3.066189</td>\n",
       "    </tr>\n",
       "    <tr>\n",
       "      <th>min</th>\n",
       "      <td>-0.280000</td>\n",
       "      <td>-2.860000</td>\n",
       "    </tr>\n",
       "    <tr>\n",
       "      <th>25%</th>\n",
       "      <td>-0.025000</td>\n",
       "      <td>0.500000</td>\n",
       "    </tr>\n",
       "    <tr>\n",
       "      <th>50%</th>\n",
       "      <td>0.160000</td>\n",
       "      <td>0.730000</td>\n",
       "    </tr>\n",
       "    <tr>\n",
       "      <th>75%</th>\n",
       "      <td>0.350000</td>\n",
       "      <td>1.750000</td>\n",
       "    </tr>\n",
       "    <tr>\n",
       "      <th>max</th>\n",
       "      <td>1.440000</td>\n",
       "      <td>16.330000</td>\n",
       "    </tr>\n",
       "  </tbody>\n",
       "</table>\n",
       "</div>"
      ],
      "text/plain": [
       "       sales growth        DER\n",
       "count     47.000000  47.000000\n",
       "mean       0.219362   1.694468\n",
       "std        0.381133   3.066189\n",
       "min       -0.280000  -2.860000\n",
       "25%       -0.025000   0.500000\n",
       "50%        0.160000   0.730000\n",
       "75%        0.350000   1.750000\n",
       "max        1.440000  16.330000"
      ]
     },
     "execution_count": 10,
     "metadata": {},
     "output_type": "execute_result"
    }
   ],
   "source": [
    "data.describe()"
   ]
  },
  {
   "cell_type": "code",
   "execution_count": 11,
   "id": "22fafa7a",
   "metadata": {
    "execution": {
     "iopub.execute_input": "2022-04-16T10:35:20.002798Z",
     "iopub.status.busy": "2022-04-16T10:35:20.002529Z",
     "iopub.status.idle": "2022-04-16T10:35:20.025325Z",
     "shell.execute_reply": "2022-04-16T10:35:20.024490Z"
    },
    "papermill": {
     "duration": 0.090142,
     "end_time": "2022-04-16T10:35:20.027321",
     "exception": false,
     "start_time": "2022-04-16T10:35:19.937179",
     "status": "completed"
    },
    "tags": []
   },
   "outputs": [
    {
     "data": {
      "text/html": [
       "<div>\n",
       "<style scoped>\n",
       "    .dataframe tbody tr th:only-of-type {\n",
       "        vertical-align: middle;\n",
       "    }\n",
       "\n",
       "    .dataframe tbody tr th {\n",
       "        vertical-align: top;\n",
       "    }\n",
       "\n",
       "    .dataframe thead th {\n",
       "        text-align: right;\n",
       "    }\n",
       "</style>\n",
       "<table border=\"1\" class=\"dataframe\">\n",
       "  <thead>\n",
       "    <tr style=\"text-align: right;\">\n",
       "      <th></th>\n",
       "      <th>emiten</th>\n",
       "      <th>sales growth</th>\n",
       "      <th>DER</th>\n",
       "      <th>ROA</th>\n",
       "      <th>category</th>\n",
       "    </tr>\n",
       "  </thead>\n",
       "  <tbody>\n",
       "    <tr>\n",
       "      <th>0</th>\n",
       "      <td>AMFG</td>\n",
       "      <td>0.33</td>\n",
       "      <td>1.32</td>\n",
       "      <td>0.06</td>\n",
       "      <td>NaT</td>\n",
       "    </tr>\n",
       "    <tr>\n",
       "      <th>1</th>\n",
       "      <td>AMIN</td>\n",
       "      <td>0.41</td>\n",
       "      <td>1.14</td>\n",
       "      <td>-0.05</td>\n",
       "      <td>NaT</td>\n",
       "    </tr>\n",
       "    <tr>\n",
       "      <th>2</th>\n",
       "      <td>APII</td>\n",
       "      <td>0.03</td>\n",
       "      <td>0.49</td>\n",
       "      <td>0.05</td>\n",
       "      <td>NaT</td>\n",
       "    </tr>\n",
       "    <tr>\n",
       "      <th>3</th>\n",
       "      <td>ARKA</td>\n",
       "      <td>0.22</td>\n",
       "      <td>3.97</td>\n",
       "      <td>-0.02</td>\n",
       "      <td>NaT</td>\n",
       "    </tr>\n",
       "    <tr>\n",
       "      <th>4</th>\n",
       "      <td>ARNA</td>\n",
       "      <td>0.17</td>\n",
       "      <td>0.51</td>\n",
       "      <td>0.21</td>\n",
       "      <td>NaT</td>\n",
       "    </tr>\n",
       "    <tr>\n",
       "      <th>5</th>\n",
       "      <td>CAKK</td>\n",
       "      <td>0.30</td>\n",
       "      <td>0.88</td>\n",
       "      <td>0.03</td>\n",
       "      <td>NaT</td>\n",
       "    </tr>\n",
       "    <tr>\n",
       "      <th>6</th>\n",
       "      <td>CCSI</td>\n",
       "      <td>0.79</td>\n",
       "      <td>0.31</td>\n",
       "      <td>0.11</td>\n",
       "      <td>NaT</td>\n",
       "    </tr>\n",
       "    <tr>\n",
       "      <th>7</th>\n",
       "      <td>CTTH</td>\n",
       "      <td>-0.17</td>\n",
       "      <td>2.28</td>\n",
       "      <td>-0.05</td>\n",
       "      <td>NaT</td>\n",
       "    </tr>\n",
       "    <tr>\n",
       "      <th>8</th>\n",
       "      <td>HEXA</td>\n",
       "      <td>0.68</td>\n",
       "      <td>1.38</td>\n",
       "      <td>0.12</td>\n",
       "      <td>NaT</td>\n",
       "    </tr>\n",
       "    <tr>\n",
       "      <th>9</th>\n",
       "      <td>IKBI</td>\n",
       "      <td>0.67</td>\n",
       "      <td>0.67</td>\n",
       "      <td>0.01</td>\n",
       "      <td>NaT</td>\n",
       "    </tr>\n",
       "    <tr>\n",
       "      <th>10</th>\n",
       "      <td>IMPC</td>\n",
       "      <td>0.28</td>\n",
       "      <td>0.72</td>\n",
       "      <td>0.08</td>\n",
       "      <td>NaT</td>\n",
       "    </tr>\n",
       "    <tr>\n",
       "      <th>11</th>\n",
       "      <td>INTA</td>\n",
       "      <td>-0.22</td>\n",
       "      <td>-2.86</td>\n",
       "      <td>-0.32</td>\n",
       "      <td>NaT</td>\n",
       "    </tr>\n",
       "    <tr>\n",
       "      <th>12</th>\n",
       "      <td>JECC</td>\n",
       "      <td>0.16</td>\n",
       "      <td>1.58</td>\n",
       "      <td>-0.04</td>\n",
       "      <td>NaT</td>\n",
       "    </tr>\n",
       "    <tr>\n",
       "      <th>13</th>\n",
       "      <td>KBLI</td>\n",
       "      <td>-0.17</td>\n",
       "      <td>0.16</td>\n",
       "      <td>0.02</td>\n",
       "      <td>NaT</td>\n",
       "    </tr>\n",
       "    <tr>\n",
       "      <th>15</th>\n",
       "      <td>KIAS</td>\n",
       "      <td>0.41</td>\n",
       "      <td>0.18</td>\n",
       "      <td>-0.01</td>\n",
       "      <td>NaT</td>\n",
       "    </tr>\n",
       "    <tr>\n",
       "      <th>16</th>\n",
       "      <td>KOBX</td>\n",
       "      <td>1.44</td>\n",
       "      <td>2.79</td>\n",
       "      <td>0.06</td>\n",
       "      <td>NaT</td>\n",
       "    </tr>\n",
       "    <tr>\n",
       "      <th>17</th>\n",
       "      <td>KOIN</td>\n",
       "      <td>0.99</td>\n",
       "      <td>8.53</td>\n",
       "      <td>-0.02</td>\n",
       "      <td>NaT</td>\n",
       "    </tr>\n",
       "    <tr>\n",
       "      <th>18</th>\n",
       "      <td>KPAL</td>\n",
       "      <td>0.00</td>\n",
       "      <td>3.15</td>\n",
       "      <td>-0.02</td>\n",
       "      <td>NaT</td>\n",
       "    </tr>\n",
       "    <tr>\n",
       "      <th>19</th>\n",
       "      <td>KRAH</td>\n",
       "      <td>0.00</td>\n",
       "      <td>16.33</td>\n",
       "      <td>-0.05</td>\n",
       "      <td>NaT</td>\n",
       "    </tr>\n",
       "    <tr>\n",
       "      <th>20</th>\n",
       "      <td>MARK</td>\n",
       "      <td>1.42</td>\n",
       "      <td>0.67</td>\n",
       "      <td>0.31</td>\n",
       "      <td>NaT</td>\n",
       "    </tr>\n",
       "    <tr>\n",
       "      <th>21</th>\n",
       "      <td>MLIA</td>\n",
       "      <td>0.16</td>\n",
       "      <td>0.91</td>\n",
       "      <td>0.08</td>\n",
       "      <td>NaT</td>\n",
       "    </tr>\n",
       "    <tr>\n",
       "      <th>22</th>\n",
       "      <td>SCCO</td>\n",
       "      <td>0.16</td>\n",
       "      <td>0.08</td>\n",
       "      <td>0.04</td>\n",
       "      <td>NaT</td>\n",
       "    </tr>\n",
       "    <tr>\n",
       "      <th>23</th>\n",
       "      <td>SINI</td>\n",
       "      <td>0.29</td>\n",
       "      <td>4.09</td>\n",
       "      <td>0.02</td>\n",
       "      <td>NaT</td>\n",
       "    </tr>\n",
       "    <tr>\n",
       "      <th>24</th>\n",
       "      <td>SKRN</td>\n",
       "      <td>-0.28</td>\n",
       "      <td>1.68</td>\n",
       "      <td>0.01</td>\n",
       "      <td>NaT</td>\n",
       "    </tr>\n",
       "    <tr>\n",
       "      <th>25</th>\n",
       "      <td>SPTO</td>\n",
       "      <td>0.17</td>\n",
       "      <td>0.54</td>\n",
       "      <td>0.06</td>\n",
       "      <td>NaT</td>\n",
       "    </tr>\n",
       "    <tr>\n",
       "      <th>26</th>\n",
       "      <td>TOTO</td>\n",
       "      <td>0.14</td>\n",
       "      <td>0.65</td>\n",
       "      <td>0.02</td>\n",
       "      <td>NaT</td>\n",
       "    </tr>\n",
       "    <tr>\n",
       "      <th>27</th>\n",
       "      <td>UNTR</td>\n",
       "      <td>0.24</td>\n",
       "      <td>0.59</td>\n",
       "      <td>0.09</td>\n",
       "      <td>NaT</td>\n",
       "    </tr>\n",
       "    <tr>\n",
       "      <th>28</th>\n",
       "      <td>VOKS</td>\n",
       "      <td>-0.15</td>\n",
       "      <td>1.91</td>\n",
       "      <td>-0.06</td>\n",
       "      <td>NaT</td>\n",
       "    </tr>\n",
       "    <tr>\n",
       "      <th>29</th>\n",
       "      <td>ASGR</td>\n",
       "      <td>-0.15</td>\n",
       "      <td>0.49</td>\n",
       "      <td>0.02</td>\n",
       "      <td>NaT</td>\n",
       "    </tr>\n",
       "    <tr>\n",
       "      <th>30</th>\n",
       "      <td>BLUE</td>\n",
       "      <td>0.54</td>\n",
       "      <td>0.13</td>\n",
       "      <td>0.17</td>\n",
       "      <td>NaT</td>\n",
       "    </tr>\n",
       "    <tr>\n",
       "      <th>31</th>\n",
       "      <td>DYAN</td>\n",
       "      <td>0.39</td>\n",
       "      <td>0.86</td>\n",
       "      <td>-0.11</td>\n",
       "      <td>NaT</td>\n",
       "    </tr>\n",
       "    <tr>\n",
       "      <th>32</th>\n",
       "      <td>ICON</td>\n",
       "      <td>0.15</td>\n",
       "      <td>0.55</td>\n",
       "      <td>0.01</td>\n",
       "      <td>NaT</td>\n",
       "    </tr>\n",
       "    <tr>\n",
       "      <th>34</th>\n",
       "      <td>JTPE</td>\n",
       "      <td>-0.19</td>\n",
       "      <td>0.65</td>\n",
       "      <td>0.04</td>\n",
       "      <td>NaT</td>\n",
       "    </tr>\n",
       "    <tr>\n",
       "      <th>35</th>\n",
       "      <td>KONI</td>\n",
       "      <td>0.37</td>\n",
       "      <td>0.70</td>\n",
       "      <td>0.03</td>\n",
       "      <td>NaT</td>\n",
       "    </tr>\n",
       "    <tr>\n",
       "      <th>36</th>\n",
       "      <td>LION</td>\n",
       "      <td>-0.10</td>\n",
       "      <td>0.51</td>\n",
       "      <td>-0.04</td>\n",
       "      <td>NaT</td>\n",
       "    </tr>\n",
       "    <tr>\n",
       "      <th>37</th>\n",
       "      <td>MDRN</td>\n",
       "      <td>-0.14</td>\n",
       "      <td>-1.55</td>\n",
       "      <td>-0.61</td>\n",
       "      <td>NaT</td>\n",
       "    </tr>\n",
       "    <tr>\n",
       "      <th>38</th>\n",
       "      <td>MFMI</td>\n",
       "      <td>0.04</td>\n",
       "      <td>1.82</td>\n",
       "      <td>0.12</td>\n",
       "      <td>NaT</td>\n",
       "    </tr>\n",
       "    <tr>\n",
       "      <th>39</th>\n",
       "      <td>SOSS</td>\n",
       "      <td>-0.03</td>\n",
       "      <td>1.02</td>\n",
       "      <td>0.05</td>\n",
       "      <td>NaT</td>\n",
       "    </tr>\n",
       "    <tr>\n",
       "      <th>40</th>\n",
       "      <td>TIRA</td>\n",
       "      <td>-0.08</td>\n",
       "      <td>1.21</td>\n",
       "      <td>0.01</td>\n",
       "      <td>NaT</td>\n",
       "    </tr>\n",
       "    <tr>\n",
       "      <th>41</th>\n",
       "      <td>ABMM</td>\n",
       "      <td>0.53</td>\n",
       "      <td>2.92</td>\n",
       "      <td>0.06</td>\n",
       "      <td>NaT</td>\n",
       "    </tr>\n",
       "    <tr>\n",
       "      <th>42</th>\n",
       "      <td>ASII</td>\n",
       "      <td>0.28</td>\n",
       "      <td>0.73</td>\n",
       "      <td>0.05</td>\n",
       "      <td>NaT</td>\n",
       "    </tr>\n",
       "    <tr>\n",
       "      <th>43</th>\n",
       "      <td>BHIT</td>\n",
       "      <td>0.15</td>\n",
       "      <td>0.73</td>\n",
       "      <td>0.01</td>\n",
       "      <td>NaT</td>\n",
       "    </tr>\n",
       "    <tr>\n",
       "      <th>44</th>\n",
       "      <td>BMTR</td>\n",
       "      <td>0.17</td>\n",
       "      <td>0.46</td>\n",
       "      <td>0.04</td>\n",
       "      <td>NaT</td>\n",
       "    </tr>\n",
       "    <tr>\n",
       "      <th>45</th>\n",
       "      <td>BNBR</td>\n",
       "      <td>-0.21</td>\n",
       "      <td>10.94</td>\n",
       "      <td>-0.05</td>\n",
       "      <td>NaT</td>\n",
       "    </tr>\n",
       "    <tr>\n",
       "      <th>46</th>\n",
       "      <td>MLPL</td>\n",
       "      <td>-0.02</td>\n",
       "      <td>2.33</td>\n",
       "      <td>-0.01</td>\n",
       "      <td>NaT</td>\n",
       "    </tr>\n",
       "    <tr>\n",
       "      <th>47</th>\n",
       "      <td>EMTK</td>\n",
       "      <td>0.13</td>\n",
       "      <td>0.12</td>\n",
       "      <td>0.07</td>\n",
       "      <td>NaT</td>\n",
       "    </tr>\n",
       "    <tr>\n",
       "      <th>48</th>\n",
       "      <td>TFAS</td>\n",
       "      <td>0.01</td>\n",
       "      <td>0.37</td>\n",
       "      <td>0.12</td>\n",
       "      <td>NaT</td>\n",
       "    </tr>\n",
       "  </tbody>\n",
       "</table>\n",
       "</div>"
      ],
      "text/plain": [
       "   emiten  sales growth    DER    ROA category\n",
       "0    AMFG          0.33   1.32   0.06      NaT\n",
       "1    AMIN          0.41   1.14  -0.05      NaT\n",
       "2    APII          0.03   0.49   0.05      NaT\n",
       "3    ARKA          0.22   3.97  -0.02      NaT\n",
       "4    ARNA          0.17   0.51   0.21      NaT\n",
       "5    CAKK          0.30   0.88   0.03      NaT\n",
       "6    CCSI          0.79   0.31   0.11      NaT\n",
       "7    CTTH         -0.17   2.28  -0.05      NaT\n",
       "8    HEXA          0.68   1.38   0.12      NaT\n",
       "9    IKBI          0.67   0.67   0.01      NaT\n",
       "10   IMPC          0.28   0.72   0.08      NaT\n",
       "11   INTA         -0.22  -2.86  -0.32      NaT\n",
       "12   JECC          0.16   1.58  -0.04      NaT\n",
       "13   KBLI         -0.17   0.16   0.02      NaT\n",
       "15   KIAS          0.41   0.18  -0.01      NaT\n",
       "16   KOBX          1.44   2.79   0.06      NaT\n",
       "17   KOIN          0.99   8.53  -0.02      NaT\n",
       "18   KPAL          0.00   3.15  -0.02      NaT\n",
       "19   KRAH          0.00  16.33  -0.05      NaT\n",
       "20   MARK          1.42   0.67   0.31      NaT\n",
       "21   MLIA          0.16   0.91   0.08      NaT\n",
       "22   SCCO          0.16   0.08   0.04      NaT\n",
       "23   SINI          0.29   4.09   0.02      NaT\n",
       "24   SKRN         -0.28   1.68   0.01      NaT\n",
       "25   SPTO          0.17   0.54   0.06      NaT\n",
       "26   TOTO          0.14   0.65   0.02      NaT\n",
       "27   UNTR          0.24   0.59   0.09      NaT\n",
       "28   VOKS         -0.15   1.91  -0.06      NaT\n",
       "29   ASGR         -0.15   0.49   0.02      NaT\n",
       "30   BLUE          0.54   0.13   0.17      NaT\n",
       "31   DYAN          0.39   0.86  -0.11      NaT\n",
       "32   ICON          0.15   0.55   0.01      NaT\n",
       "34   JTPE         -0.19   0.65   0.04      NaT\n",
       "35   KONI          0.37   0.70   0.03      NaT\n",
       "36   LION         -0.10   0.51  -0.04      NaT\n",
       "37   MDRN         -0.14  -1.55  -0.61      NaT\n",
       "38   MFMI          0.04   1.82   0.12      NaT\n",
       "39   SOSS         -0.03   1.02   0.05      NaT\n",
       "40   TIRA         -0.08   1.21   0.01      NaT\n",
       "41   ABMM          0.53   2.92   0.06      NaT\n",
       "42   ASII          0.28   0.73   0.05      NaT\n",
       "43   BHIT          0.15   0.73   0.01      NaT\n",
       "44   BMTR          0.17   0.46   0.04      NaT\n",
       "45   BNBR         -0.21  10.94  -0.05      NaT\n",
       "46   MLPL         -0.02   2.33  -0.01      NaT\n",
       "47   EMTK          0.13   0.12   0.07      NaT\n",
       "48   TFAS          0.01   0.37   0.12      NaT"
      ]
     },
     "metadata": {},
     "output_type": "display_data"
    }
   ],
   "source": [
    "display(data)"
   ]
  },
  {
   "cell_type": "markdown",
   "id": "70301168",
   "metadata": {
    "papermill": {
     "duration": 0.065098,
     "end_time": "2022-04-16T10:35:20.158888",
     "exception": false,
     "start_time": "2022-04-16T10:35:20.093790",
     "status": "completed"
    },
    "tags": []
   },
   "source": [
    "# 3.2 Scatter Plot"
   ]
  },
  {
   "cell_type": "code",
   "execution_count": 12,
   "id": "a6760742",
   "metadata": {
    "execution": {
     "iopub.execute_input": "2022-04-16T10:35:20.291406Z",
     "iopub.status.busy": "2022-04-16T10:35:20.291154Z",
     "iopub.status.idle": "2022-04-16T10:35:20.796120Z",
     "shell.execute_reply": "2022-04-16T10:35:20.795319Z"
    },
    "papermill": {
     "duration": 0.573664,
     "end_time": "2022-04-16T10:35:20.798038",
     "exception": false,
     "start_time": "2022-04-16T10:35:20.224374",
     "status": "completed"
    },
    "tags": []
   },
   "outputs": [
    {
     "data": {
      "text/plain": [
       "<AxesSubplot:xlabel='emiten', ylabel='sales growth'>"
      ]
     },
     "execution_count": 12,
     "metadata": {},
     "output_type": "execute_result"
    },
    {
     "data": {
      "image/png": "[encoded data removed]",
      "text/plain": [
       "<Figure size 1296x288 with 1 Axes>"
      ]
     },
     "metadata": {
      "needs_background": "light"
     },
     "output_type": "display_data"
    }
   ],
   "source": [
    "plt.figure(figsize=(18, 4))\n",
    "plt.xticks(rotation=45)\n",
    "sns.scatterplot(x='emiten', y='sales growth', \n",
    "                data=data, s=80)"
   ]
  },
  {
   "cell_type": "code",
   "execution_count": 13,
   "id": "bd7dbcd5",
   "metadata": {
    "execution": {
     "iopub.execute_input": "2022-04-16T10:35:20.958018Z",
     "iopub.status.busy": "2022-04-16T10:35:20.957526Z",
     "iopub.status.idle": "2022-04-16T10:35:21.451060Z",
     "shell.execute_reply": "2022-04-16T10:35:21.450493Z"
    },
    "papermill": {
     "duration": 0.566898,
     "end_time": "2022-04-16T10:35:21.452739",
     "exception": false,
     "start_time": "2022-04-16T10:35:20.885841",
     "status": "completed"
    },
    "tags": []
   },
   "outputs": [
    {
     "data": {
      "text/plain": [
       "<AxesSubplot:xlabel='emiten', ylabel='DER'>"
      ]
     },
     "execution_count": 13,
     "metadata": {},
     "output_type": "execute_result"
    },
    {
     "data": {
      "image/png": "[encoded data removed]",
      "text/plain": [
       "<Figure size 1296x288 with 1 Axes>"
      ]
     },
     "metadata": {
      "needs_background": "light"
     },
     "output_type": "display_data"
    }
   ],
   "source": [
    "plt.figure(figsize=(18, 4))\n",
    "plt.xticks(rotation=45)\n",
    "sns.scatterplot(x='emiten', y='DER', \n",
    "                data=data, s=80)"
   ]
  },
  {
   "cell_type": "code",
   "execution_count": 14,
   "id": "248b02dd",
   "metadata": {
    "execution": {
     "iopub.execute_input": "2022-04-16T10:35:21.592994Z",
     "iopub.status.busy": "2022-04-16T10:35:21.592475Z",
     "iopub.status.idle": "2022-04-16T10:35:22.166829Z",
     "shell.execute_reply": "2022-04-16T10:35:22.165890Z"
    },
    "papermill": {
     "duration": 0.646164,
     "end_time": "2022-04-16T10:35:22.168902",
     "exception": false,
     "start_time": "2022-04-16T10:35:21.522738",
     "status": "completed"
    },
    "tags": []
   },
   "outputs": [
    {
     "data": {
      "text/plain": [
       "<AxesSubplot:xlabel='emiten', ylabel='ROA'>"
      ]
     },
     "execution_count": 14,
     "metadata": {},
     "output_type": "execute_result"
    },
    {
     "data": {
      "image/png": "[encoded data removed]",
      "text/plain": [
       "<Figure size 1296x288 with 1 Axes>"
      ]
     },
     "metadata": {
      "needs_background": "light"
     },
     "output_type": "display_data"
    }
   ],
   "source": [
    "plt.figure(figsize=(18, 4))\n",
    "plt.xticks(rotation=45)\n",
    "sns.scatterplot(x='emiten', y='ROA', \n",
    "                data=data, s=80)"
   ]
  },
  {
   "cell_type": "markdown",
   "id": "4c77ca6c",
   "metadata": {
    "papermill": {
     "duration": 0.070712,
     "end_time": "2022-04-16T10:35:22.311296",
     "exception": false,
     "start_time": "2022-04-16T10:35:22.240584",
     "status": "completed"
    },
    "tags": []
   },
   "source": [
    "# 3.3 Outlier"
   ]
  },
  {
   "cell_type": "code",
   "execution_count": 15,
   "id": "09481470",
   "metadata": {
    "execution": {
     "iopub.execute_input": "2022-04-16T10:35:22.453934Z",
     "iopub.status.busy": "2022-04-16T10:35:22.453645Z",
     "iopub.status.idle": "2022-04-16T10:35:22.462348Z",
     "shell.execute_reply": "2022-04-16T10:35:22.461791Z"
    },
    "papermill": {
     "duration": 0.083475,
     "end_time": "2022-04-16T10:35:22.465254",
     "exception": false,
     "start_time": "2022-04-16T10:35:22.381779",
     "status": "completed"
    },
    "tags": []
   },
   "outputs": [
    {
     "name": "stdout",
     "output_type": "stream",
     "text": [
      "Jumlah baris sebelum memfilter outlier: 47\n",
      "Jumlah baris setelah memfilter outlier: 45\n"
     ]
    }
   ],
   "source": [
    "print(f'Jumlah baris sebelum memfilter outlier: {len(data)}')\n",
    "\n",
    "filtered_entries = np.array([False] * len(data))\n",
    "for col in ['sales growth']:\n",
    "    zscore = abs(stats.zscore(data[col]))\n",
    "    filtered_entries = (zscore < 3) | filtered_entries\n",
    "    \n",
    "data = data[filtered_entries]\n",
    "\n",
    "print(f'Jumlah baris setelah memfilter outlier: {len(data)}')"
   ]
  },
  {
   "cell_type": "code",
   "execution_count": 16,
   "id": "9105ed2a",
   "metadata": {
    "execution": {
     "iopub.execute_input": "2022-04-16T10:35:22.610801Z",
     "iopub.status.busy": "2022-04-16T10:35:22.610259Z",
     "iopub.status.idle": "2022-04-16T10:35:22.624610Z",
     "shell.execute_reply": "2022-04-16T10:35:22.624057Z"
    },
    "papermill": {
     "duration": 0.088165,
     "end_time": "2022-04-16T10:35:22.626343",
     "exception": false,
     "start_time": "2022-04-16T10:35:22.538178",
     "status": "completed"
    },
    "tags": []
   },
   "outputs": [
    {
     "data": {
      "text/html": [
       "<div>\n",
       "<style scoped>\n",
       "    .dataframe tbody tr th:only-of-type {\n",
       "        vertical-align: middle;\n",
       "    }\n",
       "\n",
       "    .dataframe tbody tr th {\n",
       "        vertical-align: top;\n",
       "    }\n",
       "\n",
       "    .dataframe thead th {\n",
       "        text-align: right;\n",
       "    }\n",
       "</style>\n",
       "<table border=\"1\" class=\"dataframe\">\n",
       "  <thead>\n",
       "    <tr style=\"text-align: right;\">\n",
       "      <th></th>\n",
       "      <th>sales growth</th>\n",
       "      <th>DER</th>\n",
       "    </tr>\n",
       "  </thead>\n",
       "  <tbody>\n",
       "    <tr>\n",
       "      <th>count</th>\n",
       "      <td>45.000000</td>\n",
       "      <td>45.000000</td>\n",
       "    </tr>\n",
       "    <tr>\n",
       "      <th>mean</th>\n",
       "      <td>0.165556</td>\n",
       "      <td>1.692889</td>\n",
       "    </tr>\n",
       "    <tr>\n",
       "      <th>std</th>\n",
       "      <td>0.286845</td>\n",
       "      <td>3.126935</td>\n",
       "    </tr>\n",
       "    <tr>\n",
       "      <th>min</th>\n",
       "      <td>-0.280000</td>\n",
       "      <td>-2.860000</td>\n",
       "    </tr>\n",
       "    <tr>\n",
       "      <th>25%</th>\n",
       "      <td>-0.030000</td>\n",
       "      <td>0.490000</td>\n",
       "    </tr>\n",
       "    <tr>\n",
       "      <th>50%</th>\n",
       "      <td>0.160000</td>\n",
       "      <td>0.730000</td>\n",
       "    </tr>\n",
       "    <tr>\n",
       "      <th>75%</th>\n",
       "      <td>0.300000</td>\n",
       "      <td>1.680000</td>\n",
       "    </tr>\n",
       "    <tr>\n",
       "      <th>max</th>\n",
       "      <td>0.990000</td>\n",
       "      <td>16.330000</td>\n",
       "    </tr>\n",
       "  </tbody>\n",
       "</table>\n",
       "</div>"
      ],
      "text/plain": [
       "       sales growth        DER\n",
       "count     45.000000  45.000000\n",
       "mean       0.165556   1.692889\n",
       "std        0.286845   3.126935\n",
       "min       -0.280000  -2.860000\n",
       "25%       -0.030000   0.490000\n",
       "50%        0.160000   0.730000\n",
       "75%        0.300000   1.680000\n",
       "max        0.990000  16.330000"
      ]
     },
     "execution_count": 16,
     "metadata": {},
     "output_type": "execute_result"
    }
   ],
   "source": [
    "data.describe()"
   ]
  },
  {
   "cell_type": "markdown",
   "id": "3b244b22",
   "metadata": {
    "papermill": {
     "duration": 0.071472,
     "end_time": "2022-04-16T10:35:22.769733",
     "exception": false,
     "start_time": "2022-04-16T10:35:22.698261",
     "status": "completed"
    },
    "tags": []
   },
   "source": [
    "# 3.4 Standarisasi Fitur"
   ]
  },
  {
   "cell_type": "code",
   "execution_count": 17,
   "id": "19aabd73",
   "metadata": {
    "execution": {
     "iopub.execute_input": "2022-04-16T10:35:22.917728Z",
     "iopub.status.busy": "2022-04-16T10:35:22.917041Z",
     "iopub.status.idle": "2022-04-16T10:35:23.062243Z",
     "shell.execute_reply": "2022-04-16T10:35:23.061479Z"
    },
    "papermill": {
     "duration": 0.221657,
     "end_time": "2022-04-16T10:35:23.064314",
     "exception": false,
     "start_time": "2022-04-16T10:35:22.842657",
     "status": "completed"
    },
    "tags": []
   },
   "outputs": [
    {
     "data": {
      "text/html": [
       "<div>\n",
       "<style scoped>\n",
       "    .dataframe tbody tr th:only-of-type {\n",
       "        vertical-align: middle;\n",
       "    }\n",
       "\n",
       "    .dataframe tbody tr th {\n",
       "        vertical-align: top;\n",
       "    }\n",
       "\n",
       "    .dataframe thead th {\n",
       "        text-align: right;\n",
       "    }\n",
       "</style>\n",
       "<table border=\"1\" class=\"dataframe\">\n",
       "  <thead>\n",
       "    <tr style=\"text-align: right;\">\n",
       "      <th></th>\n",
       "      <th>sales growth</th>\n",
       "      <th>DER</th>\n",
       "      <th>ROA</th>\n",
       "    </tr>\n",
       "  </thead>\n",
       "  <tbody>\n",
       "    <tr>\n",
       "      <th>count</th>\n",
       "      <td>4.500000e+01</td>\n",
       "      <td>4.500000e+01</td>\n",
       "      <td>4.500000e+01</td>\n",
       "    </tr>\n",
       "    <tr>\n",
       "      <th>mean</th>\n",
       "      <td>-5.427757e-17</td>\n",
       "      <td>-1.282924e-16</td>\n",
       "      <td>4.687608e-17</td>\n",
       "    </tr>\n",
       "    <tr>\n",
       "      <th>std</th>\n",
       "      <td>1.011300e+00</td>\n",
       "      <td>1.011300e+00</td>\n",
       "      <td>1.011300e+00</td>\n",
       "    </tr>\n",
       "    <tr>\n",
       "      <th>min</th>\n",
       "      <td>-1.570852e+00</td>\n",
       "      <td>-1.472476e+00</td>\n",
       "      <td>-5.013854e+00</td>\n",
       "    </tr>\n",
       "    <tr>\n",
       "      <th>25%</th>\n",
       "      <td>-6.894511e-01</td>\n",
       "      <td>-3.890332e-01</td>\n",
       "      <td>-2.254431e-01</td>\n",
       "    </tr>\n",
       "    <tr>\n",
       "      <th>50%</th>\n",
       "      <td>-1.958668e-02</td>\n",
       "      <td>-3.114134e-01</td>\n",
       "      <td>9.919495e-02</td>\n",
       "    </tr>\n",
       "    <tr>\n",
       "      <th>75%</th>\n",
       "      <td>4.739976e-01</td>\n",
       "      <td>-4.168469e-03</td>\n",
       "      <td>4.238330e-01</td>\n",
       "    </tr>\n",
       "    <tr>\n",
       "      <th>max</th>\n",
       "      <td>2.906663e+00</td>\n",
       "      <td>4.733872e+00</td>\n",
       "      <td>1.641226e+00</td>\n",
       "    </tr>\n",
       "  </tbody>\n",
       "</table>\n",
       "</div>"
      ],
      "text/plain": [
       "       sales growth           DER           ROA\n",
       "count  4.500000e+01  4.500000e+01  4.500000e+01\n",
       "mean  -5.427757e-17 -1.282924e-16  4.687608e-17\n",
       "std    1.011300e+00  1.011300e+00  1.011300e+00\n",
       "min   -1.570852e+00 -1.472476e+00 -5.013854e+00\n",
       "25%   -6.894511e-01 -3.890332e-01 -2.254431e-01\n",
       "50%   -1.958668e-02 -3.114134e-01  9.919495e-02\n",
       "75%    4.739976e-01 -4.168469e-03  4.238330e-01\n",
       "max    2.906663e+00  4.733872e+00  1.641226e+00"
      ]
     },
     "execution_count": 17,
     "metadata": {},
     "output_type": "execute_result"
    }
   ],
   "source": [
    "\n",
    "feats = ['sales growth', 'DER','ROA']\n",
    "X = data[feats].values\n",
    "y = data['category'].values\n",
    "\n",
    "from sklearn.preprocessing import StandardScaler\n",
    "standardscaler = StandardScaler().fit_transform(X)\n",
    "new_dataframe = pd.DataFrame(data = standardscaler, columns = feats)\n",
    "new_dataframe.describe()"
   ]
  },
  {
   "cell_type": "code",
   "execution_count": 18,
   "id": "b31ff701",
   "metadata": {
    "execution": {
     "iopub.execute_input": "2022-04-16T10:35:23.214301Z",
     "iopub.status.busy": "2022-04-16T10:35:23.213556Z",
     "iopub.status.idle": "2022-04-16T10:35:23.229684Z",
     "shell.execute_reply": "2022-04-16T10:35:23.228859Z"
    },
    "papermill": {
     "duration": 0.093571,
     "end_time": "2022-04-16T10:35:23.231874",
     "exception": false,
     "start_time": "2022-04-16T10:35:23.138303",
     "status": "completed"
    },
    "tags": []
   },
   "outputs": [
    {
     "data": {
      "text/html": [
       "<div>\n",
       "<style scoped>\n",
       "    .dataframe tbody tr th:only-of-type {\n",
       "        vertical-align: middle;\n",
       "    }\n",
       "\n",
       "    .dataframe tbody tr th {\n",
       "        vertical-align: top;\n",
       "    }\n",
       "\n",
       "    .dataframe thead th {\n",
       "        text-align: right;\n",
       "    }\n",
       "</style>\n",
       "<table border=\"1\" class=\"dataframe\">\n",
       "  <thead>\n",
       "    <tr style=\"text-align: right;\">\n",
       "      <th></th>\n",
       "      <th>sales growth</th>\n",
       "      <th>DER</th>\n",
       "      <th>ROA</th>\n",
       "    </tr>\n",
       "  </thead>\n",
       "  <tbody>\n",
       "    <tr>\n",
       "      <th>0</th>\n",
       "      <td>0.579766</td>\n",
       "      <td>-0.120598</td>\n",
       "      <td>0.423833</td>\n",
       "    </tr>\n",
       "    <tr>\n",
       "      <th>1</th>\n",
       "      <td>0.861814</td>\n",
       "      <td>-0.178813</td>\n",
       "      <td>-0.468922</td>\n",
       "    </tr>\n",
       "    <tr>\n",
       "      <th>2</th>\n",
       "      <td>-0.477915</td>\n",
       "      <td>-0.389033</td>\n",
       "      <td>0.342673</td>\n",
       "    </tr>\n",
       "    <tr>\n",
       "      <th>3</th>\n",
       "      <td>0.191949</td>\n",
       "      <td>0.736453</td>\n",
       "      <td>-0.225443</td>\n",
       "    </tr>\n",
       "    <tr>\n",
       "      <th>4</th>\n",
       "      <td>0.015669</td>\n",
       "      <td>-0.382565</td>\n",
       "      <td>1.641226</td>\n",
       "    </tr>\n",
       "    <tr>\n",
       "      <th>5</th>\n",
       "      <td>0.473998</td>\n",
       "      <td>-0.262901</td>\n",
       "      <td>0.180354</td>\n",
       "    </tr>\n",
       "    <tr>\n",
       "      <th>6</th>\n",
       "      <td>2.201543</td>\n",
       "      <td>-0.447248</td>\n",
       "      <td>0.829630</td>\n",
       "    </tr>\n",
       "    <tr>\n",
       "      <th>7</th>\n",
       "      <td>-1.183035</td>\n",
       "      <td>0.189881</td>\n",
       "      <td>-0.468922</td>\n",
       "    </tr>\n",
       "    <tr>\n",
       "      <th>8</th>\n",
       "      <td>1.813726</td>\n",
       "      <td>-0.101193</td>\n",
       "      <td>0.910790</td>\n",
       "    </tr>\n",
       "    <tr>\n",
       "      <th>9</th>\n",
       "      <td>1.778470</td>\n",
       "      <td>-0.330818</td>\n",
       "      <td>0.018035</td>\n",
       "    </tr>\n",
       "    <tr>\n",
       "      <th>10</th>\n",
       "      <td>0.403486</td>\n",
       "      <td>-0.314648</td>\n",
       "      <td>0.586152</td>\n",
       "    </tr>\n",
       "    <tr>\n",
       "      <th>11</th>\n",
       "      <td>-1.359316</td>\n",
       "      <td>-1.472476</td>\n",
       "      <td>-2.660228</td>\n",
       "    </tr>\n",
       "    <tr>\n",
       "      <th>12</th>\n",
       "      <td>-0.019587</td>\n",
       "      <td>-0.036510</td>\n",
       "      <td>-0.387762</td>\n",
       "    </tr>\n",
       "    <tr>\n",
       "      <th>13</th>\n",
       "      <td>-1.183035</td>\n",
       "      <td>-0.495760</td>\n",
       "      <td>0.099195</td>\n",
       "    </tr>\n",
       "    <tr>\n",
       "      <th>14</th>\n",
       "      <td>0.861814</td>\n",
       "      <td>-0.489292</td>\n",
       "      <td>-0.144284</td>\n",
       "    </tr>\n",
       "    <tr>\n",
       "      <th>15</th>\n",
       "      <td>2.906663</td>\n",
       "      <td>2.211229</td>\n",
       "      <td>-0.225443</td>\n",
       "    </tr>\n",
       "    <tr>\n",
       "      <th>16</th>\n",
       "      <td>-0.583683</td>\n",
       "      <td>0.471253</td>\n",
       "      <td>-0.225443</td>\n",
       "    </tr>\n",
       "    <tr>\n",
       "      <th>17</th>\n",
       "      <td>-0.583683</td>\n",
       "      <td>4.733872</td>\n",
       "      <td>-0.468922</td>\n",
       "    </tr>\n",
       "    <tr>\n",
       "      <th>18</th>\n",
       "      <td>-0.019587</td>\n",
       "      <td>-0.253199</td>\n",
       "      <td>0.586152</td>\n",
       "    </tr>\n",
       "    <tr>\n",
       "      <th>19</th>\n",
       "      <td>-0.019587</td>\n",
       "      <td>-0.521634</td>\n",
       "      <td>0.261514</td>\n",
       "    </tr>\n",
       "    <tr>\n",
       "      <th>20</th>\n",
       "      <td>0.438742</td>\n",
       "      <td>0.775263</td>\n",
       "      <td>0.099195</td>\n",
       "    </tr>\n",
       "    <tr>\n",
       "      <th>21</th>\n",
       "      <td>-1.570852</td>\n",
       "      <td>-0.004168</td>\n",
       "      <td>0.018035</td>\n",
       "    </tr>\n",
       "    <tr>\n",
       "      <th>22</th>\n",
       "      <td>0.015669</td>\n",
       "      <td>-0.372862</td>\n",
       "      <td>0.423833</td>\n",
       "    </tr>\n",
       "    <tr>\n",
       "      <th>23</th>\n",
       "      <td>-0.090099</td>\n",
       "      <td>-0.337287</td>\n",
       "      <td>0.099195</td>\n",
       "    </tr>\n",
       "    <tr>\n",
       "      <th>24</th>\n",
       "      <td>0.262461</td>\n",
       "      <td>-0.356692</td>\n",
       "      <td>0.667311</td>\n",
       "    </tr>\n",
       "    <tr>\n",
       "      <th>25</th>\n",
       "      <td>-1.112523</td>\n",
       "      <td>0.070217</td>\n",
       "      <td>-0.550081</td>\n",
       "    </tr>\n",
       "    <tr>\n",
       "      <th>26</th>\n",
       "      <td>-1.112523</td>\n",
       "      <td>-0.389033</td>\n",
       "      <td>0.099195</td>\n",
       "    </tr>\n",
       "    <tr>\n",
       "      <th>27</th>\n",
       "      <td>1.320142</td>\n",
       "      <td>-0.505463</td>\n",
       "      <td>1.316588</td>\n",
       "    </tr>\n",
       "    <tr>\n",
       "      <th>28</th>\n",
       "      <td>0.791302</td>\n",
       "      <td>-0.269369</td>\n",
       "      <td>-0.955879</td>\n",
       "    </tr>\n",
       "    <tr>\n",
       "      <th>29</th>\n",
       "      <td>-0.054843</td>\n",
       "      <td>-0.369628</td>\n",
       "      <td>0.018035</td>\n",
       "    </tr>\n",
       "    <tr>\n",
       "      <th>30</th>\n",
       "      <td>-1.253547</td>\n",
       "      <td>-0.337287</td>\n",
       "      <td>0.261514</td>\n",
       "    </tr>\n",
       "    <tr>\n",
       "      <th>31</th>\n",
       "      <td>0.720790</td>\n",
       "      <td>-0.321116</td>\n",
       "      <td>0.180354</td>\n",
       "    </tr>\n",
       "    <tr>\n",
       "      <th>32</th>\n",
       "      <td>-0.936243</td>\n",
       "      <td>-0.382565</td>\n",
       "      <td>-0.387762</td>\n",
       "    </tr>\n",
       "    <tr>\n",
       "      <th>33</th>\n",
       "      <td>-1.077267</td>\n",
       "      <td>-1.048801</td>\n",
       "      <td>-5.013854</td>\n",
       "    </tr>\n",
       "    <tr>\n",
       "      <th>34</th>\n",
       "      <td>-0.442659</td>\n",
       "      <td>0.041110</td>\n",
       "      <td>0.910790</td>\n",
       "    </tr>\n",
       "    <tr>\n",
       "      <th>35</th>\n",
       "      <td>-0.689451</td>\n",
       "      <td>-0.217623</td>\n",
       "      <td>0.342673</td>\n",
       "    </tr>\n",
       "    <tr>\n",
       "      <th>36</th>\n",
       "      <td>-0.865731</td>\n",
       "      <td>-0.156174</td>\n",
       "      <td>0.018035</td>\n",
       "    </tr>\n",
       "    <tr>\n",
       "      <th>37</th>\n",
       "      <td>1.284886</td>\n",
       "      <td>0.396867</td>\n",
       "      <td>0.423833</td>\n",
       "    </tr>\n",
       "    <tr>\n",
       "      <th>38</th>\n",
       "      <td>0.403486</td>\n",
       "      <td>-0.311413</td>\n",
       "      <td>0.342673</td>\n",
       "    </tr>\n",
       "    <tr>\n",
       "      <th>39</th>\n",
       "      <td>-0.054843</td>\n",
       "      <td>-0.311413</td>\n",
       "      <td>0.018035</td>\n",
       "    </tr>\n",
       "    <tr>\n",
       "      <th>40</th>\n",
       "      <td>0.015669</td>\n",
       "      <td>-0.398736</td>\n",
       "      <td>0.261514</td>\n",
       "    </tr>\n",
       "    <tr>\n",
       "      <th>41</th>\n",
       "      <td>-1.324059</td>\n",
       "      <td>2.990661</td>\n",
       "      <td>-0.468922</td>\n",
       "    </tr>\n",
       "    <tr>\n",
       "      <th>42</th>\n",
       "      <td>-0.654195</td>\n",
       "      <td>0.206052</td>\n",
       "      <td>-0.144284</td>\n",
       "    </tr>\n",
       "    <tr>\n",
       "      <th>43</th>\n",
       "      <td>-0.125355</td>\n",
       "      <td>-0.508697</td>\n",
       "      <td>0.504992</td>\n",
       "    </tr>\n",
       "    <tr>\n",
       "      <th>44</th>\n",
       "      <td>-0.548427</td>\n",
       "      <td>-0.427843</td>\n",
       "      <td>0.910790</td>\n",
       "    </tr>\n",
       "  </tbody>\n",
       "</table>\n",
       "</div>"
      ],
      "text/plain": [
       "    sales growth       DER       ROA\n",
       "0       0.579766 -0.120598  0.423833\n",
       "1       0.861814 -0.178813 -0.468922\n",
       "2      -0.477915 -0.389033  0.342673\n",
       "3       0.191949  0.736453 -0.225443\n",
       "4       0.015669 -0.382565  1.641226\n",
       "5       0.473998 -0.262901  0.180354\n",
       "6       2.201543 -0.447248  0.829630\n",
       "7      -1.183035  0.189881 -0.468922\n",
       "8       1.813726 -0.101193  0.910790\n",
       "9       1.778470 -0.330818  0.018035\n",
       "10      0.403486 -0.314648  0.586152\n",
       "11     -1.359316 -1.472476 -2.660228\n",
       "12     -0.019587 -0.036510 -0.387762\n",
       "13     -1.183035 -0.495760  0.099195\n",
       "14      0.861814 -0.489292 -0.144284\n",
       "15      2.906663  2.211229 -0.225443\n",
       "16     -0.583683  0.471253 -0.225443\n",
       "17     -0.583683  4.733872 -0.468922\n",
       "18     -0.019587 -0.253199  0.586152\n",
       "19     -0.019587 -0.521634  0.261514\n",
       "20      0.438742  0.775263  0.099195\n",
       "21     -1.570852 -0.004168  0.018035\n",
       "22      0.015669 -0.372862  0.423833\n",
       "23     -0.090099 -0.337287  0.099195\n",
       "24      0.262461 -0.356692  0.667311\n",
       "25     -1.112523  0.070217 -0.550081\n",
       "26     -1.112523 -0.389033  0.099195\n",
       "27      1.320142 -0.505463  1.316588\n",
       "28      0.791302 -0.269369 -0.955879\n",
       "29     -0.054843 -0.369628  0.018035\n",
       "30     -1.253547 -0.337287  0.261514\n",
       "31      0.720790 -0.321116  0.180354\n",
       "32     -0.936243 -0.382565 -0.387762\n",
       "33     -1.077267 -1.048801 -5.013854\n",
       "34     -0.442659  0.041110  0.910790\n",
       "35     -0.689451 -0.217623  0.342673\n",
       "36     -0.865731 -0.156174  0.018035\n",
       "37      1.284886  0.396867  0.423833\n",
       "38      0.403486 -0.311413  0.342673\n",
       "39     -0.054843 -0.311413  0.018035\n",
       "40      0.015669 -0.398736  0.261514\n",
       "41     -1.324059  2.990661 -0.468922\n",
       "42     -0.654195  0.206052 -0.144284\n",
       "43     -0.125355 -0.508697  0.504992\n",
       "44     -0.548427 -0.427843  0.910790"
      ]
     },
     "execution_count": 18,
     "metadata": {},
     "output_type": "execute_result"
    }
   ],
   "source": [
    "new_dataframe"
   ]
  },
  {
   "cell_type": "markdown",
   "id": "01c6b01a",
   "metadata": {
    "papermill": {
     "duration": 0.073838,
     "end_time": "2022-04-16T10:35:23.379128",
     "exception": false,
     "start_time": "2022-04-16T10:35:23.305290",
     "status": "completed"
    },
    "tags": []
   },
   "source": [
    "# 3.5 K-Means"
   ]
  },
  {
   "cell_type": "code",
   "execution_count": 19,
   "id": "bcf84703",
   "metadata": {
    "execution": {
     "iopub.execute_input": "2022-04-16T10:35:23.528891Z",
     "iopub.status.busy": "2022-04-16T10:35:23.527146Z",
     "iopub.status.idle": "2022-04-16T10:35:24.410068Z",
     "shell.execute_reply": "2022-04-16T10:35:24.409143Z"
    },
    "papermill": {
     "duration": 0.959806,
     "end_time": "2022-04-16T10:35:24.412382",
     "exception": false,
     "start_time": "2022-04-16T10:35:23.452576",
     "status": "completed"
    },
    "tags": []
   },
   "outputs": [
    {
     "data": {
      "text/plain": [
       "[<matplotlib.lines.Line2D at 0x7fd57a589350>]"
      ]
     },
     "execution_count": 19,
     "metadata": {},
     "output_type": "execute_result"
    },
    {
     "data": {
      "image/png": "[encoded data removed]",
      "text/plain": [
       "<Figure size 864x432 with 1 Axes>"
      ]
     },
     "metadata": {
      "needs_background": "light"
     },
     "output_type": "display_data"
    }
   ],
   "source": [
    "from sklearn.cluster import KMeans\n",
    "inertia = []\n",
    "\n",
    "for i in range(1, 11):\n",
    "  kmeans = KMeans(n_clusters=i, init='k-means++', max_iter=300, n_init=10, random_state=0)\n",
    "  kmeans.fit(new_dataframe.values)\n",
    "  inertia.append(kmeans.inertia_)\n",
    "\n",
    "plt.figure(figsize=(12, 6))\n",
    "plt.plot(inertia) #Elbow Method"
   ]
  },
  {
   "cell_type": "markdown",
   "id": "7f129e23",
   "metadata": {
    "papermill": {
     "duration": 0.078419,
     "end_time": "2022-04-16T10:35:24.566193",
     "exception": false,
     "start_time": "2022-04-16T10:35:24.487774",
     "status": "completed"
    },
    "tags": []
   },
   "source": [
    "Ternyata clustering paling optimal di 6 cluster (n_cluster = 6)"
   ]
  },
  {
   "cell_type": "markdown",
   "id": "1e6057e5",
   "metadata": {
    "papermill": {
     "duration": 0.073859,
     "end_time": "2022-04-16T10:35:24.714953",
     "exception": false,
     "start_time": "2022-04-16T10:35:24.641094",
     "status": "completed"
    },
    "tags": []
   },
   "source": [
    "# 2.6 Pilih Jumlah Cluster"
   ]
  },
  {
   "cell_type": "code",
   "execution_count": 20,
   "id": "fb2285de",
   "metadata": {
    "execution": {
     "iopub.execute_input": "2022-04-16T10:35:24.865542Z",
     "iopub.status.busy": "2022-04-16T10:35:24.865224Z",
     "iopub.status.idle": "2022-04-16T10:35:24.900333Z",
     "shell.execute_reply": "2022-04-16T10:35:24.899496Z"
    },
    "papermill": {
     "duration": 0.1132,
     "end_time": "2022-04-16T10:35:24.902609",
     "exception": false,
     "start_time": "2022-04-16T10:35:24.789409",
     "status": "completed"
    },
    "tags": []
   },
   "outputs": [
    {
     "data": {
      "text/plain": [
       "KMeans(n_clusters=5, random_state=0)"
      ]
     },
     "execution_count": 20,
     "metadata": {},
     "output_type": "execute_result"
    }
   ],
   "source": [
    "from sklearn.cluster import KMeans\n",
    "kmeans = KMeans(n_clusters=5, init='k-means++', max_iter=300, n_init=10, random_state=0)\n",
    "kmeans.fit(new_dataframe.values)"
   ]
  },
  {
   "cell_type": "code",
   "execution_count": 21,
   "id": "74db55d4",
   "metadata": {
    "execution": {
     "iopub.execute_input": "2022-04-16T10:35:25.056697Z",
     "iopub.status.busy": "2022-04-16T10:35:25.055768Z",
     "iopub.status.idle": "2022-04-16T10:35:25.061483Z",
     "shell.execute_reply": "2022-04-16T10:35:25.060903Z"
    },
    "papermill": {
     "duration": 0.084173,
     "end_time": "2022-04-16T10:35:25.063194",
     "exception": false,
     "start_time": "2022-04-16T10:35:24.979021",
     "status": "completed"
    },
    "tags": []
   },
   "outputs": [],
   "source": [
    "new_dataframe['target'] = y\n",
    "new_dataframe['fit'] = kmeans.labels_"
   ]
  },
  {
   "cell_type": "markdown",
   "id": "77223b52",
   "metadata": {
    "papermill": {
     "duration": 0.074245,
     "end_time": "2022-04-16T10:35:25.212767",
     "exception": false,
     "start_time": "2022-04-16T10:35:25.138522",
     "status": "completed"
    },
    "tags": []
   },
   "source": [
    "# 2.7 Plot Cluster"
   ]
  },
  {
   "cell_type": "code",
   "execution_count": 22,
   "id": "a86c301a",
   "metadata": {
    "execution": {
     "iopub.execute_input": "2022-04-16T10:35:25.365052Z",
     "iopub.status.busy": "2022-04-16T10:35:25.364170Z",
     "iopub.status.idle": "2022-04-16T10:35:25.532660Z",
     "shell.execute_reply": "2022-04-16T10:35:25.531873Z"
    },
    "papermill": {
     "duration": 0.246886,
     "end_time": "2022-04-16T10:35:25.534806",
     "exception": false,
     "start_time": "2022-04-16T10:35:25.287920",
     "status": "completed"
    },
    "tags": []
   },
   "outputs": [
    {
     "data": {
      "image/png": "[encoded data removed]",
      "text/plain": [
       "<Figure size 576x576 with 1 Axes>"
      ]
     },
     "metadata": {
      "needs_background": "light"
     },
     "output_type": "display_data"
    }
   ],
   "source": [
    "plt.rcParams[\"figure.figsize\"] = (8, 8)\n",
    "sns.scatterplot(x='DER', y='sales growth', hue=new_dataframe.target.to_list(), data=new_dataframe);"
   ]
  },
  {
   "cell_type": "code",
   "execution_count": 23,
   "id": "08b00a5f",
   "metadata": {
    "execution": {
     "iopub.execute_input": "2022-04-16T10:35:25.688414Z",
     "iopub.status.busy": "2022-04-16T10:35:25.688149Z",
     "iopub.status.idle": "2022-04-16T10:35:25.699838Z",
     "shell.execute_reply": "2022-04-16T10:35:25.699032Z"
    },
    "papermill": {
     "duration": 0.090904,
     "end_time": "2022-04-16T10:35:25.702146",
     "exception": false,
     "start_time": "2022-04-16T10:35:25.611242",
     "status": "completed"
    },
    "tags": []
   },
   "outputs": [
    {
     "data": {
      "text/html": [
       "<div>\n",
       "<style scoped>\n",
       "    .dataframe tbody tr th:only-of-type {\n",
       "        vertical-align: middle;\n",
       "    }\n",
       "\n",
       "    .dataframe tbody tr th {\n",
       "        vertical-align: top;\n",
       "    }\n",
       "\n",
       "    .dataframe thead th {\n",
       "        text-align: right;\n",
       "    }\n",
       "</style>\n",
       "<table border=\"1\" class=\"dataframe\">\n",
       "  <thead>\n",
       "    <tr style=\"text-align: right;\">\n",
       "      <th></th>\n",
       "      <th>sales growth</th>\n",
       "      <th>DER</th>\n",
       "      <th>ROA</th>\n",
       "      <th>target</th>\n",
       "      <th>fit</th>\n",
       "    </tr>\n",
       "  </thead>\n",
       "  <tbody>\n",
       "    <tr>\n",
       "      <th>0</th>\n",
       "      <td>0.579766</td>\n",
       "      <td>-0.120598</td>\n",
       "      <td>0.423833</td>\n",
       "      <td>NaT</td>\n",
       "      <td>1</td>\n",
       "    </tr>\n",
       "    <tr>\n",
       "      <th>1</th>\n",
       "      <td>0.861814</td>\n",
       "      <td>-0.178813</td>\n",
       "      <td>-0.468922</td>\n",
       "      <td>NaT</td>\n",
       "      <td>1</td>\n",
       "    </tr>\n",
       "    <tr>\n",
       "      <th>2</th>\n",
       "      <td>-0.477915</td>\n",
       "      <td>-0.389033</td>\n",
       "      <td>0.342673</td>\n",
       "      <td>NaT</td>\n",
       "      <td>1</td>\n",
       "    </tr>\n",
       "    <tr>\n",
       "      <th>3</th>\n",
       "      <td>0.191949</td>\n",
       "      <td>0.736453</td>\n",
       "      <td>-0.225443</td>\n",
       "      <td>NaT</td>\n",
       "      <td>1</td>\n",
       "    </tr>\n",
       "    <tr>\n",
       "      <th>4</th>\n",
       "      <td>0.015669</td>\n",
       "      <td>-0.382565</td>\n",
       "      <td>1.641226</td>\n",
       "      <td>NaT</td>\n",
       "      <td>1</td>\n",
       "    </tr>\n",
       "  </tbody>\n",
       "</table>\n",
       "</div>"
      ],
      "text/plain": [
       "   sales growth       DER       ROA target  fit\n",
       "0      0.579766 -0.120598  0.423833    NaT    1\n",
       "1      0.861814 -0.178813 -0.468922    NaT    1\n",
       "2     -0.477915 -0.389033  0.342673    NaT    1\n",
       "3      0.191949  0.736453 -0.225443    NaT    1\n",
       "4      0.015669 -0.382565  1.641226    NaT    1"
      ]
     },
     "execution_count": 23,
     "metadata": {},
     "output_type": "execute_result"
    }
   ],
   "source": [
    "new_dataframe.head(5)"
   ]
  },
  {
   "cell_type": "markdown",
   "id": "a9e6cb42",
   "metadata": {
    "papermill": {
     "duration": 0.07581,
     "end_time": "2022-04-16T10:35:25.854665",
     "exception": false,
     "start_time": "2022-04-16T10:35:25.778855",
     "status": "completed"
    },
    "tags": []
   },
   "source": [
    "Assign fit ke kolom category untuk membuat color indicator"
   ]
  },
  {
   "cell_type": "code",
   "execution_count": 24,
   "id": "8deb19de",
   "metadata": {
    "execution": {
     "iopub.execute_input": "2022-04-16T10:35:26.009957Z",
     "iopub.status.busy": "2022-04-16T10:35:26.009672Z",
     "iopub.status.idle": "2022-04-16T10:35:26.028304Z",
     "shell.execute_reply": "2022-04-16T10:35:26.027743Z"
    },
    "papermill": {
     "duration": 0.098115,
     "end_time": "2022-04-16T10:35:26.030067",
     "exception": false,
     "start_time": "2022-04-16T10:35:25.931952",
     "status": "completed"
    },
    "tags": []
   },
   "outputs": [
    {
     "data": {
      "text/html": [
       "<div>\n",
       "<style scoped>\n",
       "    .dataframe tbody tr th:only-of-type {\n",
       "        vertical-align: middle;\n",
       "    }\n",
       "\n",
       "    .dataframe tbody tr th {\n",
       "        vertical-align: top;\n",
       "    }\n",
       "\n",
       "    .dataframe thead th {\n",
       "        text-align: right;\n",
       "    }\n",
       "</style>\n",
       "<table border=\"1\" class=\"dataframe\">\n",
       "  <thead>\n",
       "    <tr style=\"text-align: right;\">\n",
       "      <th></th>\n",
       "      <th>category</th>\n",
       "      <th>sales growth</th>\n",
       "      <th>DER</th>\n",
       "      <th>ROA</th>\n",
       "      <th>target</th>\n",
       "      <th>fit</th>\n",
       "    </tr>\n",
       "  </thead>\n",
       "  <tbody>\n",
       "    <tr>\n",
       "      <th>0</th>\n",
       "      <td>4</td>\n",
       "      <td>0.579766</td>\n",
       "      <td>-0.120598</td>\n",
       "      <td>0.423833</td>\n",
       "      <td>NaT</td>\n",
       "      <td>1</td>\n",
       "    </tr>\n",
       "    <tr>\n",
       "      <th>1</th>\n",
       "      <td>4</td>\n",
       "      <td>0.861814</td>\n",
       "      <td>-0.178813</td>\n",
       "      <td>-0.468922</td>\n",
       "      <td>NaT</td>\n",
       "      <td>1</td>\n",
       "    </tr>\n",
       "    <tr>\n",
       "      <th>2</th>\n",
       "      <td>4</td>\n",
       "      <td>-0.477915</td>\n",
       "      <td>-0.389033</td>\n",
       "      <td>0.342673</td>\n",
       "      <td>NaT</td>\n",
       "      <td>1</td>\n",
       "    </tr>\n",
       "    <tr>\n",
       "      <th>3</th>\n",
       "      <td>4</td>\n",
       "      <td>0.191949</td>\n",
       "      <td>0.736453</td>\n",
       "      <td>-0.225443</td>\n",
       "      <td>NaT</td>\n",
       "      <td>1</td>\n",
       "    </tr>\n",
       "    <tr>\n",
       "      <th>4</th>\n",
       "      <td>4</td>\n",
       "      <td>0.015669</td>\n",
       "      <td>-0.382565</td>\n",
       "      <td>1.641226</td>\n",
       "      <td>NaT</td>\n",
       "      <td>1</td>\n",
       "    </tr>\n",
       "  </tbody>\n",
       "</table>\n",
       "</div>"
      ],
      "text/plain": [
       "   category  sales growth       DER       ROA target  fit\n",
       "0         4      0.579766 -0.120598  0.423833    NaT    1\n",
       "1         4      0.861814 -0.178813 -0.468922    NaT    1\n",
       "2         4     -0.477915 -0.389033  0.342673    NaT    1\n",
       "3         4      0.191949  0.736453 -0.225443    NaT    1\n",
       "4         4      0.015669 -0.382565  1.641226    NaT    1"
      ]
     },
     "execution_count": 24,
     "metadata": {},
     "output_type": "execute_result"
    }
   ],
   "source": [
    "new_dataframe.insert(0,\"category\",np.nan,True)\n",
    "new_dataframe.loc[new_dataframe['fit'] == 0, 'category'] = 2\n",
    "new_dataframe.loc[new_dataframe['fit'] == 1, 'category'] = 4\n",
    "new_dataframe.loc[new_dataframe['fit'] == 2, 'category'] = 1\n",
    "new_dataframe.loc[new_dataframe['fit'] == 3, 'category'] = 0\n",
    "new_dataframe.loc[new_dataframe['fit'] == 4, 'category'] = 3\n",
    "new_dataframe['category'] = new_dataframe['category'].astype(int)\n",
    "new_dataframe.head(5)"
   ]
  },
  {
   "cell_type": "markdown",
   "id": "8efca85d",
   "metadata": {
    "papermill": {
     "duration": 0.076715,
     "end_time": "2022-04-16T10:35:26.183751",
     "exception": false,
     "start_time": "2022-04-16T10:35:26.107036",
     "status": "completed"
    },
    "tags": []
   },
   "source": [
    "Adjust column name to (St.) = Standardized"
   ]
  },
  {
   "cell_type": "code",
   "execution_count": 25,
   "id": "251bbfae",
   "metadata": {
    "execution": {
     "iopub.execute_input": "2022-04-16T10:35:26.339575Z",
     "iopub.status.busy": "2022-04-16T10:35:26.339278Z",
     "iopub.status.idle": "2022-04-16T10:35:26.352295Z",
     "shell.execute_reply": "2022-04-16T10:35:26.351075Z"
    },
    "papermill": {
     "duration": 0.093759,
     "end_time": "2022-04-16T10:35:26.354489",
     "exception": false,
     "start_time": "2022-04-16T10:35:26.260730",
     "status": "completed"
    },
    "tags": []
   },
   "outputs": [
    {
     "name": "stdout",
     "output_type": "stream",
     "text": [
      "<class 'pandas.core.frame.DataFrame'>\n",
      "RangeIndex: 45 entries, 0 to 44\n",
      "Data columns (total 4 columns):\n",
      " #   Column              Non-Null Count  Dtype  \n",
      "---  ------              --------------  -----  \n",
      " 0   category            45 non-null     int64  \n",
      " 1   sales growth (St.)  45 non-null     float64\n",
      " 2   DER (St.)           45 non-null     float64\n",
      " 3   ROA (St.)           45 non-null     float64\n",
      "dtypes: float64(3), int64(1)\n",
      "memory usage: 1.5 KB\n"
     ]
    }
   ],
   "source": [
    "new_dataframe.drop([\"fit\",\"target\"], axis=1, inplace=True)\n",
    "new_dataframe.columns = ['category', 'sales growth (St.)','DER (St.)','ROA (St.)']\n",
    "new_dataframe.info()"
   ]
  },
  {
   "cell_type": "markdown",
   "id": "c3a09cc0",
   "metadata": {
    "papermill": {
     "duration": 0.077204,
     "end_time": "2022-04-16T10:35:26.509378",
     "exception": false,
     "start_time": "2022-04-16T10:35:26.432174",
     "status": "completed"
    },
    "tags": []
   },
   "source": [
    "# 3.7.1 3D Scatter Plot"
   ]
  },
  {
   "cell_type": "code",
   "execution_count": 26,
   "id": "812de262",
   "metadata": {
    "execution": {
     "iopub.execute_input": "2022-04-16T10:35:26.666757Z",
     "iopub.status.busy": "2022-04-16T10:35:26.666471Z",
     "iopub.status.idle": "2022-04-16T10:35:27.201549Z",
     "shell.execute_reply": "2022-04-16T10:35:27.200513Z"
    },
    "papermill": {
     "duration": 0.616091,
     "end_time": "2022-04-16T10:35:27.203841",
     "exception": false,
     "start_time": "2022-04-16T10:35:26.587750",
     "status": "completed"
    },
    "tags": []
   },
   "outputs": [
    {
     "data": {
      "image/png": "[encoded data removed]",
      "text/plain": [
       "<Figure size 576x576 with 1 Axes>"
      ]
     },
     "metadata": {
      "needs_background": "light"
     },
     "output_type": "display_data"
    }
   ],
   "source": [
    "from mpl_toolkits.mplot3d import Axes3D\n",
    "\n",
    "fig = plt.figure()\n",
    "ax = fig.add_subplot(111, projection = '3d')\n",
    "\n",
    "\n",
    "x = new_dataframe['DER (St.)']\n",
    "y = new_dataframe['ROA (St.)']\n",
    "z = new_dataframe['sales growth (St.)']\n",
    "\n",
    "ax.set_xlabel(\"DER (St.)\")\n",
    "ax.set_ylabel(\"ROA (St.)\")\n",
    "ax.set_zlabel(\"sales growth (St.)\")\n",
    "\n",
    "cmap = ListedColormap(sns.color_palette(\"RdYlGn\", 256).as_hex())\n",
    "\n",
    "sc = ax.scatter(x, y, z, s=40, c=new_dataframe['category'], marker='o', cmap=cmap, alpha=1)\n",
    "plt.legend(*sc.legend_elements(), bbox_to_anchor=(1.05, 1), loc=2)\n",
    "\n",
    "plt.show()"
   ]
  },
  {
   "cell_type": "markdown",
   "id": "89e046eb",
   "metadata": {
    "papermill": {
     "duration": 0.080085,
     "end_time": "2022-04-16T10:35:27.365391",
     "exception": false,
     "start_time": "2022-04-16T10:35:27.285306",
     "status": "completed"
    },
    "tags": []
   },
   "source": [
    "# 3.7.2 X vs Z View"
   ]
  },
  {
   "cell_type": "code",
   "execution_count": 27,
   "id": "6332b6f6",
   "metadata": {
    "execution": {
     "iopub.execute_input": "2022-04-16T10:35:27.527939Z",
     "iopub.status.busy": "2022-04-16T10:35:27.527400Z",
     "iopub.status.idle": "2022-04-16T10:35:27.838693Z",
     "shell.execute_reply": "2022-04-16T10:35:27.837754Z"
    },
    "papermill": {
     "duration": 0.395797,
     "end_time": "2022-04-16T10:35:27.840841",
     "exception": false,
     "start_time": "2022-04-16T10:35:27.445044",
     "status": "completed"
    },
    "tags": []
   },
   "outputs": [
    {
     "data": {
      "image/png": "[encoded data removed]",
      "text/plain": [
       "<Figure size 576x576 with 1 Axes>"
      ]
     },
     "metadata": {
      "needs_background": "light"
     },
     "output_type": "display_data"
    }
   ],
   "source": [
    "# color palette as dictionary\n",
    "palette = {0:\"tab:red\",\n",
    "           1:\"tab:orange\", \n",
    "           2:\"yellow\",\n",
    "           3:\"lime\",\n",
    "           4:\"darkgreen\"}\n",
    "\n",
    "sns.scatterplot(x='DER (St.)', y='sales growth (St.)', \n",
    "                hue='category', data=new_dataframe, s=80,\n",
    "                palette=palette)\n",
    "plt.title(\"DER vs Sales Growth (Standardisasi)\", fontsize=18, y=1.05)\n",
    "plt.show()"
   ]
  },
  {
   "cell_type": "markdown",
   "id": "5176d9e2",
   "metadata": {
    "papermill": {
     "duration": 0.082531,
     "end_time": "2022-04-16T10:35:28.005857",
     "exception": false,
     "start_time": "2022-04-16T10:35:27.923326",
     "status": "completed"
    },
    "tags": []
   },
   "source": [
    "# 3.7.3 Y vs Z View"
   ]
  },
  {
   "cell_type": "code",
   "execution_count": 28,
   "id": "5027e099",
   "metadata": {
    "execution": {
     "iopub.execute_input": "2022-04-16T10:35:28.171803Z",
     "iopub.status.busy": "2022-04-16T10:35:28.171310Z",
     "iopub.status.idle": "2022-04-16T10:35:28.480267Z",
     "shell.execute_reply": "2022-04-16T10:35:28.479484Z"
    },
    "papermill": {
     "duration": 0.394217,
     "end_time": "2022-04-16T10:35:28.482734",
     "exception": false,
     "start_time": "2022-04-16T10:35:28.088517",
     "status": "completed"
    },
    "tags": []
   },
   "outputs": [
    {
     "data": {
      "image/png": "[encoded data removed]",
      "text/plain": [
       "<Figure size 576x576 with 1 Axes>"
      ]
     },
     "metadata": {
      "needs_background": "light"
     },
     "output_type": "display_data"
    }
   ],
   "source": [
    "sns.scatterplot(x='ROA (St.)', y='sales growth (St.)', \n",
    "                hue='category', data=new_dataframe, s=80,\n",
    "                palette=palette)\n",
    "plt.title(\"ROA vs Sales Growth (Standardisasi)\", fontsize=18, y=1.05)\n",
    "plt.show()"
   ]
  },
  {
   "cell_type": "markdown",
   "id": "062f098e",
   "metadata": {
    "papermill": {
     "duration": 0.083065,
     "end_time": "2022-04-16T10:35:28.649573",
     "exception": false,
     "start_time": "2022-04-16T10:35:28.566508",
     "status": "completed"
    },
    "tags": []
   },
   "source": [
    "# 3.7.4 X vs Y View"
   ]
  },
  {
   "cell_type": "code",
   "execution_count": 29,
   "id": "88d37960",
   "metadata": {
    "execution": {
     "iopub.execute_input": "2022-04-16T10:35:28.816896Z",
     "iopub.status.busy": "2022-04-16T10:35:28.816593Z",
     "iopub.status.idle": "2022-04-16T10:35:29.130478Z",
     "shell.execute_reply": "2022-04-16T10:35:29.129639Z"
    },
    "papermill": {
     "duration": 0.400221,
     "end_time": "2022-04-16T10:35:29.132869",
     "exception": false,
     "start_time": "2022-04-16T10:35:28.732648",
     "status": "completed"
    },
    "tags": []
   },
   "outputs": [
    {
     "data": {
      "image/png": "[encoded data removed]",
      "text/plain": [
       "<Figure size 576x576 with 1 Axes>"
      ]
     },
     "metadata": {
      "needs_background": "light"
     },
     "output_type": "display_data"
    }
   ],
   "source": [
    "sns.scatterplot(x='DER (St.)', y='ROA (St.)', \n",
    "                hue='category', data=new_dataframe, s=80,\n",
    "                palette=palette)\n",
    "plt.title(\"DER vs ROA (Standardisasi)\", fontsize=18, y=1.05)\n",
    "plt.show()"
   ]
  },
  {
   "cell_type": "markdown",
   "id": "1817e9ed",
   "metadata": {
    "papermill": {
     "duration": 0.083488,
     "end_time": "2022-04-16T10:35:29.301551",
     "exception": false,
     "start_time": "2022-04-16T10:35:29.218063",
     "status": "completed"
    },
    "tags": []
   },
   "source": [
    "# 4. Export Result"
   ]
  },
  {
   "cell_type": "code",
   "execution_count": 30,
   "id": "045b3537",
   "metadata": {
    "execution": {
     "iopub.execute_input": "2022-04-16T10:35:29.470520Z",
     "iopub.status.busy": "2022-04-16T10:35:29.470241Z",
     "iopub.status.idle": "2022-04-16T10:35:29.482531Z",
     "shell.execute_reply": "2022-04-16T10:35:29.481698Z"
    },
    "papermill": {
     "duration": 0.09975,
     "end_time": "2022-04-16T10:35:29.484724",
     "exception": false,
     "start_time": "2022-04-16T10:35:29.384974",
     "status": "completed"
    },
    "tags": []
   },
   "outputs": [
    {
     "data": {
      "text/html": [
       "<div>\n",
       "<style scoped>\n",
       "    .dataframe tbody tr th:only-of-type {\n",
       "        vertical-align: middle;\n",
       "    }\n",
       "\n",
       "    .dataframe tbody tr th {\n",
       "        vertical-align: top;\n",
       "    }\n",
       "\n",
       "    .dataframe thead th {\n",
       "        text-align: right;\n",
       "    }\n",
       "</style>\n",
       "<table border=\"1\" class=\"dataframe\">\n",
       "  <thead>\n",
       "    <tr style=\"text-align: right;\">\n",
       "      <th></th>\n",
       "      <th>emiten</th>\n",
       "      <th>sales growth</th>\n",
       "      <th>DER</th>\n",
       "      <th>ROA</th>\n",
       "      <th>category</th>\n",
       "    </tr>\n",
       "  </thead>\n",
       "  <tbody>\n",
       "    <tr>\n",
       "      <th>0</th>\n",
       "      <td>AMFG</td>\n",
       "      <td>0.33</td>\n",
       "      <td>1.32</td>\n",
       "      <td>0.06</td>\n",
       "      <td>NaT</td>\n",
       "    </tr>\n",
       "    <tr>\n",
       "      <th>1</th>\n",
       "      <td>AMIN</td>\n",
       "      <td>0.41</td>\n",
       "      <td>1.14</td>\n",
       "      <td>-0.05</td>\n",
       "      <td>NaT</td>\n",
       "    </tr>\n",
       "    <tr>\n",
       "      <th>2</th>\n",
       "      <td>APII</td>\n",
       "      <td>0.03</td>\n",
       "      <td>0.49</td>\n",
       "      <td>0.05</td>\n",
       "      <td>NaT</td>\n",
       "    </tr>\n",
       "    <tr>\n",
       "      <th>3</th>\n",
       "      <td>ARKA</td>\n",
       "      <td>0.22</td>\n",
       "      <td>3.97</td>\n",
       "      <td>-0.02</td>\n",
       "      <td>NaT</td>\n",
       "    </tr>\n",
       "    <tr>\n",
       "      <th>4</th>\n",
       "      <td>ARNA</td>\n",
       "      <td>0.17</td>\n",
       "      <td>0.51</td>\n",
       "      <td>0.21</td>\n",
       "      <td>NaT</td>\n",
       "    </tr>\n",
       "  </tbody>\n",
       "</table>\n",
       "</div>"
      ],
      "text/plain": [
       "  emiten  sales growth   DER    ROA category\n",
       "0   AMFG          0.33  1.32   0.06      NaT\n",
       "1   AMIN          0.41  1.14  -0.05      NaT\n",
       "2   APII          0.03  0.49   0.05      NaT\n",
       "3   ARKA          0.22  3.97  -0.02      NaT\n",
       "4   ARNA          0.17  0.51   0.21      NaT"
      ]
     },
     "execution_count": 30,
     "metadata": {},
     "output_type": "execute_result"
    }
   ],
   "source": [
    "data.head(5)"
   ]
  },
  {
   "cell_type": "markdown",
   "id": "022968a8",
   "metadata": {
    "papermill": {
     "duration": 0.084301,
     "end_time": "2022-04-16T10:35:29.653078",
     "exception": false,
     "start_time": "2022-04-16T10:35:29.568777",
     "status": "completed"
    },
    "tags": []
   },
   "source": [
    "Adjust Initial Data (data):\n",
    "Delete outlier YELO and other column other than emiten, DER, ROA,sales growth."
   ]
  },
  {
   "cell_type": "code",
   "execution_count": 31,
   "id": "8e4a8d0c",
   "metadata": {
    "execution": {
     "iopub.execute_input": "2022-04-16T10:35:29.822943Z",
     "iopub.status.busy": "2022-04-16T10:35:29.822394Z",
     "iopub.status.idle": "2022-04-16T10:35:29.830757Z",
     "shell.execute_reply": "2022-04-16T10:35:29.829817Z"
    },
    "papermill": {
     "duration": 0.095406,
     "end_time": "2022-04-16T10:35:29.832709",
     "exception": false,
     "start_time": "2022-04-16T10:35:29.737303",
     "status": "completed"
    },
    "tags": []
   },
   "outputs": [],
   "source": [
    "# drop these row indexes\n",
    "# from dataFrame\n",
    "index_names = data[ data['emiten'] == 'AMFG' ].index\n",
    "data.drop(index_names, inplace = True)\n",
    "data.reset_index(drop=True, inplace=True)\n",
    "data.drop([\"category\"], axis=1, inplace=True)"
   ]
  },
  {
   "cell_type": "markdown",
   "id": "d85c44e1",
   "metadata": {
    "papermill": {
     "duration": 0.085887,
     "end_time": "2022-04-16T10:35:30.003469",
     "exception": false,
     "start_time": "2022-04-16T10:35:29.917582",
     "status": "completed"
    },
    "tags": []
   },
   "source": [
    "Concat **Industry Emiten List** dftemp, Result new_dataframe and Initial Data data"
   ]
  },
  {
   "cell_type": "code",
   "execution_count": 32,
   "id": "7b9dc906",
   "metadata": {
    "execution": {
     "iopub.execute_input": "2022-04-16T10:35:30.174164Z",
     "iopub.status.busy": "2022-04-16T10:35:30.173375Z",
     "iopub.status.idle": "2022-04-16T10:35:30.193311Z",
     "shell.execute_reply": "2022-04-16T10:35:30.192510Z"
    },
    "papermill": {
     "duration": 0.107688,
     "end_time": "2022-04-16T10:35:30.195628",
     "exception": false,
     "start_time": "2022-04-16T10:35:30.087940",
     "status": "completed"
    },
    "tags": []
   },
   "outputs": [
    {
     "data": {
      "text/html": [
       "<div>\n",
       "<style scoped>\n",
       "    .dataframe tbody tr th:only-of-type {\n",
       "        vertical-align: middle;\n",
       "    }\n",
       "\n",
       "    .dataframe tbody tr th {\n",
       "        vertical-align: top;\n",
       "    }\n",
       "\n",
       "    .dataframe thead th {\n",
       "        text-align: right;\n",
       "    }\n",
       "</style>\n",
       "<table border=\"1\" class=\"dataframe\">\n",
       "  <thead>\n",
       "    <tr style=\"text-align: right;\">\n",
       "      <th></th>\n",
       "      <th>emiten</th>\n",
       "      <th>sales growth</th>\n",
       "      <th>DER</th>\n",
       "      <th>ROA</th>\n",
       "    </tr>\n",
       "  </thead>\n",
       "  <tbody>\n",
       "    <tr>\n",
       "      <th>0</th>\n",
       "      <td>AMIN</td>\n",
       "      <td>0.41</td>\n",
       "      <td>1.14</td>\n",
       "      <td>-0.05</td>\n",
       "    </tr>\n",
       "    <tr>\n",
       "      <th>1</th>\n",
       "      <td>APII</td>\n",
       "      <td>0.03</td>\n",
       "      <td>0.49</td>\n",
       "      <td>0.05</td>\n",
       "    </tr>\n",
       "    <tr>\n",
       "      <th>2</th>\n",
       "      <td>ARKA</td>\n",
       "      <td>0.22</td>\n",
       "      <td>3.97</td>\n",
       "      <td>-0.02</td>\n",
       "    </tr>\n",
       "    <tr>\n",
       "      <th>3</th>\n",
       "      <td>ARNA</td>\n",
       "      <td>0.17</td>\n",
       "      <td>0.51</td>\n",
       "      <td>0.21</td>\n",
       "    </tr>\n",
       "    <tr>\n",
       "      <th>4</th>\n",
       "      <td>CAKK</td>\n",
       "      <td>0.30</td>\n",
       "      <td>0.88</td>\n",
       "      <td>0.03</td>\n",
       "    </tr>\n",
       "    <tr>\n",
       "      <th>5</th>\n",
       "      <td>CCSI</td>\n",
       "      <td>0.79</td>\n",
       "      <td>0.31</td>\n",
       "      <td>0.11</td>\n",
       "    </tr>\n",
       "    <tr>\n",
       "      <th>6</th>\n",
       "      <td>CTTH</td>\n",
       "      <td>-0.17</td>\n",
       "      <td>2.28</td>\n",
       "      <td>-0.05</td>\n",
       "    </tr>\n",
       "    <tr>\n",
       "      <th>7</th>\n",
       "      <td>HEXA</td>\n",
       "      <td>0.68</td>\n",
       "      <td>1.38</td>\n",
       "      <td>0.12</td>\n",
       "    </tr>\n",
       "    <tr>\n",
       "      <th>8</th>\n",
       "      <td>IKBI</td>\n",
       "      <td>0.67</td>\n",
       "      <td>0.67</td>\n",
       "      <td>0.01</td>\n",
       "    </tr>\n",
       "    <tr>\n",
       "      <th>9</th>\n",
       "      <td>IMPC</td>\n",
       "      <td>0.28</td>\n",
       "      <td>0.72</td>\n",
       "      <td>0.08</td>\n",
       "    </tr>\n",
       "    <tr>\n",
       "      <th>10</th>\n",
       "      <td>INTA</td>\n",
       "      <td>-0.22</td>\n",
       "      <td>-2.86</td>\n",
       "      <td>-0.32</td>\n",
       "    </tr>\n",
       "    <tr>\n",
       "      <th>11</th>\n",
       "      <td>JECC</td>\n",
       "      <td>0.16</td>\n",
       "      <td>1.58</td>\n",
       "      <td>-0.04</td>\n",
       "    </tr>\n",
       "    <tr>\n",
       "      <th>12</th>\n",
       "      <td>KBLI</td>\n",
       "      <td>-0.17</td>\n",
       "      <td>0.16</td>\n",
       "      <td>0.02</td>\n",
       "    </tr>\n",
       "    <tr>\n",
       "      <th>13</th>\n",
       "      <td>KIAS</td>\n",
       "      <td>0.41</td>\n",
       "      <td>0.18</td>\n",
       "      <td>-0.01</td>\n",
       "    </tr>\n",
       "    <tr>\n",
       "      <th>14</th>\n",
       "      <td>KOIN</td>\n",
       "      <td>0.99</td>\n",
       "      <td>8.53</td>\n",
       "      <td>-0.02</td>\n",
       "    </tr>\n",
       "    <tr>\n",
       "      <th>15</th>\n",
       "      <td>KPAL</td>\n",
       "      <td>0.00</td>\n",
       "      <td>3.15</td>\n",
       "      <td>-0.02</td>\n",
       "    </tr>\n",
       "    <tr>\n",
       "      <th>16</th>\n",
       "      <td>KRAH</td>\n",
       "      <td>0.00</td>\n",
       "      <td>16.33</td>\n",
       "      <td>-0.05</td>\n",
       "    </tr>\n",
       "    <tr>\n",
       "      <th>17</th>\n",
       "      <td>MLIA</td>\n",
       "      <td>0.16</td>\n",
       "      <td>0.91</td>\n",
       "      <td>0.08</td>\n",
       "    </tr>\n",
       "    <tr>\n",
       "      <th>18</th>\n",
       "      <td>SCCO</td>\n",
       "      <td>0.16</td>\n",
       "      <td>0.08</td>\n",
       "      <td>0.04</td>\n",
       "    </tr>\n",
       "    <tr>\n",
       "      <th>19</th>\n",
       "      <td>SINI</td>\n",
       "      <td>0.29</td>\n",
       "      <td>4.09</td>\n",
       "      <td>0.02</td>\n",
       "    </tr>\n",
       "    <tr>\n",
       "      <th>20</th>\n",
       "      <td>SKRN</td>\n",
       "      <td>-0.28</td>\n",
       "      <td>1.68</td>\n",
       "      <td>0.01</td>\n",
       "    </tr>\n",
       "    <tr>\n",
       "      <th>21</th>\n",
       "      <td>SPTO</td>\n",
       "      <td>0.17</td>\n",
       "      <td>0.54</td>\n",
       "      <td>0.06</td>\n",
       "    </tr>\n",
       "    <tr>\n",
       "      <th>22</th>\n",
       "      <td>TOTO</td>\n",
       "      <td>0.14</td>\n",
       "      <td>0.65</td>\n",
       "      <td>0.02</td>\n",
       "    </tr>\n",
       "    <tr>\n",
       "      <th>23</th>\n",
       "      <td>UNTR</td>\n",
       "      <td>0.24</td>\n",
       "      <td>0.59</td>\n",
       "      <td>0.09</td>\n",
       "    </tr>\n",
       "    <tr>\n",
       "      <th>24</th>\n",
       "      <td>VOKS</td>\n",
       "      <td>-0.15</td>\n",
       "      <td>1.91</td>\n",
       "      <td>-0.06</td>\n",
       "    </tr>\n",
       "    <tr>\n",
       "      <th>25</th>\n",
       "      <td>ASGR</td>\n",
       "      <td>-0.15</td>\n",
       "      <td>0.49</td>\n",
       "      <td>0.02</td>\n",
       "    </tr>\n",
       "    <tr>\n",
       "      <th>26</th>\n",
       "      <td>BLUE</td>\n",
       "      <td>0.54</td>\n",
       "      <td>0.13</td>\n",
       "      <td>0.17</td>\n",
       "    </tr>\n",
       "    <tr>\n",
       "      <th>27</th>\n",
       "      <td>DYAN</td>\n",
       "      <td>0.39</td>\n",
       "      <td>0.86</td>\n",
       "      <td>-0.11</td>\n",
       "    </tr>\n",
       "    <tr>\n",
       "      <th>28</th>\n",
       "      <td>ICON</td>\n",
       "      <td>0.15</td>\n",
       "      <td>0.55</td>\n",
       "      <td>0.01</td>\n",
       "    </tr>\n",
       "    <tr>\n",
       "      <th>29</th>\n",
       "      <td>JTPE</td>\n",
       "      <td>-0.19</td>\n",
       "      <td>0.65</td>\n",
       "      <td>0.04</td>\n",
       "    </tr>\n",
       "    <tr>\n",
       "      <th>30</th>\n",
       "      <td>KONI</td>\n",
       "      <td>0.37</td>\n",
       "      <td>0.70</td>\n",
       "      <td>0.03</td>\n",
       "    </tr>\n",
       "    <tr>\n",
       "      <th>31</th>\n",
       "      <td>LION</td>\n",
       "      <td>-0.10</td>\n",
       "      <td>0.51</td>\n",
       "      <td>-0.04</td>\n",
       "    </tr>\n",
       "    <tr>\n",
       "      <th>32</th>\n",
       "      <td>MDRN</td>\n",
       "      <td>-0.14</td>\n",
       "      <td>-1.55</td>\n",
       "      <td>-0.61</td>\n",
       "    </tr>\n",
       "    <tr>\n",
       "      <th>33</th>\n",
       "      <td>MFMI</td>\n",
       "      <td>0.04</td>\n",
       "      <td>1.82</td>\n",
       "      <td>0.12</td>\n",
       "    </tr>\n",
       "    <tr>\n",
       "      <th>34</th>\n",
       "      <td>SOSS</td>\n",
       "      <td>-0.03</td>\n",
       "      <td>1.02</td>\n",
       "      <td>0.05</td>\n",
       "    </tr>\n",
       "    <tr>\n",
       "      <th>35</th>\n",
       "      <td>TIRA</td>\n",
       "      <td>-0.08</td>\n",
       "      <td>1.21</td>\n",
       "      <td>0.01</td>\n",
       "    </tr>\n",
       "    <tr>\n",
       "      <th>36</th>\n",
       "      <td>ABMM</td>\n",
       "      <td>0.53</td>\n",
       "      <td>2.92</td>\n",
       "      <td>0.06</td>\n",
       "    </tr>\n",
       "    <tr>\n",
       "      <th>37</th>\n",
       "      <td>ASII</td>\n",
       "      <td>0.28</td>\n",
       "      <td>0.73</td>\n",
       "      <td>0.05</td>\n",
       "    </tr>\n",
       "    <tr>\n",
       "      <th>38</th>\n",
       "      <td>BHIT</td>\n",
       "      <td>0.15</td>\n",
       "      <td>0.73</td>\n",
       "      <td>0.01</td>\n",
       "    </tr>\n",
       "    <tr>\n",
       "      <th>39</th>\n",
       "      <td>BMTR</td>\n",
       "      <td>0.17</td>\n",
       "      <td>0.46</td>\n",
       "      <td>0.04</td>\n",
       "    </tr>\n",
       "    <tr>\n",
       "      <th>40</th>\n",
       "      <td>BNBR</td>\n",
       "      <td>-0.21</td>\n",
       "      <td>10.94</td>\n",
       "      <td>-0.05</td>\n",
       "    </tr>\n",
       "    <tr>\n",
       "      <th>41</th>\n",
       "      <td>MLPL</td>\n",
       "      <td>-0.02</td>\n",
       "      <td>2.33</td>\n",
       "      <td>-0.01</td>\n",
       "    </tr>\n",
       "    <tr>\n",
       "      <th>42</th>\n",
       "      <td>EMTK</td>\n",
       "      <td>0.13</td>\n",
       "      <td>0.12</td>\n",
       "      <td>0.07</td>\n",
       "    </tr>\n",
       "    <tr>\n",
       "      <th>43</th>\n",
       "      <td>TFAS</td>\n",
       "      <td>0.01</td>\n",
       "      <td>0.37</td>\n",
       "      <td>0.12</td>\n",
       "    </tr>\n",
       "  </tbody>\n",
       "</table>\n",
       "</div>"
      ],
      "text/plain": [
       "   emiten  sales growth    DER    ROA\n",
       "0    AMIN          0.41   1.14  -0.05\n",
       "1    APII          0.03   0.49   0.05\n",
       "2    ARKA          0.22   3.97  -0.02\n",
       "3    ARNA          0.17   0.51   0.21\n",
       "4    CAKK          0.30   0.88   0.03\n",
       "5    CCSI          0.79   0.31   0.11\n",
       "6    CTTH         -0.17   2.28  -0.05\n",
       "7    HEXA          0.68   1.38   0.12\n",
       "8    IKBI          0.67   0.67   0.01\n",
       "9    IMPC          0.28   0.72   0.08\n",
       "10   INTA         -0.22  -2.86  -0.32\n",
       "11   JECC          0.16   1.58  -0.04\n",
       "12   KBLI         -0.17   0.16   0.02\n",
       "13   KIAS          0.41   0.18  -0.01\n",
       "14   KOIN          0.99   8.53  -0.02\n",
       "15   KPAL          0.00   3.15  -0.02\n",
       "16   KRAH          0.00  16.33  -0.05\n",
       "17   MLIA          0.16   0.91   0.08\n",
       "18   SCCO          0.16   0.08   0.04\n",
       "19   SINI          0.29   4.09   0.02\n",
       "20   SKRN         -0.28   1.68   0.01\n",
       "21   SPTO          0.17   0.54   0.06\n",
       "22   TOTO          0.14   0.65   0.02\n",
       "23   UNTR          0.24   0.59   0.09\n",
       "24   VOKS         -0.15   1.91  -0.06\n",
       "25   ASGR         -0.15   0.49   0.02\n",
       "26   BLUE          0.54   0.13   0.17\n",
       "27   DYAN          0.39   0.86  -0.11\n",
       "28   ICON          0.15   0.55   0.01\n",
       "29   JTPE         -0.19   0.65   0.04\n",
       "30   KONI          0.37   0.70   0.03\n",
       "31   LION         -0.10   0.51  -0.04\n",
       "32   MDRN         -0.14  -1.55  -0.61\n",
       "33   MFMI          0.04   1.82   0.12\n",
       "34   SOSS         -0.03   1.02   0.05\n",
       "35   TIRA         -0.08   1.21   0.01\n",
       "36   ABMM          0.53   2.92   0.06\n",
       "37   ASII          0.28   0.73   0.05\n",
       "38   BHIT          0.15   0.73   0.01\n",
       "39   BMTR          0.17   0.46   0.04\n",
       "40   BNBR         -0.21  10.94  -0.05\n",
       "41   MLPL         -0.02   2.33  -0.01\n",
       "42   EMTK          0.13   0.12   0.07\n",
       "43   TFAS          0.01   0.37   0.12"
      ]
     },
     "execution_count": 32,
     "metadata": {},
     "output_type": "execute_result"
    }
   ],
   "source": [
    "data"
   ]
  },
  {
   "cell_type": "code",
   "execution_count": 33,
   "id": "00c349bf",
   "metadata": {
    "execution": {
     "iopub.execute_input": "2022-04-16T10:35:30.370822Z",
     "iopub.status.busy": "2022-04-16T10:35:30.370354Z",
     "iopub.status.idle": "2022-04-16T10:35:30.396277Z",
     "shell.execute_reply": "2022-04-16T10:35:30.395488Z"
    },
    "papermill": {
     "duration": 0.114114,
     "end_time": "2022-04-16T10:35:30.398368",
     "exception": false,
     "start_time": "2022-04-16T10:35:30.284254",
     "status": "completed"
    },
    "tags": []
   },
   "outputs": [
    {
     "data": {
      "text/html": [
       "<div>\n",
       "<style scoped>\n",
       "    .dataframe tbody tr th:only-of-type {\n",
       "        vertical-align: middle;\n",
       "    }\n",
       "\n",
       "    .dataframe tbody tr th {\n",
       "        vertical-align: top;\n",
       "    }\n",
       "\n",
       "    .dataframe thead th {\n",
       "        text-align: right;\n",
       "    }\n",
       "</style>\n",
       "<table border=\"1\" class=\"dataframe\">\n",
       "  <thead>\n",
       "    <tr style=\"text-align: right;\">\n",
       "      <th></th>\n",
       "      <th>emiten</th>\n",
       "      <th>stock name</th>\n",
       "      <th>category</th>\n",
       "      <th>sales growth (St.)</th>\n",
       "      <th>DER (St.)</th>\n",
       "      <th>ROA (St.)</th>\n",
       "      <th>emiten</th>\n",
       "      <th>sales growth</th>\n",
       "      <th>DER</th>\n",
       "      <th>ROA</th>\n",
       "    </tr>\n",
       "  </thead>\n",
       "  <tbody>\n",
       "    <tr>\n",
       "      <th>0</th>\n",
       "      <td>AMFG</td>\n",
       "      <td>Asahimas Flat Glass Tbk</td>\n",
       "      <td>4.0</td>\n",
       "      <td>0.579766</td>\n",
       "      <td>-0.120598</td>\n",
       "      <td>0.423833</td>\n",
       "      <td>AMIN</td>\n",
       "      <td>0.41</td>\n",
       "      <td>1.14</td>\n",
       "      <td>-0.05</td>\n",
       "    </tr>\n",
       "    <tr>\n",
       "      <th>1</th>\n",
       "      <td>AMIN</td>\n",
       "      <td>PT Ateliers Mecaniques D Indonesie Tbk.</td>\n",
       "      <td>4.0</td>\n",
       "      <td>0.861814</td>\n",
       "      <td>-0.178813</td>\n",
       "      <td>-0.468922</td>\n",
       "      <td>APII</td>\n",
       "      <td>0.03</td>\n",
       "      <td>0.49</td>\n",
       "      <td>0.05</td>\n",
       "    </tr>\n",
       "    <tr>\n",
       "      <th>2</th>\n",
       "      <td>APII</td>\n",
       "      <td>PT Arita Prima Indonesia Tbk.</td>\n",
       "      <td>4.0</td>\n",
       "      <td>-0.477915</td>\n",
       "      <td>-0.389033</td>\n",
       "      <td>0.342673</td>\n",
       "      <td>ARKA</td>\n",
       "      <td>0.22</td>\n",
       "      <td>3.97</td>\n",
       "      <td>-0.02</td>\n",
       "    </tr>\n",
       "    <tr>\n",
       "      <th>3</th>\n",
       "      <td>ARKA</td>\n",
       "      <td>PT Arkha Jayanti Persada Tbk.</td>\n",
       "      <td>4.0</td>\n",
       "      <td>0.191949</td>\n",
       "      <td>0.736453</td>\n",
       "      <td>-0.225443</td>\n",
       "      <td>ARNA</td>\n",
       "      <td>0.17</td>\n",
       "      <td>0.51</td>\n",
       "      <td>0.21</td>\n",
       "    </tr>\n",
       "    <tr>\n",
       "      <th>4</th>\n",
       "      <td>ARNA</td>\n",
       "      <td>Arwana Citramulia Tbk</td>\n",
       "      <td>4.0</td>\n",
       "      <td>0.015669</td>\n",
       "      <td>-0.382565</td>\n",
       "      <td>1.641226</td>\n",
       "      <td>CAKK</td>\n",
       "      <td>0.30</td>\n",
       "      <td>0.88</td>\n",
       "      <td>0.03</td>\n",
       "    </tr>\n",
       "  </tbody>\n",
       "</table>\n",
       "</div>"
      ],
      "text/plain": [
       "  emiten                               stock name  category  \\\n",
       "0   AMFG                  Asahimas Flat Glass Tbk       4.0   \n",
       "1   AMIN  PT Ateliers Mecaniques D Indonesie Tbk.       4.0   \n",
       "2   APII            PT Arita Prima Indonesia Tbk.       4.0   \n",
       "3   ARKA            PT Arkha Jayanti Persada Tbk.       4.0   \n",
       "4   ARNA                    Arwana Citramulia Tbk       4.0   \n",
       "\n",
       "   sales growth (St.)  DER (St.)  ROA (St.) emiten  sales growth   DER    ROA  \n",
       "0            0.579766  -0.120598   0.423833   AMIN          0.41  1.14  -0.05  \n",
       "1            0.861814  -0.178813  -0.468922   APII          0.03  0.49   0.05  \n",
       "2           -0.477915  -0.389033   0.342673   ARKA          0.22  3.97  -0.02  \n",
       "3            0.191949   0.736453  -0.225443   ARNA          0.17  0.51   0.21  \n",
       "4            0.015669  -0.382565   1.641226   CAKK          0.30  0.88   0.03  "
      ]
     },
     "execution_count": 33,
     "metadata": {},
     "output_type": "execute_result"
    }
   ],
   "source": [
    "dftemp = pd.read_csv('../input/daftar-emiten-sektor-industri-mar-2022/Daftar_Emiten_Sektor_Industri_Mar_2022.csv')\n",
    "df = pd.concat([dftemp, new_dataframe, data], axis=1)\n",
    "df.head(5)"
   ]
  },
  {
   "cell_type": "code",
   "execution_count": 34,
   "id": "693f05d7",
   "metadata": {
    "execution": {
     "iopub.execute_input": "2022-04-16T10:35:30.571293Z",
     "iopub.status.busy": "2022-04-16T10:35:30.570871Z",
     "iopub.status.idle": "2022-04-16T10:35:30.578768Z",
     "shell.execute_reply": "2022-04-16T10:35:30.578093Z"
    },
    "papermill": {
     "duration": 0.096502,
     "end_time": "2022-04-16T10:35:30.580639",
     "exception": false,
     "start_time": "2022-04-16T10:35:30.484137",
     "status": "completed"
    },
    "tags": []
   },
   "outputs": [],
   "source": [
    "df.to_csv('result.csv', index = False)"
   ]
  },
  {
   "cell_type": "markdown",
   "id": "4e2b91c2",
   "metadata": {
    "papermill": {
     "duration": 0.08435,
     "end_time": "2022-04-16T10:35:30.750653",
     "exception": false,
     "start_time": "2022-04-16T10:35:30.666303",
     "status": "completed"
    },
    "tags": []
   },
   "source": [
    "# 5. Get Centroid"
   ]
  },
  {
   "cell_type": "code",
   "execution_count": 35,
   "id": "f2e7cf22",
   "metadata": {
    "execution": {
     "iopub.execute_input": "2022-04-16T10:35:30.929201Z",
     "iopub.status.busy": "2022-04-16T10:35:30.928733Z",
     "iopub.status.idle": "2022-04-16T10:35:30.934880Z",
     "shell.execute_reply": "2022-04-16T10:35:30.934096Z"
    },
    "papermill": {
     "duration": 0.099972,
     "end_time": "2022-04-16T10:35:30.936668",
     "exception": false,
     "start_time": "2022-04-16T10:35:30.836696",
     "status": "completed"
    },
    "tags": []
   },
   "outputs": [
    {
     "data": {
      "text/plain": [
       "array([[-0.95387127,  3.86226622, -0.46892159],\n",
       "       [ 0.17432144, -0.2242259 ,  0.26151396],\n",
       "       [-1.21829143, -1.26063846, -3.83704106],\n",
       "       [-1.01316548, -0.09501888, -0.08525847],\n",
       "       [ 1.88423852,  0.20389563,  0.54557223]])"
      ]
     },
     "execution_count": 35,
     "metadata": {},
     "output_type": "execute_result"
    }
   ],
   "source": [
    "kmeans.cluster_centers_"
   ]
  },
  {
   "cell_type": "code",
   "execution_count": 36,
   "id": "b96f9a3b",
   "metadata": {
    "execution": {
     "iopub.execute_input": "2022-04-16T10:35:31.111545Z",
     "iopub.status.busy": "2022-04-16T10:35:31.111283Z",
     "iopub.status.idle": "2022-04-16T10:35:31.334513Z",
     "shell.execute_reply": "2022-04-16T10:35:31.333700Z"
    },
    "papermill": {
     "duration": 0.313479,
     "end_time": "2022-04-16T10:35:31.336642",
     "exception": false,
     "start_time": "2022-04-16T10:35:31.023163",
     "status": "completed"
    },
    "tags": []
   },
   "outputs": [
    {
     "data": {
      "image/png": "[encoded data removed]",
      "text/plain": [
       "<Figure size 576x576 with 1 Axes>"
      ]
     },
     "metadata": {
      "needs_background": "light"
     },
     "output_type": "display_data"
    }
   ],
   "source": [
    "from mpl_toolkits.mplot3d import Axes3D\n",
    "\n",
    "fig = plt.figure()\n",
    "ax = fig.add_subplot(111, projection = '3d')\n",
    "x = [0.07796577,3.3825386,-0.19978728,-0.22183117,-0.32525515]\n",
    "y = [1.27721216,-0.22442569,-1.39490532,0.15549501,-0.03911061]\n",
    "z = [-0.22773712,0.35006475,-0.89274149,4.44060221,0.14030381]\n",
    "\n",
    "ax.set_xlabel(\"DER (St.)\")\n",
    "ax.set_ylabel(\"ROA (St.)\")\n",
    "ax.set_zlabel(\"sales growth (St.)\")\n",
    "ax.scatter(x, y, z)\n",
    "plt.show()"
   ]
  },
  {
   "cell_type": "markdown",
   "id": "cb71ed1f",
   "metadata": {
    "papermill": {
     "duration": 0.08798,
     "end_time": "2022-04-16T10:35:31.513125",
     "exception": false,
     "start_time": "2022-04-16T10:35:31.425145",
     "status": "completed"
    },
    "tags": []
   },
   "source": [
    "# 6. Cluster Description"
   ]
  },
  {
   "cell_type": "code",
   "execution_count": 37,
   "id": "40aa85da",
   "metadata": {
    "execution": {
     "iopub.execute_input": "2022-04-16T10:35:31.693546Z",
     "iopub.status.busy": "2022-04-16T10:35:31.693042Z",
     "iopub.status.idle": "2022-04-16T10:35:31.722585Z",
     "shell.execute_reply": "2022-04-16T10:35:31.722003Z"
    },
    "papermill": {
     "duration": 0.122892,
     "end_time": "2022-04-16T10:35:31.724229",
     "exception": false,
     "start_time": "2022-04-16T10:35:31.601337",
     "status": "completed"
    },
    "tags": []
   },
   "outputs": [
    {
     "data": {
      "text/html": [
       "<div>\n",
       "<style scoped>\n",
       "    .dataframe tbody tr th:only-of-type {\n",
       "        vertical-align: middle;\n",
       "    }\n",
       "\n",
       "    .dataframe tbody tr th {\n",
       "        vertical-align: top;\n",
       "    }\n",
       "\n",
       "    .dataframe thead th {\n",
       "        text-align: right;\n",
       "    }\n",
       "</style>\n",
       "<table border=\"1\" class=\"dataframe\">\n",
       "  <thead>\n",
       "    <tr style=\"text-align: right;\">\n",
       "      <th></th>\n",
       "      <th>category</th>\n",
       "      <th>sales growth (St.)</th>\n",
       "      <th>DER (St.)</th>\n",
       "      <th>ROA (St.)</th>\n",
       "      <th>sales growth</th>\n",
       "      <th>DER</th>\n",
       "    </tr>\n",
       "  </thead>\n",
       "  <tbody>\n",
       "    <tr>\n",
       "      <th>count</th>\n",
       "      <td>24.0</td>\n",
       "      <td>24.000000</td>\n",
       "      <td>24.000000</td>\n",
       "      <td>24.000000</td>\n",
       "      <td>23.000000</td>\n",
       "      <td>23.000000</td>\n",
       "    </tr>\n",
       "    <tr>\n",
       "      <th>mean</th>\n",
       "      <td>4.0</td>\n",
       "      <td>0.174321</td>\n",
       "      <td>-0.224226</td>\n",
       "      <td>0.261514</td>\n",
       "      <td>0.124783</td>\n",
       "      <td>1.624348</td>\n",
       "    </tr>\n",
       "    <tr>\n",
       "      <th>std</th>\n",
       "      <td>0.0</td>\n",
       "      <td>0.408780</td>\n",
       "      <td>0.330665</td>\n",
       "      <td>0.522148</td>\n",
       "      <td>0.309881</td>\n",
       "      <td>2.902019</td>\n",
       "    </tr>\n",
       "    <tr>\n",
       "      <th>min</th>\n",
       "      <td>4.0</td>\n",
       "      <td>-0.548427</td>\n",
       "      <td>-0.521634</td>\n",
       "      <td>-0.955879</td>\n",
       "      <td>-0.280000</td>\n",
       "      <td>-2.860000</td>\n",
       "    </tr>\n",
       "    <tr>\n",
       "      <th>25%</th>\n",
       "      <td>4.0</td>\n",
       "      <td>-0.054843</td>\n",
       "      <td>-0.384182</td>\n",
       "      <td>0.018035</td>\n",
       "      <td>-0.125000</td>\n",
       "      <td>0.475000</td>\n",
       "    </tr>\n",
       "    <tr>\n",
       "      <th>50%</th>\n",
       "      <td>4.0</td>\n",
       "      <td>0.015669</td>\n",
       "      <td>-0.317882</td>\n",
       "      <td>0.261514</td>\n",
       "      <td>0.150000</td>\n",
       "      <td>0.650000</td>\n",
       "    </tr>\n",
       "    <tr>\n",
       "      <th>75%</th>\n",
       "      <td>4.0</td>\n",
       "      <td>0.447556</td>\n",
       "      <td>-0.234602</td>\n",
       "      <td>0.525282</td>\n",
       "      <td>0.230000</td>\n",
       "      <td>1.410000</td>\n",
       "    </tr>\n",
       "    <tr>\n",
       "      <th>max</th>\n",
       "      <td>4.0</td>\n",
       "      <td>0.861814</td>\n",
       "      <td>0.775263</td>\n",
       "      <td>1.641226</td>\n",
       "      <td>0.990000</td>\n",
       "      <td>10.940000</td>\n",
       "    </tr>\n",
       "  </tbody>\n",
       "</table>\n",
       "</div>"
      ],
      "text/plain": [
       "       category  sales growth (St.)  DER (St.)  ROA (St.)  sales growth  \\\n",
       "count      24.0           24.000000  24.000000  24.000000     23.000000   \n",
       "mean        4.0            0.174321  -0.224226   0.261514      0.124783   \n",
       "std         0.0            0.408780   0.330665   0.522148      0.309881   \n",
       "min         4.0           -0.548427  -0.521634  -0.955879     -0.280000   \n",
       "25%         4.0           -0.054843  -0.384182   0.018035     -0.125000   \n",
       "50%         4.0            0.015669  -0.317882   0.261514      0.150000   \n",
       "75%         4.0            0.447556  -0.234602   0.525282      0.230000   \n",
       "max         4.0            0.861814   0.775263   1.641226      0.990000   \n",
       "\n",
       "             DER  \n",
       "count  23.000000  \n",
       "mean    1.624348  \n",
       "std     2.902019  \n",
       "min    -2.860000  \n",
       "25%     0.475000  \n",
       "50%     0.650000  \n",
       "75%     1.410000  \n",
       "max    10.940000  "
      ]
     },
     "execution_count": 37,
     "metadata": {},
     "output_type": "execute_result"
    }
   ],
   "source": [
    "#Highly Positively Impacted\n",
    "df[df['category'] == 4].describe() "
   ]
  },
  {
   "cell_type": "code",
   "execution_count": 38,
   "id": "1aee8c38",
   "metadata": {
    "execution": {
     "iopub.execute_input": "2022-04-16T10:35:31.904363Z",
     "iopub.status.busy": "2022-04-16T10:35:31.903854Z",
     "iopub.status.idle": "2022-04-16T10:35:31.930610Z",
     "shell.execute_reply": "2022-04-16T10:35:31.929950Z"
    },
    "papermill": {
     "duration": 0.119213,
     "end_time": "2022-04-16T10:35:31.932376",
     "exception": false,
     "start_time": "2022-04-16T10:35:31.813163",
     "status": "completed"
    },
    "tags": []
   },
   "outputs": [
    {
     "data": {
      "text/html": [
       "<div>\n",
       "<style scoped>\n",
       "    .dataframe tbody tr th:only-of-type {\n",
       "        vertical-align: middle;\n",
       "    }\n",
       "\n",
       "    .dataframe tbody tr th {\n",
       "        vertical-align: top;\n",
       "    }\n",
       "\n",
       "    .dataframe thead th {\n",
       "        text-align: right;\n",
       "    }\n",
       "</style>\n",
       "<table border=\"1\" class=\"dataframe\">\n",
       "  <thead>\n",
       "    <tr style=\"text-align: right;\">\n",
       "      <th></th>\n",
       "      <th>category</th>\n",
       "      <th>sales growth (St.)</th>\n",
       "      <th>DER (St.)</th>\n",
       "      <th>ROA (St.)</th>\n",
       "      <th>sales growth</th>\n",
       "      <th>DER</th>\n",
       "    </tr>\n",
       "  </thead>\n",
       "  <tbody>\n",
       "    <tr>\n",
       "      <th>count</th>\n",
       "      <td>6.0</td>\n",
       "      <td>6.000000</td>\n",
       "      <td>6.000000</td>\n",
       "      <td>6.000000</td>\n",
       "      <td>6.000000</td>\n",
       "      <td>6.000000</td>\n",
       "    </tr>\n",
       "    <tr>\n",
       "      <th>mean</th>\n",
       "      <td>3.0</td>\n",
       "      <td>1.884239</td>\n",
       "      <td>0.203896</td>\n",
       "      <td>0.545572</td>\n",
       "      <td>0.241667</td>\n",
       "      <td>1.401667</td>\n",
       "    </tr>\n",
       "    <tr>\n",
       "      <th>std</th>\n",
       "      <td>0.0</td>\n",
       "      <td>0.606568</td>\n",
       "      <td>1.036610</td>\n",
       "      <td>0.582429</td>\n",
       "      <td>0.295392</td>\n",
       "      <td>1.055716</td>\n",
       "    </tr>\n",
       "    <tr>\n",
       "      <th>min</th>\n",
       "      <td>3.0</td>\n",
       "      <td>1.284886</td>\n",
       "      <td>-0.505463</td>\n",
       "      <td>-0.225443</td>\n",
       "      <td>-0.170000</td>\n",
       "      <td>0.670000</td>\n",
       "    </tr>\n",
       "    <tr>\n",
       "      <th>25%</th>\n",
       "      <td>3.0</td>\n",
       "      <td>1.434724</td>\n",
       "      <td>-0.418141</td>\n",
       "      <td>0.119485</td>\n",
       "      <td>0.070000</td>\n",
       "      <td>0.722500</td>\n",
       "    </tr>\n",
       "    <tr>\n",
       "      <th>50%</th>\n",
       "      <td>3.0</td>\n",
       "      <td>1.796098</td>\n",
       "      <td>-0.216006</td>\n",
       "      <td>0.626732</td>\n",
       "      <td>0.280000</td>\n",
       "      <td>0.795000</td>\n",
       "    </tr>\n",
       "    <tr>\n",
       "      <th>75%</th>\n",
       "      <td>3.0</td>\n",
       "      <td>2.104589</td>\n",
       "      <td>0.272352</td>\n",
       "      <td>0.890500</td>\n",
       "      <td>0.362500</td>\n",
       "      <td>1.925000</td>\n",
       "    </tr>\n",
       "    <tr>\n",
       "      <th>max</th>\n",
       "      <td>3.0</td>\n",
       "      <td>2.906663</td>\n",
       "      <td>2.211229</td>\n",
       "      <td>1.316588</td>\n",
       "      <td>0.670000</td>\n",
       "      <td>3.150000</td>\n",
       "    </tr>\n",
       "  </tbody>\n",
       "</table>\n",
       "</div>"
      ],
      "text/plain": [
       "       category  sales growth (St.)  DER (St.)  ROA (St.)  sales growth  \\\n",
       "count       6.0            6.000000   6.000000   6.000000      6.000000   \n",
       "mean        3.0            1.884239   0.203896   0.545572      0.241667   \n",
       "std         0.0            0.606568   1.036610   0.582429      0.295392   \n",
       "min         3.0            1.284886  -0.505463  -0.225443     -0.170000   \n",
       "25%         3.0            1.434724  -0.418141   0.119485      0.070000   \n",
       "50%         3.0            1.796098  -0.216006   0.626732      0.280000   \n",
       "75%         3.0            2.104589   0.272352   0.890500      0.362500   \n",
       "max         3.0            2.906663   2.211229   1.316588      0.670000   \n",
       "\n",
       "            DER  \n",
       "count  6.000000  \n",
       "mean   1.401667  \n",
       "std    1.055716  \n",
       "min    0.670000  \n",
       "25%    0.722500  \n",
       "50%    0.795000  \n",
       "75%    1.925000  \n",
       "max    3.150000  "
      ]
     },
     "execution_count": 38,
     "metadata": {},
     "output_type": "execute_result"
    }
   ],
   "source": [
    "#Positively Impacted\n",
    "df[df['category'] == 3].describe()"
   ]
  },
  {
   "cell_type": "code",
   "execution_count": 39,
   "id": "811ae29a",
   "metadata": {
    "execution": {
     "iopub.execute_input": "2022-04-16T10:35:32.116498Z",
     "iopub.status.busy": "2022-04-16T10:35:32.115980Z",
     "iopub.status.idle": "2022-04-16T10:35:32.142044Z",
     "shell.execute_reply": "2022-04-16T10:35:32.141485Z"
    },
    "papermill": {
     "duration": 0.120097,
     "end_time": "2022-04-16T10:35:32.143820",
     "exception": false,
     "start_time": "2022-04-16T10:35:32.023723",
     "status": "completed"
    },
    "tags": []
   },
   "outputs": [
    {
     "data": {
      "text/html": [
       "<div>\n",
       "<style scoped>\n",
       "    .dataframe tbody tr th:only-of-type {\n",
       "        vertical-align: middle;\n",
       "    }\n",
       "\n",
       "    .dataframe tbody tr th {\n",
       "        vertical-align: top;\n",
       "    }\n",
       "\n",
       "    .dataframe thead th {\n",
       "        text-align: right;\n",
       "    }\n",
       "</style>\n",
       "<table border=\"1\" class=\"dataframe\">\n",
       "  <thead>\n",
       "    <tr style=\"text-align: right;\">\n",
       "      <th></th>\n",
       "      <th>category</th>\n",
       "      <th>sales growth (St.)</th>\n",
       "      <th>DER (St.)</th>\n",
       "      <th>ROA (St.)</th>\n",
       "      <th>sales growth</th>\n",
       "      <th>DER</th>\n",
       "    </tr>\n",
       "  </thead>\n",
       "  <tbody>\n",
       "    <tr>\n",
       "      <th>count</th>\n",
       "      <td>2.0</td>\n",
       "      <td>2.000000</td>\n",
       "      <td>2.000000</td>\n",
       "      <td>2.000000</td>\n",
       "      <td>2.000000</td>\n",
       "      <td>2.000000</td>\n",
       "    </tr>\n",
       "    <tr>\n",
       "      <th>mean</th>\n",
       "      <td>2.0</td>\n",
       "      <td>-0.953871</td>\n",
       "      <td>3.862266</td>\n",
       "      <td>-0.468922</td>\n",
       "      <td>0.070000</td>\n",
       "      <td>1.620000</td>\n",
       "    </tr>\n",
       "    <tr>\n",
       "      <th>std</th>\n",
       "      <td>0.0</td>\n",
       "      <td>0.523525</td>\n",
       "      <td>1.232636</td>\n",
       "      <td>0.000000</td>\n",
       "      <td>0.127279</td>\n",
       "      <td>1.004092</td>\n",
       "    </tr>\n",
       "    <tr>\n",
       "      <th>min</th>\n",
       "      <td>2.0</td>\n",
       "      <td>-1.324059</td>\n",
       "      <td>2.990661</td>\n",
       "      <td>-0.468922</td>\n",
       "      <td>-0.020000</td>\n",
       "      <td>0.910000</td>\n",
       "    </tr>\n",
       "    <tr>\n",
       "      <th>25%</th>\n",
       "      <td>2.0</td>\n",
       "      <td>-1.138965</td>\n",
       "      <td>3.426464</td>\n",
       "      <td>-0.468922</td>\n",
       "      <td>0.025000</td>\n",
       "      <td>1.265000</td>\n",
       "    </tr>\n",
       "    <tr>\n",
       "      <th>50%</th>\n",
       "      <td>2.0</td>\n",
       "      <td>-0.953871</td>\n",
       "      <td>3.862266</td>\n",
       "      <td>-0.468922</td>\n",
       "      <td>0.070000</td>\n",
       "      <td>1.620000</td>\n",
       "    </tr>\n",
       "    <tr>\n",
       "      <th>75%</th>\n",
       "      <td>2.0</td>\n",
       "      <td>-0.768777</td>\n",
       "      <td>4.298069</td>\n",
       "      <td>-0.468922</td>\n",
       "      <td>0.115000</td>\n",
       "      <td>1.975000</td>\n",
       "    </tr>\n",
       "    <tr>\n",
       "      <th>max</th>\n",
       "      <td>2.0</td>\n",
       "      <td>-0.583683</td>\n",
       "      <td>4.733872</td>\n",
       "      <td>-0.468922</td>\n",
       "      <td>0.160000</td>\n",
       "      <td>2.330000</td>\n",
       "    </tr>\n",
       "  </tbody>\n",
       "</table>\n",
       "</div>"
      ],
      "text/plain": [
       "       category  sales growth (St.)  DER (St.)  ROA (St.)  sales growth  \\\n",
       "count       2.0            2.000000   2.000000   2.000000      2.000000   \n",
       "mean        2.0           -0.953871   3.862266  -0.468922      0.070000   \n",
       "std         0.0            0.523525   1.232636   0.000000      0.127279   \n",
       "min         2.0           -1.324059   2.990661  -0.468922     -0.020000   \n",
       "25%         2.0           -1.138965   3.426464  -0.468922      0.025000   \n",
       "50%         2.0           -0.953871   3.862266  -0.468922      0.070000   \n",
       "75%         2.0           -0.768777   4.298069  -0.468922      0.115000   \n",
       "max         2.0           -0.583683   4.733872  -0.468922      0.160000   \n",
       "\n",
       "            DER  \n",
       "count  2.000000  \n",
       "mean   1.620000  \n",
       "std    1.004092  \n",
       "min    0.910000  \n",
       "25%    1.265000  \n",
       "50%    1.620000  \n",
       "75%    1.975000  \n",
       "max    2.330000  "
      ]
     },
     "execution_count": 39,
     "metadata": {},
     "output_type": "execute_result"
    }
   ],
   "source": [
    "#Neutral Impacted\n",
    "df[df['category'] == 2].describe()"
   ]
  },
  {
   "cell_type": "code",
   "execution_count": 40,
   "id": "021cfb3a",
   "metadata": {
    "execution": {
     "iopub.execute_input": "2022-04-16T10:35:32.325894Z",
     "iopub.status.busy": "2022-04-16T10:35:32.325362Z",
     "iopub.status.idle": "2022-04-16T10:35:32.532533Z",
     "shell.execute_reply": "2022-04-16T10:35:32.531678Z"
    },
    "papermill": {
     "duration": 0.300312,
     "end_time": "2022-04-16T10:35:32.534502",
     "exception": false,
     "start_time": "2022-04-16T10:35:32.234190",
     "status": "completed"
    },
    "tags": []
   },
   "outputs": [
    {
     "data": {
      "text/html": [
       "<div>\n",
       "<style scoped>\n",
       "    .dataframe tbody tr th:only-of-type {\n",
       "        vertical-align: middle;\n",
       "    }\n",
       "\n",
       "    .dataframe tbody tr th {\n",
       "        vertical-align: top;\n",
       "    }\n",
       "\n",
       "    .dataframe thead th {\n",
       "        text-align: right;\n",
       "    }\n",
       "</style>\n",
       "<table border=\"1\" class=\"dataframe\">\n",
       "  <thead>\n",
       "    <tr style=\"text-align: right;\">\n",
       "      <th></th>\n",
       "      <th>category</th>\n",
       "      <th>sales growth (St.)</th>\n",
       "      <th>DER (St.)</th>\n",
       "      <th>ROA (St.)</th>\n",
       "      <th>sales growth</th>\n",
       "      <th>DER</th>\n",
       "    </tr>\n",
       "  </thead>\n",
       "  <tbody>\n",
       "    <tr>\n",
       "      <th>count</th>\n",
       "      <td>2.0</td>\n",
       "      <td>2.000000</td>\n",
       "      <td>2.000000</td>\n",
       "      <td>2.000000</td>\n",
       "      <td>2.000000</td>\n",
       "      <td>2.000000</td>\n",
       "    </tr>\n",
       "    <tr>\n",
       "      <th>mean</th>\n",
       "      <td>1.0</td>\n",
       "      <td>-1.218291</td>\n",
       "      <td>-1.260638</td>\n",
       "      <td>-3.837041</td>\n",
       "      <td>0.100000</td>\n",
       "      <td>1.700000</td>\n",
       "    </tr>\n",
       "    <tr>\n",
       "      <th>std</th>\n",
       "      <td>0.0</td>\n",
       "      <td>0.199438</td>\n",
       "      <td>0.299583</td>\n",
       "      <td>1.664265</td>\n",
       "      <td>0.084853</td>\n",
       "      <td>0.169706</td>\n",
       "    </tr>\n",
       "    <tr>\n",
       "      <th>min</th>\n",
       "      <td>1.0</td>\n",
       "      <td>-1.359316</td>\n",
       "      <td>-1.472476</td>\n",
       "      <td>-5.013854</td>\n",
       "      <td>0.040000</td>\n",
       "      <td>1.580000</td>\n",
       "    </tr>\n",
       "    <tr>\n",
       "      <th>25%</th>\n",
       "      <td>1.0</td>\n",
       "      <td>-1.288803</td>\n",
       "      <td>-1.366557</td>\n",
       "      <td>-4.425447</td>\n",
       "      <td>0.070000</td>\n",
       "      <td>1.640000</td>\n",
       "    </tr>\n",
       "    <tr>\n",
       "      <th>50%</th>\n",
       "      <td>1.0</td>\n",
       "      <td>-1.218291</td>\n",
       "      <td>-1.260638</td>\n",
       "      <td>-3.837041</td>\n",
       "      <td>0.100000</td>\n",
       "      <td>1.700000</td>\n",
       "    </tr>\n",
       "    <tr>\n",
       "      <th>75%</th>\n",
       "      <td>1.0</td>\n",
       "      <td>-1.147779</td>\n",
       "      <td>-1.154720</td>\n",
       "      <td>-3.248635</td>\n",
       "      <td>0.130000</td>\n",
       "      <td>1.760000</td>\n",
       "    </tr>\n",
       "    <tr>\n",
       "      <th>max</th>\n",
       "      <td>1.0</td>\n",
       "      <td>-1.077267</td>\n",
       "      <td>-1.048801</td>\n",
       "      <td>-2.660228</td>\n",
       "      <td>0.160000</td>\n",
       "      <td>1.820000</td>\n",
       "    </tr>\n",
       "  </tbody>\n",
       "</table>\n",
       "</div>"
      ],
      "text/plain": [
       "       category  sales growth (St.)  DER (St.)  ROA (St.)  sales growth  \\\n",
       "count       2.0            2.000000   2.000000   2.000000      2.000000   \n",
       "mean        1.0           -1.218291  -1.260638  -3.837041      0.100000   \n",
       "std         0.0            0.199438   0.299583   1.664265      0.084853   \n",
       "min         1.0           -1.359316  -1.472476  -5.013854      0.040000   \n",
       "25%         1.0           -1.288803  -1.366557  -4.425447      0.070000   \n",
       "50%         1.0           -1.218291  -1.260638  -3.837041      0.100000   \n",
       "75%         1.0           -1.147779  -1.154720  -3.248635      0.130000   \n",
       "max         1.0           -1.077267  -1.048801  -2.660228      0.160000   \n",
       "\n",
       "            DER  \n",
       "count  2.000000  \n",
       "mean   1.700000  \n",
       "std    0.169706  \n",
       "min    1.580000  \n",
       "25%    1.640000  \n",
       "50%    1.700000  \n",
       "75%    1.760000  \n",
       "max    1.820000  "
      ]
     },
     "execution_count": 40,
     "metadata": {},
     "output_type": "execute_result"
    }
   ],
   "source": [
    "#Negatively Impacted\n",
    "df[df['category'] == 1].describe()"
   ]
  },
  {
   "cell_type": "code",
   "execution_count": 41,
   "id": "25453c85",
   "metadata": {
    "execution": {
     "iopub.execute_input": "2022-04-16T10:35:32.718538Z",
     "iopub.status.busy": "2022-04-16T10:35:32.718045Z",
     "iopub.status.idle": "2022-04-16T10:35:32.744824Z",
     "shell.execute_reply": "2022-04-16T10:35:32.744290Z"
    },
    "papermill": {
     "duration": 0.121063,
     "end_time": "2022-04-16T10:35:32.746596",
     "exception": false,
     "start_time": "2022-04-16T10:35:32.625533",
     "status": "completed"
    },
    "tags": []
   },
   "outputs": [
    {
     "data": {
      "text/html": [
       "<div>\n",
       "<style scoped>\n",
       "    .dataframe tbody tr th:only-of-type {\n",
       "        vertical-align: middle;\n",
       "    }\n",
       "\n",
       "    .dataframe tbody tr th {\n",
       "        vertical-align: top;\n",
       "    }\n",
       "\n",
       "    .dataframe thead th {\n",
       "        text-align: right;\n",
       "    }\n",
       "</style>\n",
       "<table border=\"1\" class=\"dataframe\">\n",
       "  <thead>\n",
       "    <tr style=\"text-align: right;\">\n",
       "      <th></th>\n",
       "      <th>category</th>\n",
       "      <th>sales growth (St.)</th>\n",
       "      <th>DER (St.)</th>\n",
       "      <th>ROA (St.)</th>\n",
       "      <th>sales growth</th>\n",
       "      <th>DER</th>\n",
       "    </tr>\n",
       "  </thead>\n",
       "  <tbody>\n",
       "    <tr>\n",
       "      <th>count</th>\n",
       "      <td>11.0</td>\n",
       "      <td>11.000000</td>\n",
       "      <td>11.000000</td>\n",
       "      <td>11.000000</td>\n",
       "      <td>11.000000</td>\n",
       "      <td>11.000000</td>\n",
       "    </tr>\n",
       "    <tr>\n",
       "      <th>mean</th>\n",
       "      <td>0.0</td>\n",
       "      <td>-1.013165</td>\n",
       "      <td>-0.095019</td>\n",
       "      <td>-0.085258</td>\n",
       "      <td>0.223636</td>\n",
       "      <td>2.040909</td>\n",
       "    </tr>\n",
       "    <tr>\n",
       "      <th>std</th>\n",
       "      <td>0.0</td>\n",
       "      <td>0.298666</td>\n",
       "      <td>0.305813</td>\n",
       "      <td>0.295070</td>\n",
       "      <td>0.297331</td>\n",
       "      <td>4.860384</td>\n",
       "    </tr>\n",
       "    <tr>\n",
       "      <th>min</th>\n",
       "      <td>0.0</td>\n",
       "      <td>-1.570852</td>\n",
       "      <td>-0.495760</td>\n",
       "      <td>-0.550081</td>\n",
       "      <td>-0.150000</td>\n",
       "      <td>-1.550000</td>\n",
       "    </tr>\n",
       "    <tr>\n",
       "      <th>25%</th>\n",
       "      <td>0.0</td>\n",
       "      <td>-1.183035</td>\n",
       "      <td>-0.359926</td>\n",
       "      <td>-0.306603</td>\n",
       "      <td>-0.040000</td>\n",
       "      <td>0.155000</td>\n",
       "    </tr>\n",
       "    <tr>\n",
       "      <th>50%</th>\n",
       "      <td>0.0</td>\n",
       "      <td>-1.112523</td>\n",
       "      <td>-0.156174</td>\n",
       "      <td>0.018035</td>\n",
       "      <td>0.170000</td>\n",
       "      <td>0.540000</td>\n",
       "    </tr>\n",
       "    <tr>\n",
       "      <th>75%</th>\n",
       "      <td>0.0</td>\n",
       "      <td>-0.777591</td>\n",
       "      <td>0.130049</td>\n",
       "      <td>0.099195</td>\n",
       "      <td>0.470000</td>\n",
       "      <td>1.295000</td>\n",
       "    </tr>\n",
       "    <tr>\n",
       "      <th>max</th>\n",
       "      <td>0.0</td>\n",
       "      <td>-0.583683</td>\n",
       "      <td>0.471253</td>\n",
       "      <td>0.342673</td>\n",
       "      <td>0.680000</td>\n",
       "      <td>16.330000</td>\n",
       "    </tr>\n",
       "  </tbody>\n",
       "</table>\n",
       "</div>"
      ],
      "text/plain": [
       "       category  sales growth (St.)  DER (St.)  ROA (St.)  sales growth  \\\n",
       "count      11.0           11.000000  11.000000  11.000000     11.000000   \n",
       "mean        0.0           -1.013165  -0.095019  -0.085258      0.223636   \n",
       "std         0.0            0.298666   0.305813   0.295070      0.297331   \n",
       "min         0.0           -1.570852  -0.495760  -0.550081     -0.150000   \n",
       "25%         0.0           -1.183035  -0.359926  -0.306603     -0.040000   \n",
       "50%         0.0           -1.112523  -0.156174   0.018035      0.170000   \n",
       "75%         0.0           -0.777591   0.130049   0.099195      0.470000   \n",
       "max         0.0           -0.583683   0.471253   0.342673      0.680000   \n",
       "\n",
       "             DER  \n",
       "count  11.000000  \n",
       "mean    2.040909  \n",
       "std     4.860384  \n",
       "min    -1.550000  \n",
       "25%     0.155000  \n",
       "50%     0.540000  \n",
       "75%     1.295000  \n",
       "max    16.330000  "
      ]
     },
     "execution_count": 41,
     "metadata": {},
     "output_type": "execute_result"
    }
   ],
   "source": [
    "#Highly Negatively Impacted\n",
    "df[df['category'] == 0].describe()\n"
   ]
  }
 ],
 "metadata": {
  "kernelspec": {
   "display_name": "Python 3",
   "language": "python",
   "name": "python3"
  },
  "language_info": {
   "codemirror_mode": {
    "name": "ipython",
    "version": 3
   },
   "file_extension": ".py",
   "mimetype": "text/x-python",
   "name": "python",
   "nbconvert_exporter": "python",
   "pygments_lexer": "ipython3",
   "version": "3.7.12"
  },
  "papermill": {
   "default_parameters": {},
   "duration": 29.731976,
   "end_time": "2022-04-16T10:35:33.660925",
   "environment_variables": {},
   "exception": null,
   "input_path": "__notebook__.ipynb",
   "output_path": "__notebook__.ipynb",
   "parameters": {},
   "start_time": "2022-04-16T10:35:03.928949",
   "version": "2.3.4"
  }
 },
 "nbformat": 4,
 "nbformat_minor": 5
}
