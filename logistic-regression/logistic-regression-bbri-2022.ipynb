{
 "cells": [
  {
   "cell_type": "raw",
   "id": "825ad0db",
   "metadata": {
    "_cell_guid": "b1076dfc-b9ad-4769-8c92-a6c4dae69d19",
    "_uuid": "8f2839f25d086af736a60e9eeb907d3b93b6e0e5",
    "papermill": {
     "duration": 0.038112,
     "end_time": "2022-04-02T07:23:58.648601",
     "exception": false,
     "start_time": "2022-04-02T07:23:58.610489",
     "status": "completed"
    },
    "tags": []
   },
   "source": [
    "# This Python 3 environment comes with many helpful analytics libraries installed\n",
    "# It is defined by the kaggle/python Docker image: https://github.com/kaggle/docker-python\n",
    "# For example, here's several helpful packages to load\n",
    "\n",
    "import numpy as np # linear algebra\n",
    "import pandas as pd # data processing, CSV file I/O (e.g. pd.read_csv)\n",
    "\n",
    "# Input data files are available in the read-only \"../input/\" directory\n",
    "# For example, running this (by clicking run or pressing Shift+Enter) will list all files under the input directory\n",
    "\n",
    "import os\n",
    "for dirname, _, filenames in os.walk('/kaggle/input'):\n",
    "    for filename in filenames:\n",
    "        print(os.path.join(dirname, filename))\n",
    "\n",
    "# You can write up to 20GB to the current directory (/kaggle/working/) that gets preserved as output when you create a version using \"Save & Run All\" \n",
    "# You can also write temporary files to /kaggle/temp/, but they won't be saved outside of the current session"
   ]
  },
  {
   "cell_type": "markdown",
   "id": "8a50ca64",
   "metadata": {
    "papermill": {
     "duration": 0.034871,
     "end_time": "2022-04-02T07:23:58.720190",
     "exception": false,
     "start_time": "2022-04-02T07:23:58.685319",
     "status": "completed"
    },
    "tags": []
   },
   "source": [
    "***\n",
    "# Overview\n",
    "***"
   ]
  },
  {
   "cell_type": "markdown",
   "id": "b1e58314",
   "metadata": {
    "papermill": {
     "duration": 0.037991,
     "end_time": "2022-04-02T07:23:58.794571",
     "exception": false,
     "start_time": "2022-04-02T07:23:58.756580",
     "status": "completed"
    },
    "tags": []
   },
   "source": [
    "In this notebook, we will see how much of the percentage return will be generated for BBRI shares by observing the data from 2021 to 2022 based on data taken from yahoo finance!"
   ]
  },
  {
   "cell_type": "markdown",
   "id": "fce1298d",
   "metadata": {
    "papermill": {
     "duration": 0.037883,
     "end_time": "2022-04-02T07:23:58.870325",
     "exception": false,
     "start_time": "2022-04-02T07:23:58.832442",
     "status": "completed"
    },
    "tags": []
   },
   "source": [
    "***\n",
    "# Libraries\n",
    "***"
   ]
  },
  {
   "cell_type": "markdown",
   "id": "4814abbc",
   "metadata": {
    "papermill": {
     "duration": 0.036123,
     "end_time": "2022-04-02T07:23:58.942881",
     "exception": false,
     "start_time": "2022-04-02T07:23:58.906758",
     "status": "completed"
    },
    "tags": []
   },
   "source": [
    "Import common libraries for data analysis. "
   ]
  },
  {
   "cell_type": "code",
   "execution_count": 1,
   "id": "bb51d1b3",
   "metadata": {
    "execution": {
     "iopub.execute_input": "2022-04-02T07:23:59.030597Z",
     "iopub.status.busy": "2022-04-02T07:23:59.023870Z",
     "iopub.status.idle": "2022-04-02T07:23:59.033864Z",
     "shell.execute_reply": "2022-04-02T07:23:59.034451Z",
     "shell.execute_reply.started": "2022-04-02T07:19:00.585988Z"
    },
    "papermill": {
     "duration": 0.054469,
     "end_time": "2022-04-02T07:23:59.034820",
     "exception": false,
     "start_time": "2022-04-02T07:23:58.980351",
     "status": "completed"
    },
    "tags": []
   },
   "outputs": [],
   "source": [
    "# Data Manipulation\n",
    "import numpy as np\n",
    "import pandas as pd\n",
    "\n",
    "# Plotting graphs\n",
    "import matplotlib.pyplot as plt"
   ]
  },
  {
   "cell_type": "markdown",
   "id": "0400e0e9",
   "metadata": {
    "papermill": {
     "duration": 0.035978,
     "end_time": "2022-04-02T07:23:59.106993",
     "exception": false,
     "start_time": "2022-04-02T07:23:59.071015",
     "status": "completed"
    },
    "tags": []
   },
   "source": [
    "***\n",
    "# Data Understanding\n",
    "***"
   ]
  },
  {
   "cell_type": "markdown",
   "id": "d2a5d1b9",
   "metadata": {
    "papermill": {
     "duration": 0.034376,
     "end_time": "2022-04-02T07:23:59.176088",
     "exception": false,
     "start_time": "2022-04-02T07:23:59.141712",
     "status": "completed"
    },
    "tags": []
   },
   "source": [
    "I used is JKSE and BBRI Stocks for 1 year (monthly) starting from March 2021 to March 2022 for the dataset, from Yahoo Finance\n",
    "* [BBRI historical data stock April 2021 - April 2022](https://finance.yahoo.com/quote/UNVR/history?period1=1617333580&period2=1648869580&interval=1mo&filter=history&frequency=1mo&includeAdjustedClose=true)\n",
    "\n"
   ]
  },
  {
   "cell_type": "markdown",
   "id": "b83df93a",
   "metadata": {
    "papermill": {
     "duration": 0.03428,
     "end_time": "2022-04-02T07:23:59.244791",
     "exception": false,
     "start_time": "2022-04-02T07:23:59.210511",
     "status": "completed"
    },
    "tags": []
   },
   "source": [
    "# **Data Load**"
   ]
  },
  {
   "cell_type": "code",
   "execution_count": 2,
   "id": "4429774d",
   "metadata": {
    "execution": {
     "iopub.execute_input": "2022-04-02T07:23:59.322077Z",
     "iopub.status.busy": "2022-04-02T07:23:59.321033Z",
     "iopub.status.idle": "2022-04-02T07:23:59.336467Z",
     "shell.execute_reply": "2022-04-02T07:23:59.337111Z",
     "shell.execute_reply.started": "2022-04-02T07:19:00.718242Z"
    },
    "papermill": {
     "duration": 0.056252,
     "end_time": "2022-04-02T07:23:59.337322",
     "exception": false,
     "start_time": "2022-04-02T07:23:59.281070",
     "status": "completed"
    },
    "tags": []
   },
   "outputs": [],
   "source": [
    "#get data finance BBRI march - april 2022\n",
    "bbri = pd.read_csv(\"../input/dataset-bbri-march-april-2022/BBRI.JK.March-April.csv\")"
   ]
  },
  {
   "cell_type": "code",
   "execution_count": 3,
   "id": "54200fc9",
   "metadata": {
    "execution": {
     "iopub.execute_input": "2022-04-02T07:23:59.415568Z",
     "iopub.status.busy": "2022-04-02T07:23:59.409541Z",
     "iopub.status.idle": "2022-04-02T07:23:59.419326Z",
     "shell.execute_reply": "2022-04-02T07:23:59.419929Z",
     "shell.execute_reply.started": "2022-04-02T07:19:00.836843Z"
    },
    "papermill": {
     "duration": 0.047973,
     "end_time": "2022-04-02T07:23:59.420129",
     "exception": false,
     "start_time": "2022-04-02T07:23:59.372156",
     "status": "completed"
    },
    "tags": []
   },
   "outputs": [
    {
     "data": {
      "text/plain": [
       "(23, 7)"
      ]
     },
     "execution_count": 3,
     "metadata": {},
     "output_type": "execute_result"
    }
   ],
   "source": [
    "bbri.shape"
   ]
  },
  {
   "cell_type": "markdown",
   "id": "a726cd10",
   "metadata": {
    "papermill": {
     "duration": 0.034533,
     "end_time": "2022-04-02T07:23:59.491500",
     "exception": false,
     "start_time": "2022-04-02T07:23:59.456967",
     "status": "completed"
    },
    "tags": []
   },
   "source": [
    "# Understanding the table\t\n",
    "01. **Date:** Date of the day.\n",
    "02. **Open:** The price at which a stock started trading at the opening of the given date.\n",
    "03. **High:** The highest price at which a stock traded during the date.\n",
    "04. **Low:** The lowest price during the date.\n",
    "05. **Close:** The price of an individual stock when the stock exchange closed for the given date.\n",
    "\n",
    "06. **Adj Close:** Adjusted values incorporate changes resulting from corporate actions such as dividend payments, stock splits, or new share issuance.\n",
    "\n",
    "07. **Volume:** The number of shares that exchange hands for a stock within a specific given date."
   ]
  },
  {
   "cell_type": "code",
   "execution_count": 4,
   "id": "5f0300e1",
   "metadata": {
    "execution": {
     "iopub.execute_input": "2022-04-02T07:23:59.571115Z",
     "iopub.status.busy": "2022-04-02T07:23:59.570407Z",
     "iopub.status.idle": "2022-04-02T07:23:59.591110Z",
     "shell.execute_reply": "2022-04-02T07:23:59.591680Z",
     "shell.execute_reply.started": "2022-04-02T07:19:01.036196Z"
    },
    "papermill": {
     "duration": 0.065462,
     "end_time": "2022-04-02T07:23:59.591911",
     "exception": false,
     "start_time": "2022-04-02T07:23:59.526449",
     "status": "completed"
    },
    "tags": []
   },
   "outputs": [
    {
     "data": {
      "text/html": [
       "<div>\n",
       "<style scoped>\n",
       "    .dataframe tbody tr th:only-of-type {\n",
       "        vertical-align: middle;\n",
       "    }\n",
       "\n",
       "    .dataframe tbody tr th {\n",
       "        vertical-align: top;\n",
       "    }\n",
       "\n",
       "    .dataframe thead th {\n",
       "        text-align: right;\n",
       "    }\n",
       "</style>\n",
       "<table border=\"1\" class=\"dataframe\">\n",
       "  <thead>\n",
       "    <tr style=\"text-align: right;\">\n",
       "      <th></th>\n",
       "      <th>Date</th>\n",
       "      <th>Open</th>\n",
       "      <th>High</th>\n",
       "      <th>Low</th>\n",
       "      <th>Close</th>\n",
       "      <th>Adj Close</th>\n",
       "      <th>Volume</th>\n",
       "    </tr>\n",
       "  </thead>\n",
       "  <tbody>\n",
       "    <tr>\n",
       "      <th>0</th>\n",
       "      <td>2022-03-02</td>\n",
       "      <td>4680.0</td>\n",
       "      <td>4690.0</td>\n",
       "      <td>4550.0</td>\n",
       "      <td>4560.0</td>\n",
       "      <td>4386.129883</td>\n",
       "      <td>186635200</td>\n",
       "    </tr>\n",
       "    <tr>\n",
       "      <th>1</th>\n",
       "      <td>2022-03-04</td>\n",
       "      <td>4720.0</td>\n",
       "      <td>4730.0</td>\n",
       "      <td>4610.0</td>\n",
       "      <td>4670.0</td>\n",
       "      <td>4491.935547</td>\n",
       "      <td>292022600</td>\n",
       "    </tr>\n",
       "    <tr>\n",
       "      <th>2</th>\n",
       "      <td>2022-03-07</td>\n",
       "      <td>4580.0</td>\n",
       "      <td>4630.0</td>\n",
       "      <td>4520.0</td>\n",
       "      <td>4520.0</td>\n",
       "      <td>4347.654785</td>\n",
       "      <td>224515800</td>\n",
       "    </tr>\n",
       "    <tr>\n",
       "      <th>3</th>\n",
       "      <td>2022-03-08</td>\n",
       "      <td>4500.0</td>\n",
       "      <td>4560.0</td>\n",
       "      <td>4430.0</td>\n",
       "      <td>4430.0</td>\n",
       "      <td>4261.086426</td>\n",
       "      <td>214870200</td>\n",
       "    </tr>\n",
       "    <tr>\n",
       "      <th>4</th>\n",
       "      <td>2022-03-09</td>\n",
       "      <td>4530.0</td>\n",
       "      <td>4590.0</td>\n",
       "      <td>4500.0</td>\n",
       "      <td>4570.0</td>\n",
       "      <td>4395.748535</td>\n",
       "      <td>191967100</td>\n",
       "    </tr>\n",
       "  </tbody>\n",
       "</table>\n",
       "</div>"
      ],
      "text/plain": [
       "         Date    Open    High     Low   Close    Adj Close     Volume\n",
       "0  2022-03-02  4680.0  4690.0  4550.0  4560.0  4386.129883  186635200\n",
       "1  2022-03-04  4720.0  4730.0  4610.0  4670.0  4491.935547  292022600\n",
       "2  2022-03-07  4580.0  4630.0  4520.0  4520.0  4347.654785  224515800\n",
       "3  2022-03-08  4500.0  4560.0  4430.0  4430.0  4261.086426  214870200\n",
       "4  2022-03-09  4530.0  4590.0  4500.0  4570.0  4395.748535  191967100"
      ]
     },
     "execution_count": 4,
     "metadata": {},
     "output_type": "execute_result"
    }
   ],
   "source": [
    "bbri.head()"
   ]
  },
  {
   "cell_type": "code",
   "execution_count": 5,
   "id": "1e3062ec",
   "metadata": {
    "execution": {
     "iopub.execute_input": "2022-04-02T07:23:59.690975Z",
     "iopub.status.busy": "2022-04-02T07:23:59.689867Z",
     "iopub.status.idle": "2022-04-02T07:23:59.694315Z",
     "shell.execute_reply": "2022-04-02T07:23:59.694854Z",
     "shell.execute_reply.started": "2022-04-02T07:19:01.229785Z"
    },
    "papermill": {
     "duration": 0.067661,
     "end_time": "2022-04-02T07:23:59.695056",
     "exception": false,
     "start_time": "2022-04-02T07:23:59.627395",
     "status": "completed"
    },
    "tags": []
   },
   "outputs": [
    {
     "data": {
      "text/html": [
       "<div>\n",
       "<style scoped>\n",
       "    .dataframe tbody tr th:only-of-type {\n",
       "        vertical-align: middle;\n",
       "    }\n",
       "\n",
       "    .dataframe tbody tr th {\n",
       "        vertical-align: top;\n",
       "    }\n",
       "\n",
       "    .dataframe thead th {\n",
       "        text-align: right;\n",
       "    }\n",
       "</style>\n",
       "<table border=\"1\" class=\"dataframe\">\n",
       "  <thead>\n",
       "    <tr style=\"text-align: right;\">\n",
       "      <th></th>\n",
       "      <th>Date</th>\n",
       "      <th>Open</th>\n",
       "      <th>High</th>\n",
       "      <th>Low</th>\n",
       "      <th>Close</th>\n",
       "      <th>Adj Close</th>\n",
       "      <th>Volume</th>\n",
       "    </tr>\n",
       "  </thead>\n",
       "  <tbody>\n",
       "    <tr>\n",
       "      <th>0</th>\n",
       "      <td>2022-03-02</td>\n",
       "      <td>4680.0</td>\n",
       "      <td>4690.0</td>\n",
       "      <td>4550.0</td>\n",
       "      <td>4560.0</td>\n",
       "      <td>4386.129883</td>\n",
       "      <td>186635200</td>\n",
       "    </tr>\n",
       "    <tr>\n",
       "      <th>1</th>\n",
       "      <td>2022-03-04</td>\n",
       "      <td>4720.0</td>\n",
       "      <td>4730.0</td>\n",
       "      <td>4610.0</td>\n",
       "      <td>4670.0</td>\n",
       "      <td>4491.935547</td>\n",
       "      <td>292022600</td>\n",
       "    </tr>\n",
       "    <tr>\n",
       "      <th>2</th>\n",
       "      <td>2022-03-07</td>\n",
       "      <td>4580.0</td>\n",
       "      <td>4630.0</td>\n",
       "      <td>4520.0</td>\n",
       "      <td>4520.0</td>\n",
       "      <td>4347.654785</td>\n",
       "      <td>224515800</td>\n",
       "    </tr>\n",
       "    <tr>\n",
       "      <th>3</th>\n",
       "      <td>2022-03-08</td>\n",
       "      <td>4500.0</td>\n",
       "      <td>4560.0</td>\n",
       "      <td>4430.0</td>\n",
       "      <td>4430.0</td>\n",
       "      <td>4261.086426</td>\n",
       "      <td>214870200</td>\n",
       "    </tr>\n",
       "    <tr>\n",
       "      <th>4</th>\n",
       "      <td>2022-03-09</td>\n",
       "      <td>4530.0</td>\n",
       "      <td>4590.0</td>\n",
       "      <td>4500.0</td>\n",
       "      <td>4570.0</td>\n",
       "      <td>4395.748535</td>\n",
       "      <td>191967100</td>\n",
       "    </tr>\n",
       "    <tr>\n",
       "      <th>5</th>\n",
       "      <td>2022-03-10</td>\n",
       "      <td>4640.0</td>\n",
       "      <td>4640.0</td>\n",
       "      <td>4510.0</td>\n",
       "      <td>4570.0</td>\n",
       "      <td>4395.748535</td>\n",
       "      <td>225575800</td>\n",
       "    </tr>\n",
       "    <tr>\n",
       "      <th>6</th>\n",
       "      <td>2022-03-11</td>\n",
       "      <td>4400.0</td>\n",
       "      <td>4440.0</td>\n",
       "      <td>4370.0</td>\n",
       "      <td>4400.0</td>\n",
       "      <td>4400.000000</td>\n",
       "      <td>275965300</td>\n",
       "    </tr>\n",
       "    <tr>\n",
       "      <th>7</th>\n",
       "      <td>2022-03-14</td>\n",
       "      <td>4440.0</td>\n",
       "      <td>4540.0</td>\n",
       "      <td>4410.0</td>\n",
       "      <td>4520.0</td>\n",
       "      <td>4520.000000</td>\n",
       "      <td>212052100</td>\n",
       "    </tr>\n",
       "    <tr>\n",
       "      <th>8</th>\n",
       "      <td>2022-03-15</td>\n",
       "      <td>4550.0</td>\n",
       "      <td>4640.0</td>\n",
       "      <td>4530.0</td>\n",
       "      <td>4610.0</td>\n",
       "      <td>4610.000000</td>\n",
       "      <td>357755700</td>\n",
       "    </tr>\n",
       "    <tr>\n",
       "      <th>9</th>\n",
       "      <td>2022-03-16</td>\n",
       "      <td>4650.0</td>\n",
       "      <td>4660.0</td>\n",
       "      <td>4610.0</td>\n",
       "      <td>4650.0</td>\n",
       "      <td>4650.000000</td>\n",
       "      <td>226817000</td>\n",
       "    </tr>\n",
       "    <tr>\n",
       "      <th>10</th>\n",
       "      <td>2022-03-17</td>\n",
       "      <td>4690.0</td>\n",
       "      <td>4700.0</td>\n",
       "      <td>4610.0</td>\n",
       "      <td>4650.0</td>\n",
       "      <td>4650.000000</td>\n",
       "      <td>224068000</td>\n",
       "    </tr>\n",
       "    <tr>\n",
       "      <th>11</th>\n",
       "      <td>2022-03-18</td>\n",
       "      <td>4700.0</td>\n",
       "      <td>4700.0</td>\n",
       "      <td>4580.0</td>\n",
       "      <td>4580.0</td>\n",
       "      <td>4580.000000</td>\n",
       "      <td>257863400</td>\n",
       "    </tr>\n",
       "    <tr>\n",
       "      <th>12</th>\n",
       "      <td>2022-03-21</td>\n",
       "      <td>4600.0</td>\n",
       "      <td>4630.0</td>\n",
       "      <td>4560.0</td>\n",
       "      <td>4590.0</td>\n",
       "      <td>4590.000000</td>\n",
       "      <td>118791900</td>\n",
       "    </tr>\n",
       "    <tr>\n",
       "      <th>13</th>\n",
       "      <td>2022-03-22</td>\n",
       "      <td>4690.0</td>\n",
       "      <td>4710.0</td>\n",
       "      <td>4640.0</td>\n",
       "      <td>4640.0</td>\n",
       "      <td>4640.000000</td>\n",
       "      <td>177758500</td>\n",
       "    </tr>\n",
       "    <tr>\n",
       "      <th>14</th>\n",
       "      <td>2022-03-23</td>\n",
       "      <td>4680.0</td>\n",
       "      <td>4690.0</td>\n",
       "      <td>4620.0</td>\n",
       "      <td>4650.0</td>\n",
       "      <td>4650.000000</td>\n",
       "      <td>146545100</td>\n",
       "    </tr>\n",
       "    <tr>\n",
       "      <th>15</th>\n",
       "      <td>2022-03-24</td>\n",
       "      <td>4640.0</td>\n",
       "      <td>4730.0</td>\n",
       "      <td>4620.0</td>\n",
       "      <td>4730.0</td>\n",
       "      <td>4730.000000</td>\n",
       "      <td>206271600</td>\n",
       "    </tr>\n",
       "    <tr>\n",
       "      <th>16</th>\n",
       "      <td>2022-03-25</td>\n",
       "      <td>4760.0</td>\n",
       "      <td>4760.0</td>\n",
       "      <td>4650.0</td>\n",
       "      <td>4710.0</td>\n",
       "      <td>4710.000000</td>\n",
       "      <td>137104800</td>\n",
       "    </tr>\n",
       "    <tr>\n",
       "      <th>17</th>\n",
       "      <td>2022-03-28</td>\n",
       "      <td>4730.0</td>\n",
       "      <td>4740.0</td>\n",
       "      <td>4670.0</td>\n",
       "      <td>4730.0</td>\n",
       "      <td>4730.000000</td>\n",
       "      <td>106801800</td>\n",
       "    </tr>\n",
       "    <tr>\n",
       "      <th>18</th>\n",
       "      <td>2022-03-29</td>\n",
       "      <td>4750.0</td>\n",
       "      <td>4750.0</td>\n",
       "      <td>4670.0</td>\n",
       "      <td>4690.0</td>\n",
       "      <td>4690.000000</td>\n",
       "      <td>93155100</td>\n",
       "    </tr>\n",
       "    <tr>\n",
       "      <th>19</th>\n",
       "      <td>2022-03-30</td>\n",
       "      <td>4740.0</td>\n",
       "      <td>4740.0</td>\n",
       "      <td>4690.0</td>\n",
       "      <td>4710.0</td>\n",
       "      <td>4710.000000</td>\n",
       "      <td>83364400</td>\n",
       "    </tr>\n",
       "    <tr>\n",
       "      <th>20</th>\n",
       "      <td>2022-03-31</td>\n",
       "      <td>4700.0</td>\n",
       "      <td>4750.0</td>\n",
       "      <td>4660.0</td>\n",
       "      <td>4660.0</td>\n",
       "      <td>4660.000000</td>\n",
       "      <td>158650000</td>\n",
       "    </tr>\n",
       "    <tr>\n",
       "      <th>21</th>\n",
       "      <td>2022-04-01</td>\n",
       "      <td>4690.0</td>\n",
       "      <td>4730.0</td>\n",
       "      <td>4630.0</td>\n",
       "      <td>4730.0</td>\n",
       "      <td>4730.000000</td>\n",
       "      <td>145105000</td>\n",
       "    </tr>\n",
       "    <tr>\n",
       "      <th>22</th>\n",
       "      <td>2022-04-01</td>\n",
       "      <td>4690.0</td>\n",
       "      <td>4730.0</td>\n",
       "      <td>4630.0</td>\n",
       "      <td>4730.0</td>\n",
       "      <td>4730.000000</td>\n",
       "      <td>145105000</td>\n",
       "    </tr>\n",
       "  </tbody>\n",
       "</table>\n",
       "</div>"
      ],
      "text/plain": [
       "          Date    Open    High     Low   Close    Adj Close     Volume\n",
       "0   2022-03-02  4680.0  4690.0  4550.0  4560.0  4386.129883  186635200\n",
       "1   2022-03-04  4720.0  4730.0  4610.0  4670.0  4491.935547  292022600\n",
       "2   2022-03-07  4580.0  4630.0  4520.0  4520.0  4347.654785  224515800\n",
       "3   2022-03-08  4500.0  4560.0  4430.0  4430.0  4261.086426  214870200\n",
       "4   2022-03-09  4530.0  4590.0  4500.0  4570.0  4395.748535  191967100\n",
       "5   2022-03-10  4640.0  4640.0  4510.0  4570.0  4395.748535  225575800\n",
       "6   2022-03-11  4400.0  4440.0  4370.0  4400.0  4400.000000  275965300\n",
       "7   2022-03-14  4440.0  4540.0  4410.0  4520.0  4520.000000  212052100\n",
       "8   2022-03-15  4550.0  4640.0  4530.0  4610.0  4610.000000  357755700\n",
       "9   2022-03-16  4650.0  4660.0  4610.0  4650.0  4650.000000  226817000\n",
       "10  2022-03-17  4690.0  4700.0  4610.0  4650.0  4650.000000  224068000\n",
       "11  2022-03-18  4700.0  4700.0  4580.0  4580.0  4580.000000  257863400\n",
       "12  2022-03-21  4600.0  4630.0  4560.0  4590.0  4590.000000  118791900\n",
       "13  2022-03-22  4690.0  4710.0  4640.0  4640.0  4640.000000  177758500\n",
       "14  2022-03-23  4680.0  4690.0  4620.0  4650.0  4650.000000  146545100\n",
       "15  2022-03-24  4640.0  4730.0  4620.0  4730.0  4730.000000  206271600\n",
       "16  2022-03-25  4760.0  4760.0  4650.0  4710.0  4710.000000  137104800\n",
       "17  2022-03-28  4730.0  4740.0  4670.0  4730.0  4730.000000  106801800\n",
       "18  2022-03-29  4750.0  4750.0  4670.0  4690.0  4690.000000   93155100\n",
       "19  2022-03-30  4740.0  4740.0  4690.0  4710.0  4710.000000   83364400\n",
       "20  2022-03-31  4700.0  4750.0  4660.0  4660.0  4660.000000  158650000\n",
       "21  2022-04-01  4690.0  4730.0  4630.0  4730.0  4730.000000  145105000\n",
       "22  2022-04-01  4690.0  4730.0  4630.0  4730.0  4730.000000  145105000"
      ]
     },
     "metadata": {},
     "output_type": "display_data"
    }
   ],
   "source": [
    "#display data bbri\n",
    "display(bbri)"
   ]
  },
  {
   "cell_type": "code",
   "execution_count": 6,
   "id": "b2b3777b",
   "metadata": {
    "execution": {
     "iopub.execute_input": "2022-04-02T07:23:59.773543Z",
     "iopub.status.busy": "2022-04-02T07:23:59.772513Z",
     "iopub.status.idle": "2022-04-02T07:23:59.798915Z",
     "shell.execute_reply": "2022-04-02T07:23:59.798294Z",
     "shell.execute_reply.started": "2022-04-02T07:19:01.347760Z"
    },
    "papermill": {
     "duration": 0.067198,
     "end_time": "2022-04-02T07:23:59.799078",
     "exception": false,
     "start_time": "2022-04-02T07:23:59.731880",
     "status": "completed"
    },
    "tags": []
   },
   "outputs": [
    {
     "name": "stdout",
     "output_type": "stream",
     "text": [
      "<class 'pandas.core.frame.DataFrame'>\n",
      "RangeIndex: 23 entries, 0 to 22\n",
      "Data columns (total 7 columns):\n",
      " #   Column     Non-Null Count  Dtype  \n",
      "---  ------     --------------  -----  \n",
      " 0   Date       23 non-null     object \n",
      " 1   Open       23 non-null     float64\n",
      " 2   High       23 non-null     float64\n",
      " 3   Low        23 non-null     float64\n",
      " 4   Close      23 non-null     float64\n",
      " 5   Adj Close  23 non-null     float64\n",
      " 6   Volume     23 non-null     int64  \n",
      "dtypes: float64(5), int64(1), object(1)\n",
      "memory usage: 1.4+ KB\n"
     ]
    }
   ],
   "source": [
    "#get data info\n",
    "bbri.info()"
   ]
  },
  {
   "cell_type": "code",
   "execution_count": 7,
   "id": "02af34dd",
   "metadata": {
    "execution": {
     "iopub.execute_input": "2022-04-02T07:23:59.880763Z",
     "iopub.status.busy": "2022-04-02T07:23:59.880017Z",
     "iopub.status.idle": "2022-04-02T07:23:59.906915Z",
     "shell.execute_reply": "2022-04-02T07:23:59.907547Z",
     "shell.execute_reply.started": "2022-04-02T07:19:01.501772Z"
    },
    "papermill": {
     "duration": 0.071888,
     "end_time": "2022-04-02T07:23:59.907768",
     "exception": false,
     "start_time": "2022-04-02T07:23:59.835880",
     "status": "completed"
    },
    "tags": []
   },
   "outputs": [
    {
     "data": {
      "text/html": [
       "<div>\n",
       "<style scoped>\n",
       "    .dataframe tbody tr th:only-of-type {\n",
       "        vertical-align: middle;\n",
       "    }\n",
       "\n",
       "    .dataframe tbody tr th {\n",
       "        vertical-align: top;\n",
       "    }\n",
       "\n",
       "    .dataframe thead th {\n",
       "        text-align: right;\n",
       "    }\n",
       "</style>\n",
       "<table border=\"1\" class=\"dataframe\">\n",
       "  <thead>\n",
       "    <tr style=\"text-align: right;\">\n",
       "      <th></th>\n",
       "      <th>Open</th>\n",
       "      <th>High</th>\n",
       "      <th>Low</th>\n",
       "      <th>Close</th>\n",
       "      <th>Adj Close</th>\n",
       "      <th>Volume</th>\n",
       "    </tr>\n",
       "  </thead>\n",
       "  <tbody>\n",
       "    <tr>\n",
       "      <th>count</th>\n",
       "      <td>23.000000</td>\n",
       "      <td>23.000000</td>\n",
       "      <td>23.000000</td>\n",
       "      <td>23.000000</td>\n",
       "      <td>23.000000</td>\n",
       "      <td>2.300000e+01</td>\n",
       "    </tr>\n",
       "    <tr>\n",
       "      <th>mean</th>\n",
       "      <td>4641.304348</td>\n",
       "      <td>4673.043478</td>\n",
       "      <td>4576.956522</td>\n",
       "      <td>4621.739130</td>\n",
       "      <td>4576.447987</td>\n",
       "      <td>1.916853e+08</td>\n",
       "    </tr>\n",
       "    <tr>\n",
       "      <th>std</th>\n",
       "      <td>98.640963</td>\n",
       "      <td>80.477822</td>\n",
       "      <td>87.408902</td>\n",
       "      <td>93.500227</td>\n",
       "      <td>145.576933</td>\n",
       "      <td>6.722799e+07</td>\n",
       "    </tr>\n",
       "    <tr>\n",
       "      <th>min</th>\n",
       "      <td>4400.000000</td>\n",
       "      <td>4440.000000</td>\n",
       "      <td>4370.000000</td>\n",
       "      <td>4400.000000</td>\n",
       "      <td>4261.086426</td>\n",
       "      <td>8.336440e+07</td>\n",
       "    </tr>\n",
       "    <tr>\n",
       "      <th>25%</th>\n",
       "      <td>4590.000000</td>\n",
       "      <td>4635.000000</td>\n",
       "      <td>4525.000000</td>\n",
       "      <td>4570.000000</td>\n",
       "      <td>4445.967774</td>\n",
       "      <td>1.451050e+08</td>\n",
       "    </tr>\n",
       "    <tr>\n",
       "      <th>50%</th>\n",
       "      <td>4680.000000</td>\n",
       "      <td>4700.000000</td>\n",
       "      <td>4610.000000</td>\n",
       "      <td>4650.000000</td>\n",
       "      <td>4640.000000</td>\n",
       "      <td>1.919671e+08</td>\n",
       "    </tr>\n",
       "    <tr>\n",
       "      <th>75%</th>\n",
       "      <td>4700.000000</td>\n",
       "      <td>4730.000000</td>\n",
       "      <td>4635.000000</td>\n",
       "      <td>4700.000000</td>\n",
       "      <td>4700.000000</td>\n",
       "      <td>2.250458e+08</td>\n",
       "    </tr>\n",
       "    <tr>\n",
       "      <th>max</th>\n",
       "      <td>4760.000000</td>\n",
       "      <td>4760.000000</td>\n",
       "      <td>4690.000000</td>\n",
       "      <td>4730.000000</td>\n",
       "      <td>4730.000000</td>\n",
       "      <td>3.577557e+08</td>\n",
       "    </tr>\n",
       "  </tbody>\n",
       "</table>\n",
       "</div>"
      ],
      "text/plain": [
       "              Open         High          Low        Close    Adj Close  \\\n",
       "count    23.000000    23.000000    23.000000    23.000000    23.000000   \n",
       "mean   4641.304348  4673.043478  4576.956522  4621.739130  4576.447987   \n",
       "std      98.640963    80.477822    87.408902    93.500227   145.576933   \n",
       "min    4400.000000  4440.000000  4370.000000  4400.000000  4261.086426   \n",
       "25%    4590.000000  4635.000000  4525.000000  4570.000000  4445.967774   \n",
       "50%    4680.000000  4700.000000  4610.000000  4650.000000  4640.000000   \n",
       "75%    4700.000000  4730.000000  4635.000000  4700.000000  4700.000000   \n",
       "max    4760.000000  4760.000000  4690.000000  4730.000000  4730.000000   \n",
       "\n",
       "             Volume  \n",
       "count  2.300000e+01  \n",
       "mean   1.916853e+08  \n",
       "std    6.722799e+07  \n",
       "min    8.336440e+07  \n",
       "25%    1.451050e+08  \n",
       "50%    1.919671e+08  \n",
       "75%    2.250458e+08  \n",
       "max    3.577557e+08  "
      ]
     },
     "execution_count": 7,
     "metadata": {},
     "output_type": "execute_result"
    }
   ],
   "source": [
    "bbri.describe()"
   ]
  },
  {
   "cell_type": "markdown",
   "id": "60f744dc",
   "metadata": {
    "papermill": {
     "duration": 0.037806,
     "end_time": "2022-04-02T07:23:59.982844",
     "exception": false,
     "start_time": "2022-04-02T07:23:59.945038",
     "status": "completed"
    },
    "tags": []
   },
   "source": [
    "***\n",
    "# **Process the Data**\n",
    "***"
   ]
  },
  {
   "cell_type": "markdown",
   "id": "5a6779fe",
   "metadata": {
    "papermill": {
     "duration": 0.038868,
     "end_time": "2022-04-02T07:24:00.059070",
     "exception": false,
     "start_time": "2022-04-02T07:24:00.020202",
     "status": "completed"
    },
    "tags": []
   },
   "source": [
    "Categorical variables need to be transformed into numeric variables"
   ]
  },
  {
   "cell_type": "markdown",
   "id": "cc7af551",
   "metadata": {
    "papermill": {
     "duration": 0.037689,
     "end_time": "2022-04-02T07:24:00.135385",
     "exception": false,
     "start_time": "2022-04-02T07:24:00.097696",
     "status": "completed"
    },
    "tags": []
   },
   "source": [
    "# Define Predictor/Independent Variables"
   ]
  },
  {
   "cell_type": "markdown",
   "id": "cda75161",
   "metadata": {
    "papermill": {
     "duration": 0.036746,
     "end_time": "2022-04-02T07:24:00.210118",
     "exception": false,
     "start_time": "2022-04-02T07:24:00.173372",
     "status": "completed"
    },
    "tags": []
   },
   "source": [
    "We will use the historical data to define some predictor variables, and get the average closing price over the past fifteen 10-days.\n",
    "\n",
    "1. Create a new column in the dataframe called \"Close_10_Rolling\" and assign it the values of the rolling average\n",
    "2. Create a new column in the dataframe called \"Open_1_Change\" and assign it the values of the change in the opening\n",
    "3. Drop NaN variable\n",
    "4. Create an X dataframe as Independent Variable"
   ]
  },
  {
   "cell_type": "code",
   "execution_count": 8,
   "id": "ddd47ecf",
   "metadata": {
    "execution": {
     "iopub.execute_input": "2022-04-02T07:24:00.287983Z",
     "iopub.status.busy": "2022-04-02T07:24:00.287237Z",
     "iopub.status.idle": "2022-04-02T07:24:00.323020Z",
     "shell.execute_reply": "2022-04-02T07:24:00.323662Z",
     "shell.execute_reply.started": "2022-04-02T07:19:01.597932Z"
    },
    "papermill": {
     "duration": 0.076725,
     "end_time": "2022-04-02T07:24:00.323882",
     "exception": false,
     "start_time": "2022-04-02T07:24:00.247157",
     "status": "completed"
    },
    "tags": []
   },
   "outputs": [
    {
     "data": {
      "text/html": [
       "<div>\n",
       "<style scoped>\n",
       "    .dataframe tbody tr th:only-of-type {\n",
       "        vertical-align: middle;\n",
       "    }\n",
       "\n",
       "    .dataframe tbody tr th {\n",
       "        vertical-align: top;\n",
       "    }\n",
       "\n",
       "    .dataframe thead th {\n",
       "        text-align: right;\n",
       "    }\n",
       "</style>\n",
       "<table border=\"1\" class=\"dataframe\">\n",
       "  <thead>\n",
       "    <tr style=\"text-align: right;\">\n",
       "      <th></th>\n",
       "      <th>Open</th>\n",
       "      <th>High</th>\n",
       "      <th>Low</th>\n",
       "      <th>Close</th>\n",
       "      <th>Adj Close</th>\n",
       "      <th>Volume</th>\n",
       "      <th>Close_15_Rolling</th>\n",
       "      <th>Open_1_Change</th>\n",
       "    </tr>\n",
       "  </thead>\n",
       "  <tbody>\n",
       "    <tr>\n",
       "      <th>9</th>\n",
       "      <td>4650.0</td>\n",
       "      <td>4660.0</td>\n",
       "      <td>4610.0</td>\n",
       "      <td>4650.0</td>\n",
       "      <td>4650.0</td>\n",
       "      <td>226817000</td>\n",
       "      <td>4550.0</td>\n",
       "      <td>100.0</td>\n",
       "    </tr>\n",
       "    <tr>\n",
       "      <th>10</th>\n",
       "      <td>4690.0</td>\n",
       "      <td>4700.0</td>\n",
       "      <td>4610.0</td>\n",
       "      <td>4650.0</td>\n",
       "      <td>4650.0</td>\n",
       "      <td>224068000</td>\n",
       "      <td>4559.0</td>\n",
       "      <td>40.0</td>\n",
       "    </tr>\n",
       "    <tr>\n",
       "      <th>11</th>\n",
       "      <td>4700.0</td>\n",
       "      <td>4700.0</td>\n",
       "      <td>4580.0</td>\n",
       "      <td>4580.0</td>\n",
       "      <td>4580.0</td>\n",
       "      <td>257863400</td>\n",
       "      <td>4550.0</td>\n",
       "      <td>10.0</td>\n",
       "    </tr>\n",
       "    <tr>\n",
       "      <th>12</th>\n",
       "      <td>4600.0</td>\n",
       "      <td>4630.0</td>\n",
       "      <td>4560.0</td>\n",
       "      <td>4590.0</td>\n",
       "      <td>4590.0</td>\n",
       "      <td>118791900</td>\n",
       "      <td>4557.0</td>\n",
       "      <td>-100.0</td>\n",
       "    </tr>\n",
       "    <tr>\n",
       "      <th>13</th>\n",
       "      <td>4690.0</td>\n",
       "      <td>4710.0</td>\n",
       "      <td>4640.0</td>\n",
       "      <td>4640.0</td>\n",
       "      <td>4640.0</td>\n",
       "      <td>177758500</td>\n",
       "      <td>4578.0</td>\n",
       "      <td>90.0</td>\n",
       "    </tr>\n",
       "    <tr>\n",
       "      <th>14</th>\n",
       "      <td>4680.0</td>\n",
       "      <td>4690.0</td>\n",
       "      <td>4620.0</td>\n",
       "      <td>4650.0</td>\n",
       "      <td>4650.0</td>\n",
       "      <td>146545100</td>\n",
       "      <td>4586.0</td>\n",
       "      <td>-10.0</td>\n",
       "    </tr>\n",
       "    <tr>\n",
       "      <th>15</th>\n",
       "      <td>4640.0</td>\n",
       "      <td>4730.0</td>\n",
       "      <td>4620.0</td>\n",
       "      <td>4730.0</td>\n",
       "      <td>4730.0</td>\n",
       "      <td>206271600</td>\n",
       "      <td>4602.0</td>\n",
       "      <td>-40.0</td>\n",
       "    </tr>\n",
       "    <tr>\n",
       "      <th>16</th>\n",
       "      <td>4760.0</td>\n",
       "      <td>4760.0</td>\n",
       "      <td>4650.0</td>\n",
       "      <td>4710.0</td>\n",
       "      <td>4710.0</td>\n",
       "      <td>137104800</td>\n",
       "      <td>4633.0</td>\n",
       "      <td>120.0</td>\n",
       "    </tr>\n",
       "    <tr>\n",
       "      <th>17</th>\n",
       "      <td>4730.0</td>\n",
       "      <td>4740.0</td>\n",
       "      <td>4670.0</td>\n",
       "      <td>4730.0</td>\n",
       "      <td>4730.0</td>\n",
       "      <td>106801800</td>\n",
       "      <td>4654.0</td>\n",
       "      <td>-30.0</td>\n",
       "    </tr>\n",
       "    <tr>\n",
       "      <th>18</th>\n",
       "      <td>4750.0</td>\n",
       "      <td>4750.0</td>\n",
       "      <td>4670.0</td>\n",
       "      <td>4690.0</td>\n",
       "      <td>4690.0</td>\n",
       "      <td>93155100</td>\n",
       "      <td>4662.0</td>\n",
       "      <td>20.0</td>\n",
       "    </tr>\n",
       "    <tr>\n",
       "      <th>19</th>\n",
       "      <td>4740.0</td>\n",
       "      <td>4740.0</td>\n",
       "      <td>4690.0</td>\n",
       "      <td>4710.0</td>\n",
       "      <td>4710.0</td>\n",
       "      <td>83364400</td>\n",
       "      <td>4668.0</td>\n",
       "      <td>-10.0</td>\n",
       "    </tr>\n",
       "    <tr>\n",
       "      <th>20</th>\n",
       "      <td>4700.0</td>\n",
       "      <td>4750.0</td>\n",
       "      <td>4660.0</td>\n",
       "      <td>4660.0</td>\n",
       "      <td>4660.0</td>\n",
       "      <td>158650000</td>\n",
       "      <td>4669.0</td>\n",
       "      <td>-40.0</td>\n",
       "    </tr>\n",
       "    <tr>\n",
       "      <th>21</th>\n",
       "      <td>4690.0</td>\n",
       "      <td>4730.0</td>\n",
       "      <td>4630.0</td>\n",
       "      <td>4730.0</td>\n",
       "      <td>4730.0</td>\n",
       "      <td>145105000</td>\n",
       "      <td>4684.0</td>\n",
       "      <td>-10.0</td>\n",
       "    </tr>\n",
       "    <tr>\n",
       "      <th>22</th>\n",
       "      <td>4690.0</td>\n",
       "      <td>4730.0</td>\n",
       "      <td>4630.0</td>\n",
       "      <td>4730.0</td>\n",
       "      <td>4730.0</td>\n",
       "      <td>145105000</td>\n",
       "      <td>4698.0</td>\n",
       "      <td>0.0</td>\n",
       "    </tr>\n",
       "  </tbody>\n",
       "</table>\n",
       "</div>"
      ],
      "text/plain": [
       "      Open    High     Low   Close  Adj Close     Volume  Close_15_Rolling  \\\n",
       "9   4650.0  4660.0  4610.0  4650.0     4650.0  226817000            4550.0   \n",
       "10  4690.0  4700.0  4610.0  4650.0     4650.0  224068000            4559.0   \n",
       "11  4700.0  4700.0  4580.0  4580.0     4580.0  257863400            4550.0   \n",
       "12  4600.0  4630.0  4560.0  4590.0     4590.0  118791900            4557.0   \n",
       "13  4690.0  4710.0  4640.0  4640.0     4640.0  177758500            4578.0   \n",
       "14  4680.0  4690.0  4620.0  4650.0     4650.0  146545100            4586.0   \n",
       "15  4640.0  4730.0  4620.0  4730.0     4730.0  206271600            4602.0   \n",
       "16  4760.0  4760.0  4650.0  4710.0     4710.0  137104800            4633.0   \n",
       "17  4730.0  4740.0  4670.0  4730.0     4730.0  106801800            4654.0   \n",
       "18  4750.0  4750.0  4670.0  4690.0     4690.0   93155100            4662.0   \n",
       "19  4740.0  4740.0  4690.0  4710.0     4710.0   83364400            4668.0   \n",
       "20  4700.0  4750.0  4660.0  4660.0     4660.0  158650000            4669.0   \n",
       "21  4690.0  4730.0  4630.0  4730.0     4730.0  145105000            4684.0   \n",
       "22  4690.0  4730.0  4630.0  4730.0     4730.0  145105000            4698.0   \n",
       "\n",
       "    Open_1_Change  \n",
       "9           100.0  \n",
       "10           40.0  \n",
       "11           10.0  \n",
       "12         -100.0  \n",
       "13           90.0  \n",
       "14          -10.0  \n",
       "15          -40.0  \n",
       "16          120.0  \n",
       "17          -30.0  \n",
       "18           20.0  \n",
       "19          -10.0  \n",
       "20          -40.0  \n",
       "21          -10.0  \n",
       "22            0.0  "
      ]
     },
     "metadata": {},
     "output_type": "display_data"
    }
   ],
   "source": [
    "#mean 10 days closing price BBRI\n",
    "bbri['Close_15_Rolling'] = bbri['Close'].rolling(window = 10).mean()\n",
    "\n",
    "#Open Change \n",
    "bbri['Open_1_Change'] = bbri['Open'] - bbri['Open'].shift(1)\n",
    "\n",
    "#drop NaN\n",
    "bbri = bbri.dropna()\n",
    "\n",
    "#Store the dataframe as the new variable \"X\".\n",
    "X = bbri\n",
    "X.drop(['Date'], axis=1, inplace=True) \n",
    "display(X)"
   ]
  },
  {
   "cell_type": "markdown",
   "id": "e6929bd2",
   "metadata": {
    "papermill": {
     "duration": 0.037722,
     "end_time": "2022-04-02T07:24:00.399922",
     "exception": false,
     "start_time": "2022-04-02T07:24:00.362200",
     "status": "completed"
    },
    "tags": []
   },
   "source": [
    "# Define Target/Dependent Variable"
   ]
  },
  {
   "cell_type": "markdown",
   "id": "46112440",
   "metadata": {
    "papermill": {
     "duration": 0.037516,
     "end_time": "2022-04-02T07:24:00.475822",
     "exception": false,
     "start_time": "2022-04-02T07:24:00.438306",
     "status": "completed"
    },
    "tags": []
   },
   "source": [
    "If tomorrow’s closing price is higher than today’s closing price, then we will buy the stock (1), else we will sell it (-1)."
   ]
  },
  {
   "cell_type": "code",
   "execution_count": 9,
   "id": "ace5f245",
   "metadata": {
    "execution": {
     "iopub.execute_input": "2022-04-02T07:24:00.559302Z",
     "iopub.status.busy": "2022-04-02T07:24:00.558271Z",
     "iopub.status.idle": "2022-04-02T07:24:00.563365Z",
     "shell.execute_reply": "2022-04-02T07:24:00.563860Z",
     "shell.execute_reply.started": "2022-04-02T07:19:01.665193Z"
    },
    "papermill": {
     "duration": 0.049979,
     "end_time": "2022-04-02T07:24:00.564047",
     "exception": false,
     "start_time": "2022-04-02T07:24:00.514068",
     "status": "completed"
    },
    "tags": []
   },
   "outputs": [
    {
     "data": {
      "text/plain": [
       "array([ 1, -1,  1,  1,  1,  1, -1,  1, -1,  1, -1,  1,  1, -1])"
      ]
     },
     "metadata": {},
     "output_type": "display_data"
    }
   ],
   "source": [
    "#Calculate the historical values of the variable to be predicted.\n",
    "y = np.where(bbri['Close'].shift(-1) - bbri['Close'] >= 0, 1, -1)\n",
    "display(y)"
   ]
  },
  {
   "cell_type": "markdown",
   "id": "dc77bc9a",
   "metadata": {
    "papermill": {
     "duration": 0.039165,
     "end_time": "2022-04-02T07:24:00.641804",
     "exception": false,
     "start_time": "2022-04-02T07:24:00.602639",
     "status": "completed"
    },
    "tags": []
   },
   "source": [
    "# Split the dataset into training and validation"
   ]
  },
  {
   "cell_type": "markdown",
   "id": "c4f43605",
   "metadata": {
    "papermill": {
     "duration": 0.038686,
     "end_time": "2022-04-02T07:24:00.719416",
     "exception": false,
     "start_time": "2022-04-02T07:24:00.680730",
     "status": "completed"
    },
    "tags": []
   },
   "source": [
    "The **training** set will be used to build the machine learning models.\n",
    "\n",
    "The **validation** set should be used to see how well the model performs on unseen data.\n",
    "\n",
    "We will use 80% of our data to train and the rest 20% to test. To do this, we will create a split variable which will divide the data frame in a 80-20 ratio. ‘Xtrain’ and ‘Ytrain’ are train dataset. ‘Xtest’ and ‘Ytest’ are the test dataset."
   ]
  },
  {
   "cell_type": "code",
   "execution_count": 10,
   "id": "2802dbf8",
   "metadata": {
    "execution": {
     "iopub.execute_input": "2022-04-02T07:24:00.801750Z",
     "iopub.status.busy": "2022-04-02T07:24:00.801019Z",
     "iopub.status.idle": "2022-04-02T07:24:02.018861Z",
     "shell.execute_reply": "2022-04-02T07:24:02.019457Z",
     "shell.execute_reply.started": "2022-04-02T07:19:01.725068Z"
    },
    "papermill": {
     "duration": 1.260899,
     "end_time": "2022-04-02T07:24:02.019673",
     "exception": false,
     "start_time": "2022-04-02T07:24:00.758774",
     "status": "completed"
    },
    "tags": []
   },
   "outputs": [],
   "source": [
    "from sklearn.model_selection import train_test_split\n",
    "  # 80 % go into the training test, 20% in the validation test\n",
    "X_train, X_valid, y_train, y_valid = train_test_split(X, y, test_size=0.2, random_state=7)"
   ]
  },
  {
   "cell_type": "code",
   "execution_count": 11,
   "id": "e59e9f1f",
   "metadata": {
    "execution": {
     "iopub.execute_input": "2022-04-02T07:24:02.100643Z",
     "iopub.status.busy": "2022-04-02T07:24:02.099926Z",
     "iopub.status.idle": "2022-04-02T07:24:02.111183Z",
     "shell.execute_reply": "2022-04-02T07:24:02.111681Z",
     "shell.execute_reply.started": "2022-04-02T07:19:01.770341Z"
    },
    "papermill": {
     "duration": 0.053499,
     "end_time": "2022-04-02T07:24:02.111887",
     "exception": false,
     "start_time": "2022-04-02T07:24:02.058388",
     "status": "completed"
    },
    "tags": []
   },
   "outputs": [
    {
     "name": "stdout",
     "output_type": "stream",
     "text": [
      "      Open    High     Low   Close  Adj Close     Volume  Close_15_Rolling  \\\n",
      "14  4680.0  4690.0  4620.0  4650.0     4650.0  146545100            4586.0   \n",
      "9   4650.0  4660.0  4610.0  4650.0     4650.0  226817000            4550.0   \n",
      "10  4690.0  4700.0  4610.0  4650.0     4650.0  224068000            4559.0   \n",
      "22  4690.0  4730.0  4630.0  4730.0     4730.0  145105000            4698.0   \n",
      "17  4730.0  4740.0  4670.0  4730.0     4730.0  106801800            4654.0   \n",
      "\n",
      "    Open_1_Change  \n",
      "14          -10.0  \n",
      "9           100.0  \n",
      "10           40.0  \n",
      "22            0.0  \n",
      "17          -30.0  \n"
     ]
    }
   ],
   "source": [
    "print(X_train.head())"
   ]
  },
  {
   "cell_type": "markdown",
   "id": "624a4d82",
   "metadata": {
    "papermill": {
     "duration": 0.038632,
     "end_time": "2022-04-02T07:24:02.189237",
     "exception": false,
     "start_time": "2022-04-02T07:24:02.150605",
     "status": "completed"
    },
    "tags": []
   },
   "source": [
    "***\n",
    "# **Instantiate The Logistic Regression in Python**\n",
    "***"
   ]
  },
  {
   "cell_type": "markdown",
   "id": "3f0887e2",
   "metadata": {
    "papermill": {
     "duration": 0.038373,
     "end_time": "2022-04-02T07:24:02.266889",
     "exception": false,
     "start_time": "2022-04-02T07:24:02.228516",
     "status": "completed"
    },
    "tags": []
   },
   "source": [
    "\n",
    "We will instantiate the logistic regression in Python using ‘LogisticRegression’ function and fit the model on the training dataset using ‘fit’ function."
   ]
  },
  {
   "cell_type": "code",
   "execution_count": 12,
   "id": "5149052a",
   "metadata": {
    "execution": {
     "iopub.execute_input": "2022-04-02T07:24:02.350396Z",
     "iopub.status.busy": "2022-04-02T07:24:02.349687Z",
     "iopub.status.idle": "2022-04-02T07:24:02.430605Z",
     "shell.execute_reply": "2022-04-02T07:24:02.429992Z",
     "shell.execute_reply.started": "2022-04-02T07:19:01.826906Z"
    },
    "papermill": {
     "duration": 0.125077,
     "end_time": "2022-04-02T07:24:02.430852",
     "exception": false,
     "start_time": "2022-04-02T07:24:02.305775",
     "status": "completed"
    },
    "tags": []
   },
   "outputs": [],
   "source": [
    "from sklearn.linear_model import LogisticRegression\n",
    "model = LogisticRegression()"
   ]
  },
  {
   "cell_type": "code",
   "execution_count": 13,
   "id": "6ba4904f",
   "metadata": {
    "execution": {
     "iopub.execute_input": "2022-04-02T07:24:02.516855Z",
     "iopub.status.busy": "2022-04-02T07:24:02.516144Z",
     "iopub.status.idle": "2022-04-02T07:24:02.531286Z",
     "shell.execute_reply": "2022-04-02T07:24:02.530746Z",
     "shell.execute_reply.started": "2022-04-02T07:19:01.861008Z"
    },
    "papermill": {
     "duration": 0.061628,
     "end_time": "2022-04-02T07:24:02.531436",
     "exception": false,
     "start_time": "2022-04-02T07:24:02.469808",
     "status": "completed"
    },
    "tags": []
   },
   "outputs": [
    {
     "data": {
      "text/plain": [
       "LogisticRegression()"
      ]
     },
     "execution_count": 13,
     "metadata": {},
     "output_type": "execute_result"
    }
   ],
   "source": [
    "model.fit(X_train, y_train)"
   ]
  },
  {
   "cell_type": "markdown",
   "id": "0855bc21",
   "metadata": {
    "papermill": {
     "duration": 0.039114,
     "end_time": "2022-04-02T07:24:02.610722",
     "exception": false,
     "start_time": "2022-04-02T07:24:02.571608",
     "status": "completed"
    },
    "tags": []
   },
   "source": [
    "# Evaluate Model"
   ]
  },
  {
   "cell_type": "code",
   "execution_count": 14,
   "id": "06ed27f8",
   "metadata": {
    "execution": {
     "iopub.execute_input": "2022-04-02T07:24:02.696994Z",
     "iopub.status.busy": "2022-04-02T07:24:02.696303Z",
     "iopub.status.idle": "2022-04-02T07:24:02.700573Z",
     "shell.execute_reply": "2022-04-02T07:24:02.701191Z",
     "shell.execute_reply.started": "2022-04-02T07:19:01.894342Z"
    },
    "papermill": {
     "duration": 0.051241,
     "end_time": "2022-04-02T07:24:02.701375",
     "exception": false,
     "start_time": "2022-04-02T07:24:02.650134",
     "status": "completed"
    },
    "tags": []
   },
   "outputs": [
    {
     "data": {
      "text/plain": [
       "0.5454545454545454"
      ]
     },
     "execution_count": 14,
     "metadata": {},
     "output_type": "execute_result"
    }
   ],
   "source": [
    "model.score(X_train, y_train)"
   ]
  },
  {
   "cell_type": "code",
   "execution_count": 15,
   "id": "961a3544",
   "metadata": {
    "execution": {
     "iopub.execute_input": "2022-04-02T07:24:02.790807Z",
     "iopub.status.busy": "2022-04-02T07:24:02.790030Z",
     "iopub.status.idle": "2022-04-02T07:24:02.794616Z",
     "shell.execute_reply": "2022-04-02T07:24:02.794072Z",
     "shell.execute_reply.started": "2022-04-02T07:19:01.927776Z"
    },
    "papermill": {
     "duration": 0.053469,
     "end_time": "2022-04-02T07:24:02.794798",
     "exception": false,
     "start_time": "2022-04-02T07:24:02.741329",
     "status": "completed"
    },
    "tags": []
   },
   "outputs": [
    {
     "data": {
      "text/plain": [
       "1.0"
      ]
     },
     "execution_count": 15,
     "metadata": {},
     "output_type": "execute_result"
    }
   ],
   "source": [
    "model.score(X_valid, y_valid)"
   ]
  },
  {
   "cell_type": "markdown",
   "id": "d6e50a6e",
   "metadata": {
    "papermill": {
     "duration": 0.040589,
     "end_time": "2022-04-02T07:24:02.875452",
     "exception": false,
     "start_time": "2022-04-02T07:24:02.834863",
     "status": "completed"
    },
    "tags": []
   },
   "source": [
    "- the score on the training set is much better than on the validation set, an indication that could be overfitting and not being a general model."
   ]
  },
  {
   "cell_type": "markdown",
   "id": "c269a2dd",
   "metadata": {
    "papermill": {
     "duration": 0.040773,
     "end_time": "2022-04-02T07:24:02.956743",
     "exception": false,
     "start_time": "2022-04-02T07:24:02.915970",
     "status": "completed"
    },
    "tags": []
   },
   "source": [
    "An advantage of logistic regression (e.g. against a neural network) is that it's easily interpretable.  It can be written as a math formula:"
   ]
  },
  {
   "cell_type": "code",
   "execution_count": 16,
   "id": "e8b2479f",
   "metadata": {
    "execution": {
     "iopub.execute_input": "2022-04-02T07:24:03.041484Z",
     "iopub.status.busy": "2022-04-02T07:24:03.040673Z",
     "iopub.status.idle": "2022-04-02T07:24:03.045989Z",
     "shell.execute_reply": "2022-04-02T07:24:03.046504Z",
     "shell.execute_reply.started": "2022-04-02T07:19:01.940512Z"
    },
    "papermill": {
     "duration": 0.050218,
     "end_time": "2022-04-02T07:24:03.046715",
     "exception": false,
     "start_time": "2022-04-02T07:24:02.996497",
     "status": "completed"
    },
    "tags": []
   },
   "outputs": [
    {
     "data": {
      "text/plain": [
       "array([1.00211259e-17])"
      ]
     },
     "execution_count": 16,
     "metadata": {},
     "output_type": "execute_result"
    }
   ],
   "source": [
    "model.intercept_ # the fitted intercept"
   ]
  },
  {
   "cell_type": "code",
   "execution_count": 17,
   "id": "339e21cd",
   "metadata": {
    "execution": {
     "iopub.execute_input": "2022-04-02T07:24:03.131232Z",
     "iopub.status.busy": "2022-04-02T07:24:03.130377Z",
     "iopub.status.idle": "2022-04-02T07:24:03.135528Z",
     "shell.execute_reply": "2022-04-02T07:24:03.136102Z",
     "shell.execute_reply.started": "2022-04-02T07:19:01.951469Z"
    },
    "papermill": {
     "duration": 0.04937,
     "end_time": "2022-04-02T07:24:03.136293",
     "exception": false,
     "start_time": "2022-04-02T07:24:03.086923",
     "status": "completed"
    },
    "tags": []
   },
   "outputs": [
    {
     "data": {
      "text/plain": [
       "array([[4.59693681e-14, 4.39635206e-14, 4.42512174e-14, 4.04262261e-14,\n",
       "        4.04262261e-14, 9.69755438e-10, 4.13981531e-14, 5.35919464e-15]])"
      ]
     },
     "execution_count": 17,
     "metadata": {},
     "output_type": "execute_result"
    }
   ],
   "source": [
    "model.coef_  # the fitted coefficients"
   ]
  },
  {
   "cell_type": "markdown",
   "id": "c2b2c498",
   "metadata": {
    "papermill": {
     "duration": 0.040584,
     "end_time": "2022-04-02T07:24:03.217674",
     "exception": false,
     "start_time": "2022-04-02T07:24:03.177090",
     "status": "completed"
    },
    "tags": []
   },
   "source": [
    "Which means that the formula is: \n",
    "$$ \\boldsymbol P(survive) = \\frac{1}{1+e^{-logit}} $$  \n",
    "  \n",
    "where the logit is: \n",
    "  \n",
    "$$ logit = \\boldsymbol{\\beta_{0} + \\beta_{1}\\cdot x_{1} + ... + \\beta_{n}\\cdot x_{n}}$$ \n",
    "  \n",
    "where $\\beta_{0}$ is the model intercept and the other beta parameters are the model coefficients from above, each multiplied for the related feature:  \n",
    "  \n",
    "$$ logit = \\boldsymbol{1.4224 - 0.9319 * Pclass + ... + 0.2228 * Embarked_S}$$ "
   ]
  },
  {
   "cell_type": "markdown",
   "id": "fc175b7b",
   "metadata": {
    "papermill": {
     "duration": 0.040698,
     "end_time": "2022-04-02T07:24:03.300014",
     "exception": false,
     "start_time": "2022-04-02T07:24:03.259316",
     "status": "completed"
    },
    "tags": []
   },
   "source": [
    "# Iterate on the model\n",
    "The model could be improved, for example transforming the excluded features above or creating new ones (e.g. I could extract titles from the names which could be another indication of the socio-economic status)."
   ]
  },
  {
   "cell_type": "markdown",
   "id": "90114806",
   "metadata": {
    "papermill": {
     "duration": 0.041566,
     "end_time": "2022-04-02T07:24:03.382510",
     "exception": false,
     "start_time": "2022-04-02T07:24:03.340944",
     "status": "completed"
    },
    "tags": []
   },
   "source": [
    "The correlation matrix may give us a understanding of which variables are important"
   ]
  },
  {
   "cell_type": "code",
   "execution_count": 18,
   "id": "6173d93b",
   "metadata": {
    "execution": {
     "iopub.execute_input": "2022-04-02T07:24:03.469406Z",
     "iopub.status.busy": "2022-04-02T07:24:03.468778Z",
     "iopub.status.idle": "2022-04-02T07:24:03.487470Z",
     "shell.execute_reply": "2022-04-02T07:24:03.486965Z",
     "shell.execute_reply.started": "2022-04-02T07:19:01.992724Z"
    },
    "papermill": {
     "duration": 0.063666,
     "end_time": "2022-04-02T07:24:03.487666",
     "exception": false,
     "start_time": "2022-04-02T07:24:03.424000",
     "status": "completed"
    },
    "tags": []
   },
   "outputs": [
    {
     "data": {
      "text/html": [
       "<div>\n",
       "<style scoped>\n",
       "    .dataframe tbody tr th:only-of-type {\n",
       "        vertical-align: middle;\n",
       "    }\n",
       "\n",
       "    .dataframe tbody tr th {\n",
       "        vertical-align: top;\n",
       "    }\n",
       "\n",
       "    .dataframe thead th {\n",
       "        text-align: right;\n",
       "    }\n",
       "</style>\n",
       "<table border=\"1\" class=\"dataframe\">\n",
       "  <thead>\n",
       "    <tr style=\"text-align: right;\">\n",
       "      <th></th>\n",
       "      <th>Open</th>\n",
       "      <th>High</th>\n",
       "      <th>Low</th>\n",
       "      <th>Close</th>\n",
       "      <th>Adj Close</th>\n",
       "      <th>Volume</th>\n",
       "      <th>Close_15_Rolling</th>\n",
       "      <th>Open_1_Change</th>\n",
       "    </tr>\n",
       "  </thead>\n",
       "  <tbody>\n",
       "    <tr>\n",
       "      <th>Open</th>\n",
       "      <td>1.000000</td>\n",
       "      <td>0.809125</td>\n",
       "      <td>0.778888</td>\n",
       "      <td>0.422102</td>\n",
       "      <td>0.422102</td>\n",
       "      <td>-0.387533</td>\n",
       "      <td>0.541264</td>\n",
       "      <td>0.412286</td>\n",
       "    </tr>\n",
       "    <tr>\n",
       "      <th>High</th>\n",
       "      <td>0.809125</td>\n",
       "      <td>1.000000</td>\n",
       "      <td>0.815629</td>\n",
       "      <td>0.708864</td>\n",
       "      <td>0.708864</td>\n",
       "      <td>-0.343716</td>\n",
       "      <td>0.761180</td>\n",
       "      <td>0.168609</td>\n",
       "    </tr>\n",
       "    <tr>\n",
       "      <th>Low</th>\n",
       "      <td>0.778888</td>\n",
       "      <td>0.815629</td>\n",
       "      <td>1.000000</td>\n",
       "      <td>0.679003</td>\n",
       "      <td>0.679003</td>\n",
       "      <td>-0.595058</td>\n",
       "      <td>0.724059</td>\n",
       "      <td>0.181588</td>\n",
       "    </tr>\n",
       "    <tr>\n",
       "      <th>Close</th>\n",
       "      <td>0.422102</td>\n",
       "      <td>0.708864</td>\n",
       "      <td>0.679003</td>\n",
       "      <td>1.000000</td>\n",
       "      <td>1.000000</td>\n",
       "      <td>-0.446582</td>\n",
       "      <td>0.777303</td>\n",
       "      <td>0.037096</td>\n",
       "    </tr>\n",
       "    <tr>\n",
       "      <th>Adj Close</th>\n",
       "      <td>0.422102</td>\n",
       "      <td>0.708864</td>\n",
       "      <td>0.679003</td>\n",
       "      <td>1.000000</td>\n",
       "      <td>1.000000</td>\n",
       "      <td>-0.446582</td>\n",
       "      <td>0.777303</td>\n",
       "      <td>0.037096</td>\n",
       "    </tr>\n",
       "    <tr>\n",
       "      <th>Volume</th>\n",
       "      <td>-0.387533</td>\n",
       "      <td>-0.343716</td>\n",
       "      <td>-0.595058</td>\n",
       "      <td>-0.446582</td>\n",
       "      <td>-0.446582</td>\n",
       "      <td>1.000000</td>\n",
       "      <td>-0.658307</td>\n",
       "      <td>0.307401</td>\n",
       "    </tr>\n",
       "    <tr>\n",
       "      <th>Close_15_Rolling</th>\n",
       "      <td>0.541264</td>\n",
       "      <td>0.761180</td>\n",
       "      <td>0.724059</td>\n",
       "      <td>0.777303</td>\n",
       "      <td>0.777303</td>\n",
       "      <td>-0.658307</td>\n",
       "      <td>1.000000</td>\n",
       "      <td>-0.185597</td>\n",
       "    </tr>\n",
       "    <tr>\n",
       "      <th>Open_1_Change</th>\n",
       "      <td>0.412286</td>\n",
       "      <td>0.168609</td>\n",
       "      <td>0.181588</td>\n",
       "      <td>0.037096</td>\n",
       "      <td>0.037096</td>\n",
       "      <td>0.307401</td>\n",
       "      <td>-0.185597</td>\n",
       "      <td>1.000000</td>\n",
       "    </tr>\n",
       "  </tbody>\n",
       "</table>\n",
       "</div>"
      ],
      "text/plain": [
       "                      Open      High       Low     Close  Adj Close    Volume  \\\n",
       "Open              1.000000  0.809125  0.778888  0.422102   0.422102 -0.387533   \n",
       "High              0.809125  1.000000  0.815629  0.708864   0.708864 -0.343716   \n",
       "Low               0.778888  0.815629  1.000000  0.679003   0.679003 -0.595058   \n",
       "Close             0.422102  0.708864  0.679003  1.000000   1.000000 -0.446582   \n",
       "Adj Close         0.422102  0.708864  0.679003  1.000000   1.000000 -0.446582   \n",
       "Volume           -0.387533 -0.343716 -0.595058 -0.446582  -0.446582  1.000000   \n",
       "Close_15_Rolling  0.541264  0.761180  0.724059  0.777303   0.777303 -0.658307   \n",
       "Open_1_Change     0.412286  0.168609  0.181588  0.037096   0.037096  0.307401   \n",
       "\n",
       "                  Close_15_Rolling  Open_1_Change  \n",
       "Open                      0.541264       0.412286  \n",
       "High                      0.761180       0.168609  \n",
       "Low                       0.724059       0.181588  \n",
       "Close                     0.777303       0.037096  \n",
       "Adj Close                 0.777303       0.037096  \n",
       "Volume                   -0.658307       0.307401  \n",
       "Close_15_Rolling          1.000000      -0.185597  \n",
       "Open_1_Change            -0.185597       1.000000  "
      ]
     },
     "execution_count": 18,
     "metadata": {},
     "output_type": "execute_result"
    }
   ],
   "source": [
    "bbri.corr()"
   ]
  },
  {
   "cell_type": "markdown",
   "id": "41c8663d",
   "metadata": {
    "papermill": {
     "duration": 0.041035,
     "end_time": "2022-04-02T07:24:03.570170",
     "exception": false,
     "start_time": "2022-04-02T07:24:03.529135",
     "status": "completed"
    },
    "tags": []
   },
   "source": [
    "## "
   ]
  }
 ],
 "metadata": {
  "kernelspec": {
   "display_name": "Python 3",
   "language": "python",
   "name": "python3"
  },
  "language_info": {
   "codemirror_mode": {
    "name": "ipython",
    "version": 3
   },
   "file_extension": ".py",
   "mimetype": "text/x-python",
   "name": "python",
   "nbconvert_exporter": "python",
   "pygments_lexer": "ipython3",
   "version": "3.7.12"
  },
  "papermill": {
   "default_parameters": {},
   "duration": 16.861195,
   "end_time": "2022-04-02T07:24:04.626584",
   "environment_variables": {},
   "exception": null,
   "input_path": "__notebook__.ipynb",
   "output_path": "__notebook__.ipynb",
   "parameters": {},
   "start_time": "2022-04-02T07:23:47.765389",
   "version": "2.3.3"
  }
 },
 "nbformat": 4,
 "nbformat_minor": 5
}
