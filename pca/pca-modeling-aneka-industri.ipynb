{
 "cells": [
  {
   "cell_type": "code",
   "execution_count": 1,
   "id": "0e447941",
   "metadata": {
    "_cell_guid": "b1076dfc-b9ad-4769-8c92-a6c4dae69d19",
    "_uuid": "8f2839f25d086af736a60e9eeb907d3b93b6e0e5",
    "execution": {
     "iopub.execute_input": "2022-07-06T10:15:24.147972Z",
     "iopub.status.busy": "2022-07-06T10:15:24.147556Z",
     "iopub.status.idle": "2022-07-06T10:15:24.169874Z",
     "shell.execute_reply": "2022-07-06T10:15:24.168092Z"
    },
    "papermill": {
     "duration": 0.037735,
     "end_time": "2022-07-06T10:15:24.173266",
     "exception": false,
     "start_time": "2022-07-06T10:15:24.135531",
     "status": "completed"
    },
    "tags": []
   },
   "outputs": [
    {
     "name": "stdout",
     "output_type": "stream",
     "text": [
      "/kaggle/input/df-aneka-industri-2021-multinomial/dataset financial data ratio aneka industri 2021 (1).csv\n"
     ]
    }
   ],
   "source": [
    "# This Python 3 environment comes with many helpful analytics libraries installed\n",
    "# It is defined by the kaggle/python Docker image: https://github.com/kaggle/docker-python\n",
    "# For example, here's several helpful packages to load\n",
    "\n",
    "import numpy as np # linear algebra\n",
    "import pandas as pd # data processing, CSV file I/O (e.g. pd.read_csv)\n",
    "\n",
    "# Input data files are available in the read-only \"../input/\" directory\n",
    "# For example, running this (by clicking run or pressing Shift+Enter) will list all files under the input directory\n",
    "\n",
    "import os\n",
    "for dirname, _, filenames in os.walk('/kaggle/input'):\n",
    "    for filename in filenames:\n",
    "        print(os.path.join(dirname, filename))\n",
    "\n",
    "# You can write up to 20GB to the current directory (/kaggle/working/) that gets preserved as output when you create a version using \"Save & Run All\" \n",
    "# You can also write temporary files to /kaggle/temp/, but they won't be saved outside of the current session"
   ]
  },
  {
   "cell_type": "markdown",
   "id": "8e54650f",
   "metadata": {
    "papermill": {
     "duration": 0.008003,
     "end_time": "2022-07-06T10:15:24.189860",
     "exception": false,
     "start_time": "2022-07-06T10:15:24.181857",
     "status": "completed"
    },
    "tags": []
   },
   "source": [
    "***\n",
    "# PCA Modeling -  Emiten Aneka Industri sub sektor Mesin dan Komponen Industri  Q4 2021 -  HAJAR HANIFAH \n",
    "***"
   ]
  },
  {
   "cell_type": "markdown",
   "id": "584a8528",
   "metadata": {
    "papermill": {
     "duration": 0.00781,
     "end_time": "2022-07-06T10:15:24.205824",
     "exception": false,
     "start_time": "2022-07-06T10:15:24.198014",
     "status": "completed"
    },
    "tags": []
   },
   "source": [
    "Tujuan penelitian ini adalah melakukan PCA Modeling terhadap data emiten saham di sektor aneka industri untuk sub sektor Mesin dan Komponen Industri Q4 2021. \n",
    "\n",
    "Menggunakan Data Clustering yang sudah dilakukan sebelumnya. [Clustering Sektor Industri - Aneka Industri 2021](https://www.kaggle.com/code/hajarhanifah/clustering-sektor-industri-hajar-hanifah/edit/run/93274745)\n",
    "\n",
    "Adapun beberapa step yang akan dilakukan adalah \n",
    "1. Import Libraries\n",
    "2. Exploratory Data Analysis\n",
    "    - Data Understanding\n",
    "    - Understanding the Table\n",
    "    - Load Data\n",
    "    - Modeling\n",
    "3. Multinomial logistic regression with scikit-learn\n",
    "    - Data Preparation\n",
    "    - Fit The Model\n",
    "    - Model Validation\n",
    "    - Probabilitas\n",
    " 4. Conclution"
   ]
  },
  {
   "cell_type": "markdown",
   "id": "047b572a",
   "metadata": {
    "papermill": {
     "duration": 0.007823,
     "end_time": "2022-07-06T10:15:24.221729",
     "exception": false,
     "start_time": "2022-07-06T10:15:24.213906",
     "status": "completed"
    },
    "tags": []
   },
   "source": [
    "# PCA Modeling untuk Data Visualization"
   ]
  },
  {
   "cell_type": "markdown",
   "id": "fd6fbaf5",
   "metadata": {
    "papermill": {
     "duration": 0.008496,
     "end_time": "2022-07-06T10:15:24.238677",
     "exception": false,
     "start_time": "2022-07-06T10:15:24.230181",
     "status": "completed"
    },
    "tags": []
   },
   "source": [
    "Dalam aplikasi Machine Learning, PCA Modeling sangat berguna untuk memvisualisasi data yang dimiliki. "
   ]
  },
  {
   "cell_type": "markdown",
   "id": "267536d1",
   "metadata": {
    "papermill": {
     "duration": 0.007831,
     "end_time": "2022-07-06T10:15:24.254652",
     "exception": false,
     "start_time": "2022-07-06T10:15:24.246821",
     "status": "completed"
    },
    "tags": []
   },
   "source": [
    "***\n",
    "# 1. Import Libraries\n",
    "***"
   ]
  },
  {
   "cell_type": "code",
   "execution_count": 2,
   "id": "36ca7c17",
   "metadata": {
    "execution": {
     "iopub.execute_input": "2022-07-06T10:15:24.274146Z",
     "iopub.status.busy": "2022-07-06T10:15:24.273757Z",
     "iopub.status.idle": "2022-07-06T10:15:25.941599Z",
     "shell.execute_reply": "2022-07-06T10:15:25.940336Z"
    },
    "papermill": {
     "duration": 1.68062,
     "end_time": "2022-07-06T10:15:25.944049",
     "exception": false,
     "start_time": "2022-07-06T10:15:24.263429",
     "status": "completed"
    },
    "tags": []
   },
   "outputs": [],
   "source": [
    "import pandas as pd \n",
    "import numpy as np\n",
    "import matplotlib.pyplot as plt\n",
    "import seaborn as sns\n",
    "from matplotlib.colors import ListedColormap\n",
    "%matplotlib inline\n",
    "from scipy import stats\n",
    "from matplotlib import pyplot as plt\n",
    "from sklearn.decomposition import PCA\n",
    "from sklearn.preprocessing import StandardScaler\n",
    "from sklearn.cluster import KMeans"
   ]
  },
  {
   "cell_type": "markdown",
   "id": "16557047",
   "metadata": {
    "papermill": {
     "duration": 0.008247,
     "end_time": "2022-07-06T10:15:25.962179",
     "exception": false,
     "start_time": "2022-07-06T10:15:25.953932",
     "status": "completed"
    },
    "tags": []
   },
   "source": [
    "***\n",
    "# 2. Exploratory Data Analysis\n",
    "***\n"
   ]
  },
  {
   "cell_type": "markdown",
   "id": "de47b715",
   "metadata": {
    "papermill": {
     "duration": 0.007977,
     "end_time": "2022-07-06T10:15:25.978438",
     "exception": false,
     "start_time": "2022-07-06T10:15:25.970461",
     "status": "completed"
    },
    "tags": []
   },
   "source": [
    "# 2.1 Data Understanding"
   ]
  },
  {
   "cell_type": "markdown",
   "id": "b0d60809",
   "metadata": {
    "papermill": {
     "duration": 0.007865,
     "end_time": "2022-07-06T10:15:25.994728",
     "exception": false,
     "start_time": "2022-07-06T10:15:25.986863",
     "status": "completed"
    },
    "tags": []
   },
   "source": [
    "Data yang diambil merupakan data statictical financial ratio Q4 2021 dan 2020 untuk seluruh emiten di sektor Industri.\n",
    "\n",
    "Data di dapatkan dari [IDX - Laporan Statistic Financial Data Ratio](https://www.idx.co.id/data-pasar/laporan-statistik/digital-statistic-beta/financial-data-ratio?q=eyJ5ZWFyIjoiMjAyMSIsIm1vbnRoIjpudWxsLCJxdWFydGVyIjo0LCJ0eXBlIjoieWVhcmx5In0=)\n"
   ]
  },
  {
   "cell_type": "markdown",
   "id": "f3a82a16",
   "metadata": {
    "papermill": {
     "duration": 0.008704,
     "end_time": "2022-07-06T10:15:26.011606",
     "exception": false,
     "start_time": "2022-07-06T10:15:26.002902",
     "status": "completed"
    },
    "tags": []
   },
   "source": [
    "# 2.2 Understanding The Table"
   ]
  },
  {
   "cell_type": "markdown",
   "id": "4ec93e91",
   "metadata": {
    "papermill": {
     "duration": 0.00845,
     "end_time": "2022-07-06T10:15:26.028289",
     "exception": false,
     "start_time": "2022-07-06T10:15:26.019839",
     "status": "completed"
    },
    "tags": []
   },
   "source": [
    "* **Emiten :** Pihak yang melakukan penawaran umum, yaitu penawaran efek yang dilakukan oleh emiten untuk menjual efek kepada masyarakat berdasarkan tata cara yang diatur dalam peraturan undang-undang yang berlaku. \n",
    "* **Sales Growth :** Kenaikan jumlah penjualan dari tahun ke tahun atau dari waktu ke waktu.\n",
    "* **ROA (Return of Asset) :** Indikator untuk menunjukkan seberapa untuk sebuah perusahaan dibandingkan dengan total asetnya. \n",
    "* **DER (Debt to Equity Ratio) :** Rasio hutang terhadap ekuitas atau rasio keuangan yang membandingkan jumlah hutang dengan ekuitas"
   ]
  },
  {
   "cell_type": "markdown",
   "id": "268cacbd",
   "metadata": {
    "papermill": {
     "duration": 0.008547,
     "end_time": "2022-07-06T10:15:26.045329",
     "exception": false,
     "start_time": "2022-07-06T10:15:26.036782",
     "status": "completed"
    },
    "tags": []
   },
   "source": [
    "Keterangan rasio yang akan digunakan : \n",
    "- **DER =** Total Uang / Total Ekuitas\n",
    "- **Return on Asset =** Laba setelah pajak / Total Asset \n",
    "- **Sales Growth =** (penjualan periode 2021 - penjualan periode 2020)/ penjualan periode 2020"
   ]
  },
  {
   "cell_type": "markdown",
   "id": "f138798f",
   "metadata": {
    "papermill": {
     "duration": 0.008381,
     "end_time": "2022-07-06T10:15:26.062458",
     "exception": false,
     "start_time": "2022-07-06T10:15:26.054077",
     "status": "completed"
    },
    "tags": []
   },
   "source": [
    "# 2.3 Load Data"
   ]
  },
  {
   "cell_type": "code",
   "execution_count": 3,
   "id": "56ef0f3a",
   "metadata": {
    "execution": {
     "iopub.execute_input": "2022-07-06T10:15:26.081806Z",
     "iopub.status.busy": "2022-07-06T10:15:26.080837Z",
     "iopub.status.idle": "2022-07-06T10:15:26.121671Z",
     "shell.execute_reply": "2022-07-06T10:15:26.120538Z"
    },
    "papermill": {
     "duration": 0.052675,
     "end_time": "2022-07-06T10:15:26.123716",
     "exception": false,
     "start_time": "2022-07-06T10:15:26.071041",
     "status": "completed"
    },
    "tags": []
   },
   "outputs": [
    {
     "data": {
      "text/html": [
       "<div>\n",
       "<style scoped>\n",
       "    .dataframe tbody tr th:only-of-type {\n",
       "        vertical-align: middle;\n",
       "    }\n",
       "\n",
       "    .dataframe tbody tr th {\n",
       "        vertical-align: top;\n",
       "    }\n",
       "\n",
       "    .dataframe thead th {\n",
       "        text-align: right;\n",
       "    }\n",
       "</style>\n",
       "<table border=\"1\" class=\"dataframe\">\n",
       "  <thead>\n",
       "    <tr style=\"text-align: right;\">\n",
       "      <th></th>\n",
       "      <th>No</th>\n",
       "      <th>Industri</th>\n",
       "      <th>Company</th>\n",
       "      <th>Emiten</th>\n",
       "      <th>DER</th>\n",
       "      <th>ROA</th>\n",
       "      <th>Sales Growth</th>\n",
       "      <th>ROE</th>\n",
       "      <th>NPM</th>\n",
       "      <th>Category</th>\n",
       "    </tr>\n",
       "  </thead>\n",
       "  <tbody>\n",
       "    <tr>\n",
       "      <th>0</th>\n",
       "      <td>1</td>\n",
       "      <td>Industrial Machinery &amp; Components</td>\n",
       "      <td>Asahimas Flat Glass Tbk</td>\n",
       "      <td>AMFG</td>\n",
       "      <td>1.32</td>\n",
       "      <td>0.06</td>\n",
       "      <td>0.33</td>\n",
       "      <td>0.13</td>\n",
       "      <td>0.12</td>\n",
       "      <td>1</td>\n",
       "    </tr>\n",
       "    <tr>\n",
       "      <th>1</th>\n",
       "      <td>2</td>\n",
       "      <td>Industrial Machinery &amp; Components</td>\n",
       "      <td>PT Ateliers Mecaniques D Indonesie Tbk.</td>\n",
       "      <td>AMIN</td>\n",
       "      <td>1.14</td>\n",
       "      <td>-0.05</td>\n",
       "      <td>0.41</td>\n",
       "      <td>-0.12</td>\n",
       "      <td>-0.13</td>\n",
       "      <td>1</td>\n",
       "    </tr>\n",
       "    <tr>\n",
       "      <th>2</th>\n",
       "      <td>3</td>\n",
       "      <td>Industrial Machinery &amp; Components</td>\n",
       "      <td>PT Arita Prima Indonesia Tbk.</td>\n",
       "      <td>APII</td>\n",
       "      <td>0.49</td>\n",
       "      <td>0.05</td>\n",
       "      <td>0.03</td>\n",
       "      <td>0.07</td>\n",
       "      <td>0.13</td>\n",
       "      <td>1</td>\n",
       "    </tr>\n",
       "    <tr>\n",
       "      <th>3</th>\n",
       "      <td>4</td>\n",
       "      <td>Industrial Machinery &amp; Components</td>\n",
       "      <td>PT Arkha Jayanti Persada Tbk.</td>\n",
       "      <td>ARKA</td>\n",
       "      <td>3.97</td>\n",
       "      <td>-0.02</td>\n",
       "      <td>0.22</td>\n",
       "      <td>-0.08</td>\n",
       "      <td>-0.16</td>\n",
       "      <td>1</td>\n",
       "    </tr>\n",
       "    <tr>\n",
       "      <th>4</th>\n",
       "      <td>5</td>\n",
       "      <td>Industrial Machinery &amp; Components</td>\n",
       "      <td>Arwana Citramulia Tbk</td>\n",
       "      <td>ARNA</td>\n",
       "      <td>0.51</td>\n",
       "      <td>0.21</td>\n",
       "      <td>0.17</td>\n",
       "      <td>0.32</td>\n",
       "      <td>0.25</td>\n",
       "      <td>4</td>\n",
       "    </tr>\n",
       "  </tbody>\n",
       "</table>\n",
       "</div>"
      ],
      "text/plain": [
       "   No                           Industri  \\\n",
       "0   1  Industrial Machinery & Components   \n",
       "1   2  Industrial Machinery & Components   \n",
       "2   3  Industrial Machinery & Components   \n",
       "3   4  Industrial Machinery & Components   \n",
       "4   5  Industrial Machinery & Components   \n",
       "\n",
       "                                   Company Emiten   DER   ROA  Sales Growth  \\\n",
       "0                  Asahimas Flat Glass Tbk   AMFG  1.32  0.06          0.33   \n",
       "1  PT Ateliers Mecaniques D Indonesie Tbk.   AMIN  1.14 -0.05          0.41   \n",
       "2            PT Arita Prima Indonesia Tbk.   APII  0.49  0.05          0.03   \n",
       "3            PT Arkha Jayanti Persada Tbk.   ARKA  3.97 -0.02          0.22   \n",
       "4                    Arwana Citramulia Tbk   ARNA  0.51  0.21          0.17   \n",
       "\n",
       "    ROE   NPM  Category  \n",
       "0  0.13  0.12         1  \n",
       "1 -0.12 -0.13         1  \n",
       "2  0.07  0.13         1  \n",
       "3 -0.08 -0.16         1  \n",
       "4  0.32  0.25         4  "
      ]
     },
     "execution_count": 3,
     "metadata": {},
     "output_type": "execute_result"
    }
   ],
   "source": [
    "df = pd.read_csv('../input/df-aneka-industri-2021-multinomial/dataset financial data ratio aneka industri 2021 (1).csv')\n",
    "df.head()"
   ]
  },
  {
   "cell_type": "code",
   "execution_count": 4,
   "id": "c78439d3",
   "metadata": {
    "execution": {
     "iopub.execute_input": "2022-07-06T10:15:26.142517Z",
     "iopub.status.busy": "2022-07-06T10:15:26.142120Z",
     "iopub.status.idle": "2022-07-06T10:15:26.184619Z",
     "shell.execute_reply": "2022-07-06T10:15:26.183482Z"
    },
    "papermill": {
     "duration": 0.054916,
     "end_time": "2022-07-06T10:15:26.187100",
     "exception": false,
     "start_time": "2022-07-06T10:15:26.132184",
     "status": "completed"
    },
    "tags": []
   },
   "outputs": [
    {
     "data": {
      "text/html": [
       "<div>\n",
       "<style scoped>\n",
       "    .dataframe tbody tr th:only-of-type {\n",
       "        vertical-align: middle;\n",
       "    }\n",
       "\n",
       "    .dataframe tbody tr th {\n",
       "        vertical-align: top;\n",
       "    }\n",
       "\n",
       "    .dataframe thead th {\n",
       "        text-align: right;\n",
       "    }\n",
       "</style>\n",
       "<table border=\"1\" class=\"dataframe\">\n",
       "  <thead>\n",
       "    <tr style=\"text-align: right;\">\n",
       "      <th></th>\n",
       "      <th>No</th>\n",
       "      <th>DER</th>\n",
       "      <th>ROA</th>\n",
       "      <th>Sales Growth</th>\n",
       "      <th>ROE</th>\n",
       "      <th>NPM</th>\n",
       "      <th>Category</th>\n",
       "    </tr>\n",
       "  </thead>\n",
       "  <tbody>\n",
       "    <tr>\n",
       "      <th>count</th>\n",
       "      <td>29.000000</td>\n",
       "      <td>29.000000</td>\n",
       "      <td>29.000000</td>\n",
       "      <td>29.000000</td>\n",
       "      <td>29.000000</td>\n",
       "      <td>29.000000</td>\n",
       "      <td>29.000000</td>\n",
       "    </tr>\n",
       "    <tr>\n",
       "      <th>mean</th>\n",
       "      <td>15.000000</td>\n",
       "      <td>1.897586</td>\n",
       "      <td>0.025517</td>\n",
       "      <td>0.304483</td>\n",
       "      <td>0.021379</td>\n",
       "      <td>-0.053448</td>\n",
       "      <td>1.517241</td>\n",
       "    </tr>\n",
       "    <tr>\n",
       "      <th>std</th>\n",
       "      <td>8.514693</td>\n",
       "      <td>3.366741</td>\n",
       "      <td>0.103909</td>\n",
       "      <td>0.431456</td>\n",
       "      <td>0.241568</td>\n",
       "      <td>0.420300</td>\n",
       "      <td>1.121883</td>\n",
       "    </tr>\n",
       "    <tr>\n",
       "      <th>min</th>\n",
       "      <td>1.000000</td>\n",
       "      <td>-2.860000</td>\n",
       "      <td>-0.320000</td>\n",
       "      <td>-0.280000</td>\n",
       "      <td>-0.930000</td>\n",
       "      <td>-1.990000</td>\n",
       "      <td>0.000000</td>\n",
       "    </tr>\n",
       "    <tr>\n",
       "      <th>25%</th>\n",
       "      <td>8.000000</td>\n",
       "      <td>0.510000</td>\n",
       "      <td>-0.020000</td>\n",
       "      <td>0.030000</td>\n",
       "      <td>-0.080000</td>\n",
       "      <td>-0.050000</td>\n",
       "      <td>1.000000</td>\n",
       "    </tr>\n",
       "    <tr>\n",
       "      <th>50%</th>\n",
       "      <td>15.000000</td>\n",
       "      <td>0.880000</td>\n",
       "      <td>0.020000</td>\n",
       "      <td>0.220000</td>\n",
       "      <td>0.040000</td>\n",
       "      <td>0.040000</td>\n",
       "      <td>1.000000</td>\n",
       "    </tr>\n",
       "    <tr>\n",
       "      <th>75%</th>\n",
       "      <td>22.000000</td>\n",
       "      <td>1.910000</td>\n",
       "      <td>0.060000</td>\n",
       "      <td>0.410000</td>\n",
       "      <td>0.130000</td>\n",
       "      <td>0.130000</td>\n",
       "      <td>1.000000</td>\n",
       "    </tr>\n",
       "    <tr>\n",
       "      <th>max</th>\n",
       "      <td>29.000000</td>\n",
       "      <td>16.330000</td>\n",
       "      <td>0.310000</td>\n",
       "      <td>1.440000</td>\n",
       "      <td>0.520000</td>\n",
       "      <td>0.400000</td>\n",
       "      <td>4.000000</td>\n",
       "    </tr>\n",
       "  </tbody>\n",
       "</table>\n",
       "</div>"
      ],
      "text/plain": [
       "              No        DER        ROA  Sales Growth        ROE        NPM  \\\n",
       "count  29.000000  29.000000  29.000000     29.000000  29.000000  29.000000   \n",
       "mean   15.000000   1.897586   0.025517      0.304483   0.021379  -0.053448   \n",
       "std     8.514693   3.366741   0.103909      0.431456   0.241568   0.420300   \n",
       "min     1.000000  -2.860000  -0.320000     -0.280000  -0.930000  -1.990000   \n",
       "25%     8.000000   0.510000  -0.020000      0.030000  -0.080000  -0.050000   \n",
       "50%    15.000000   0.880000   0.020000      0.220000   0.040000   0.040000   \n",
       "75%    22.000000   1.910000   0.060000      0.410000   0.130000   0.130000   \n",
       "max    29.000000  16.330000   0.310000      1.440000   0.520000   0.400000   \n",
       "\n",
       "        Category  \n",
       "count  29.000000  \n",
       "mean    1.517241  \n",
       "std     1.121883  \n",
       "min     0.000000  \n",
       "25%     1.000000  \n",
       "50%     1.000000  \n",
       "75%     1.000000  \n",
       "max     4.000000  "
      ]
     },
     "execution_count": 4,
     "metadata": {},
     "output_type": "execute_result"
    }
   ],
   "source": [
    "df.describe()"
   ]
  },
  {
   "cell_type": "code",
   "execution_count": 5,
   "id": "06ae0a89",
   "metadata": {
    "execution": {
     "iopub.execute_input": "2022-07-06T10:15:26.206530Z",
     "iopub.status.busy": "2022-07-06T10:15:26.206133Z",
     "iopub.status.idle": "2022-07-06T10:15:26.213045Z",
     "shell.execute_reply": "2022-07-06T10:15:26.211972Z"
    },
    "papermill": {
     "duration": 0.018833,
     "end_time": "2022-07-06T10:15:26.215089",
     "exception": false,
     "start_time": "2022-07-06T10:15:26.196256",
     "status": "completed"
    },
    "tags": []
   },
   "outputs": [
    {
     "data": {
      "text/plain": [
       "(29, 10)"
      ]
     },
     "execution_count": 5,
     "metadata": {},
     "output_type": "execute_result"
    }
   ],
   "source": [
    "df.shape"
   ]
  },
  {
   "cell_type": "code",
   "execution_count": 6,
   "id": "9144438a",
   "metadata": {
    "execution": {
     "iopub.execute_input": "2022-07-06T10:15:26.234438Z",
     "iopub.status.busy": "2022-07-06T10:15:26.234036Z",
     "iopub.status.idle": "2022-07-06T10:15:26.259512Z",
     "shell.execute_reply": "2022-07-06T10:15:26.258388Z"
    },
    "papermill": {
     "duration": 0.037943,
     "end_time": "2022-07-06T10:15:26.261699",
     "exception": false,
     "start_time": "2022-07-06T10:15:26.223756",
     "status": "completed"
    },
    "tags": []
   },
   "outputs": [
    {
     "data": {
      "text/html": [
       "<div>\n",
       "<style scoped>\n",
       "    .dataframe tbody tr th:only-of-type {\n",
       "        vertical-align: middle;\n",
       "    }\n",
       "\n",
       "    .dataframe tbody tr th {\n",
       "        vertical-align: top;\n",
       "    }\n",
       "\n",
       "    .dataframe thead th {\n",
       "        text-align: right;\n",
       "    }\n",
       "</style>\n",
       "<table border=\"1\" class=\"dataframe\">\n",
       "  <thead>\n",
       "    <tr style=\"text-align: right;\">\n",
       "      <th></th>\n",
       "      <th>No</th>\n",
       "      <th>Industri</th>\n",
       "      <th>Company</th>\n",
       "      <th>Emiten</th>\n",
       "      <th>DER</th>\n",
       "      <th>ROA</th>\n",
       "      <th>Sales Growth</th>\n",
       "      <th>ROE</th>\n",
       "      <th>NPM</th>\n",
       "      <th>Category</th>\n",
       "    </tr>\n",
       "  </thead>\n",
       "  <tbody>\n",
       "    <tr>\n",
       "      <th>0</th>\n",
       "      <td>1</td>\n",
       "      <td>Industrial Machinery &amp; Components</td>\n",
       "      <td>Asahimas Flat Glass Tbk</td>\n",
       "      <td>AMFG</td>\n",
       "      <td>1.32</td>\n",
       "      <td>0.06</td>\n",
       "      <td>0.33</td>\n",
       "      <td>0.13</td>\n",
       "      <td>0.12</td>\n",
       "      <td>1</td>\n",
       "    </tr>\n",
       "    <tr>\n",
       "      <th>1</th>\n",
       "      <td>2</td>\n",
       "      <td>Industrial Machinery &amp; Components</td>\n",
       "      <td>PT Ateliers Mecaniques D Indonesie Tbk.</td>\n",
       "      <td>AMIN</td>\n",
       "      <td>1.14</td>\n",
       "      <td>-0.05</td>\n",
       "      <td>0.41</td>\n",
       "      <td>-0.12</td>\n",
       "      <td>-0.13</td>\n",
       "      <td>1</td>\n",
       "    </tr>\n",
       "    <tr>\n",
       "      <th>2</th>\n",
       "      <td>3</td>\n",
       "      <td>Industrial Machinery &amp; Components</td>\n",
       "      <td>PT Arita Prima Indonesia Tbk.</td>\n",
       "      <td>APII</td>\n",
       "      <td>0.49</td>\n",
       "      <td>0.05</td>\n",
       "      <td>0.03</td>\n",
       "      <td>0.07</td>\n",
       "      <td>0.13</td>\n",
       "      <td>1</td>\n",
       "    </tr>\n",
       "    <tr>\n",
       "      <th>3</th>\n",
       "      <td>4</td>\n",
       "      <td>Industrial Machinery &amp; Components</td>\n",
       "      <td>PT Arkha Jayanti Persada Tbk.</td>\n",
       "      <td>ARKA</td>\n",
       "      <td>3.97</td>\n",
       "      <td>-0.02</td>\n",
       "      <td>0.22</td>\n",
       "      <td>-0.08</td>\n",
       "      <td>-0.16</td>\n",
       "      <td>1</td>\n",
       "    </tr>\n",
       "    <tr>\n",
       "      <th>4</th>\n",
       "      <td>5</td>\n",
       "      <td>Industrial Machinery &amp; Components</td>\n",
       "      <td>Arwana Citramulia Tbk</td>\n",
       "      <td>ARNA</td>\n",
       "      <td>0.51</td>\n",
       "      <td>0.21</td>\n",
       "      <td>0.17</td>\n",
       "      <td>0.32</td>\n",
       "      <td>0.25</td>\n",
       "      <td>4</td>\n",
       "    </tr>\n",
       "    <tr>\n",
       "      <th>5</th>\n",
       "      <td>6</td>\n",
       "      <td>Industrial Machinery &amp; Components</td>\n",
       "      <td>Cahayaputra Asa Keramik Tbk</td>\n",
       "      <td>CAKK</td>\n",
       "      <td>0.88</td>\n",
       "      <td>0.03</td>\n",
       "      <td>0.30</td>\n",
       "      <td>0.06</td>\n",
       "      <td>0.07</td>\n",
       "      <td>1</td>\n",
       "    </tr>\n",
       "    <tr>\n",
       "      <th>6</th>\n",
       "      <td>7</td>\n",
       "      <td>Industrial Machinery &amp; Components</td>\n",
       "      <td>Communication Cable Systems Indonesia Tbk</td>\n",
       "      <td>CCSI</td>\n",
       "      <td>0.31</td>\n",
       "      <td>0.11</td>\n",
       "      <td>0.79</td>\n",
       "      <td>0.14</td>\n",
       "      <td>0.17</td>\n",
       "      <td>4</td>\n",
       "    </tr>\n",
       "    <tr>\n",
       "      <th>7</th>\n",
       "      <td>8</td>\n",
       "      <td>Industrial Machinery &amp; Components</td>\n",
       "      <td>Citatah Tbk</td>\n",
       "      <td>CTTH</td>\n",
       "      <td>2.28</td>\n",
       "      <td>-0.05</td>\n",
       "      <td>-0.17</td>\n",
       "      <td>-0.16</td>\n",
       "      <td>-0.54</td>\n",
       "      <td>1</td>\n",
       "    </tr>\n",
       "    <tr>\n",
       "      <th>8</th>\n",
       "      <td>9</td>\n",
       "      <td>Industrial Machinery &amp; Components</td>\n",
       "      <td>Hexindo Adiperkasa Tbk</td>\n",
       "      <td>HEXA</td>\n",
       "      <td>1.38</td>\n",
       "      <td>0.12</td>\n",
       "      <td>0.68</td>\n",
       "      <td>0.29</td>\n",
       "      <td>0.21</td>\n",
       "      <td>4</td>\n",
       "    </tr>\n",
       "    <tr>\n",
       "      <th>9</th>\n",
       "      <td>10</td>\n",
       "      <td>Industrial Machinery &amp; Components</td>\n",
       "      <td>Sumi Indo Kabel Tbk</td>\n",
       "      <td>IKBI</td>\n",
       "      <td>0.67</td>\n",
       "      <td>0.01</td>\n",
       "      <td>0.67</td>\n",
       "      <td>0.01</td>\n",
       "      <td>0.01</td>\n",
       "      <td>1</td>\n",
       "    </tr>\n",
       "    <tr>\n",
       "      <th>10</th>\n",
       "      <td>11</td>\n",
       "      <td>Industrial Machinery &amp; Components</td>\n",
       "      <td>Impack Pratama Industri Tbk</td>\n",
       "      <td>IMPC</td>\n",
       "      <td>0.72</td>\n",
       "      <td>0.08</td>\n",
       "      <td>0.28</td>\n",
       "      <td>0.13</td>\n",
       "      <td>0.13</td>\n",
       "      <td>1</td>\n",
       "    </tr>\n",
       "    <tr>\n",
       "      <th>11</th>\n",
       "      <td>12</td>\n",
       "      <td>Industrial Machinery &amp; Components</td>\n",
       "      <td>Intraco Penta Tbk</td>\n",
       "      <td>INTA</td>\n",
       "      <td>-2.86</td>\n",
       "      <td>-0.32</td>\n",
       "      <td>-0.22</td>\n",
       "      <td>0.00</td>\n",
       "      <td>-1.99</td>\n",
       "      <td>3</td>\n",
       "    </tr>\n",
       "    <tr>\n",
       "      <th>12</th>\n",
       "      <td>13</td>\n",
       "      <td>Industrial Machinery &amp; Components</td>\n",
       "      <td>Jembo Cable Company Tbk</td>\n",
       "      <td>JECC</td>\n",
       "      <td>1.58</td>\n",
       "      <td>-0.04</td>\n",
       "      <td>0.16</td>\n",
       "      <td>-0.10</td>\n",
       "      <td>-0.05</td>\n",
       "      <td>1</td>\n",
       "    </tr>\n",
       "    <tr>\n",
       "      <th>13</th>\n",
       "      <td>14</td>\n",
       "      <td>Industrial Machinery &amp; Components</td>\n",
       "      <td>KMI Wire &amp; Cable Tbk</td>\n",
       "      <td>KBLI</td>\n",
       "      <td>0.16</td>\n",
       "      <td>0.02</td>\n",
       "      <td>-0.17</td>\n",
       "      <td>0.02</td>\n",
       "      <td>0.05</td>\n",
       "      <td>1</td>\n",
       "    </tr>\n",
       "    <tr>\n",
       "      <th>14</th>\n",
       "      <td>15</td>\n",
       "      <td>Industrial Machinery &amp; Components</td>\n",
       "      <td>Kabelindo Murni Tbk</td>\n",
       "      <td>KBLM</td>\n",
       "      <td>0.38</td>\n",
       "      <td>0.00</td>\n",
       "      <td>0.36</td>\n",
       "      <td>-0.01</td>\n",
       "      <td>-0.01</td>\n",
       "      <td>1</td>\n",
       "    </tr>\n",
       "    <tr>\n",
       "      <th>15</th>\n",
       "      <td>16</td>\n",
       "      <td>Industrial Machinery &amp; Components</td>\n",
       "      <td>Keramika Indonesia Assosiasi Tbk</td>\n",
       "      <td>KIAS</td>\n",
       "      <td>0.18</td>\n",
       "      <td>-0.01</td>\n",
       "      <td>0.41</td>\n",
       "      <td>-0.02</td>\n",
       "      <td>-0.03</td>\n",
       "      <td>1</td>\n",
       "    </tr>\n",
       "    <tr>\n",
       "      <th>16</th>\n",
       "      <td>17</td>\n",
       "      <td>Industrial Machinery &amp; Components</td>\n",
       "      <td>Kobexindo Tractors Tbk</td>\n",
       "      <td>KOBX</td>\n",
       "      <td>2.79</td>\n",
       "      <td>0.06</td>\n",
       "      <td>1.44</td>\n",
       "      <td>0.24</td>\n",
       "      <td>0.07</td>\n",
       "      <td>2</td>\n",
       "    </tr>\n",
       "    <tr>\n",
       "      <th>17</th>\n",
       "      <td>18</td>\n",
       "      <td>Industrial Machinery &amp; Components</td>\n",
       "      <td>Kokoh Inti Arebama Tbk</td>\n",
       "      <td>KOIN</td>\n",
       "      <td>8.53</td>\n",
       "      <td>-0.02</td>\n",
       "      <td>0.99</td>\n",
       "      <td>-0.21</td>\n",
       "      <td>-0.01</td>\n",
       "      <td>2</td>\n",
       "    </tr>\n",
       "    <tr>\n",
       "      <th>18</th>\n",
       "      <td>19</td>\n",
       "      <td>Industrial Machinery &amp; Components</td>\n",
       "      <td>Steadfast Marine Tbk</td>\n",
       "      <td>KPAL</td>\n",
       "      <td>3.15</td>\n",
       "      <td>-0.02</td>\n",
       "      <td>0.00</td>\n",
       "      <td>-0.08</td>\n",
       "      <td>-0.50</td>\n",
       "      <td>1</td>\n",
       "    </tr>\n",
       "    <tr>\n",
       "      <th>19</th>\n",
       "      <td>20</td>\n",
       "      <td>Industrial Machinery &amp; Components</td>\n",
       "      <td>PT Grand Kartech Tbk</td>\n",
       "      <td>KRAH</td>\n",
       "      <td>16.33</td>\n",
       "      <td>-0.05</td>\n",
       "      <td>0.00</td>\n",
       "      <td>-0.93</td>\n",
       "      <td>-0.18</td>\n",
       "      <td>0</td>\n",
       "    </tr>\n",
       "    <tr>\n",
       "      <th>20</th>\n",
       "      <td>21</td>\n",
       "      <td>Industrial Machinery &amp; Components</td>\n",
       "      <td>PT Mark Dynamics Indonesia Tbk.</td>\n",
       "      <td>MARK</td>\n",
       "      <td>0.67</td>\n",
       "      <td>0.31</td>\n",
       "      <td>1.42</td>\n",
       "      <td>0.52</td>\n",
       "      <td>0.40</td>\n",
       "      <td>4</td>\n",
       "    </tr>\n",
       "    <tr>\n",
       "      <th>21</th>\n",
       "      <td>22</td>\n",
       "      <td>Industrial Machinery &amp; Components</td>\n",
       "      <td>Mulia Industrindo Tbk</td>\n",
       "      <td>MLIA</td>\n",
       "      <td>0.91</td>\n",
       "      <td>0.08</td>\n",
       "      <td>0.16</td>\n",
       "      <td>0.15</td>\n",
       "      <td>0.15</td>\n",
       "      <td>1</td>\n",
       "    </tr>\n",
       "    <tr>\n",
       "      <th>22</th>\n",
       "      <td>23</td>\n",
       "      <td>Industrial Machinery &amp; Components</td>\n",
       "      <td>Supreme Cable Manufacturing &amp; Commerce Tbk</td>\n",
       "      <td>SCCO</td>\n",
       "      <td>0.08</td>\n",
       "      <td>0.04</td>\n",
       "      <td>0.16</td>\n",
       "      <td>0.05</td>\n",
       "      <td>0.04</td>\n",
       "      <td>1</td>\n",
       "    </tr>\n",
       "    <tr>\n",
       "      <th>23</th>\n",
       "      <td>24</td>\n",
       "      <td>Industrial Machinery &amp; Components</td>\n",
       "      <td>Singaraja Putra Tbk</td>\n",
       "      <td>SINI</td>\n",
       "      <td>4.09</td>\n",
       "      <td>0.02</td>\n",
       "      <td>0.29</td>\n",
       "      <td>0.10</td>\n",
       "      <td>0.01</td>\n",
       "      <td>1</td>\n",
       "    </tr>\n",
       "    <tr>\n",
       "      <th>24</th>\n",
       "      <td>25</td>\n",
       "      <td>Industrial Machinery &amp; Components</td>\n",
       "      <td>Superkrane Mitra Utama Tbk</td>\n",
       "      <td>SKRN</td>\n",
       "      <td>1.68</td>\n",
       "      <td>0.01</td>\n",
       "      <td>-0.28</td>\n",
       "      <td>0.01</td>\n",
       "      <td>0.03</td>\n",
       "      <td>1</td>\n",
       "    </tr>\n",
       "    <tr>\n",
       "      <th>25</th>\n",
       "      <td>26</td>\n",
       "      <td>Industrial Machinery &amp; Components</td>\n",
       "      <td>Surya Pertiwi Tbk</td>\n",
       "      <td>SPTO</td>\n",
       "      <td>0.54</td>\n",
       "      <td>0.06</td>\n",
       "      <td>0.17</td>\n",
       "      <td>0.08</td>\n",
       "      <td>0.11</td>\n",
       "      <td>1</td>\n",
       "    </tr>\n",
       "    <tr>\n",
       "      <th>26</th>\n",
       "      <td>27</td>\n",
       "      <td>Industrial Machinery &amp; Components</td>\n",
       "      <td>Surya Toto Indonesia Tbk</td>\n",
       "      <td>TOTO</td>\n",
       "      <td>0.65</td>\n",
       "      <td>0.02</td>\n",
       "      <td>0.14</td>\n",
       "      <td>0.04</td>\n",
       "      <td>0.06</td>\n",
       "      <td>1</td>\n",
       "    </tr>\n",
       "    <tr>\n",
       "      <th>27</th>\n",
       "      <td>28</td>\n",
       "      <td>Industrial Machinery &amp; Components</td>\n",
       "      <td>United Tractors Tbk</td>\n",
       "      <td>UNTR</td>\n",
       "      <td>0.59</td>\n",
       "      <td>0.09</td>\n",
       "      <td>0.24</td>\n",
       "      <td>0.15</td>\n",
       "      <td>0.18</td>\n",
       "      <td>1</td>\n",
       "    </tr>\n",
       "    <tr>\n",
       "      <th>28</th>\n",
       "      <td>29</td>\n",
       "      <td>Industrial Machinery &amp; Components</td>\n",
       "      <td>Voksel Electric Tbk</td>\n",
       "      <td>VOKS</td>\n",
       "      <td>1.91</td>\n",
       "      <td>-0.06</td>\n",
       "      <td>-0.15</td>\n",
       "      <td>-0.18</td>\n",
       "      <td>-0.14</td>\n",
       "      <td>1</td>\n",
       "    </tr>\n",
       "  </tbody>\n",
       "</table>\n",
       "</div>"
      ],
      "text/plain": [
       "    No                           Industri  \\\n",
       "0    1  Industrial Machinery & Components   \n",
       "1    2  Industrial Machinery & Components   \n",
       "2    3  Industrial Machinery & Components   \n",
       "3    4  Industrial Machinery & Components   \n",
       "4    5  Industrial Machinery & Components   \n",
       "5    6  Industrial Machinery & Components   \n",
       "6    7  Industrial Machinery & Components   \n",
       "7    8  Industrial Machinery & Components   \n",
       "8    9  Industrial Machinery & Components   \n",
       "9   10  Industrial Machinery & Components   \n",
       "10  11  Industrial Machinery & Components   \n",
       "11  12  Industrial Machinery & Components   \n",
       "12  13  Industrial Machinery & Components   \n",
       "13  14  Industrial Machinery & Components   \n",
       "14  15  Industrial Machinery & Components   \n",
       "15  16  Industrial Machinery & Components   \n",
       "16  17  Industrial Machinery & Components   \n",
       "17  18  Industrial Machinery & Components   \n",
       "18  19  Industrial Machinery & Components   \n",
       "19  20  Industrial Machinery & Components   \n",
       "20  21  Industrial Machinery & Components   \n",
       "21  22  Industrial Machinery & Components   \n",
       "22  23  Industrial Machinery & Components   \n",
       "23  24  Industrial Machinery & Components   \n",
       "24  25  Industrial Machinery & Components   \n",
       "25  26  Industrial Machinery & Components   \n",
       "26  27  Industrial Machinery & Components   \n",
       "27  28  Industrial Machinery & Components   \n",
       "28  29  Industrial Machinery & Components   \n",
       "\n",
       "                                       Company Emiten    DER   ROA  \\\n",
       "0                      Asahimas Flat Glass Tbk   AMFG   1.32  0.06   \n",
       "1      PT Ateliers Mecaniques D Indonesie Tbk.   AMIN   1.14 -0.05   \n",
       "2                PT Arita Prima Indonesia Tbk.   APII   0.49  0.05   \n",
       "3                PT Arkha Jayanti Persada Tbk.   ARKA   3.97 -0.02   \n",
       "4                        Arwana Citramulia Tbk   ARNA   0.51  0.21   \n",
       "5                  Cahayaputra Asa Keramik Tbk   CAKK   0.88  0.03   \n",
       "6    Communication Cable Systems Indonesia Tbk   CCSI   0.31  0.11   \n",
       "7                                  Citatah Tbk   CTTH   2.28 -0.05   \n",
       "8                       Hexindo Adiperkasa Tbk   HEXA   1.38  0.12   \n",
       "9                          Sumi Indo Kabel Tbk   IKBI   0.67  0.01   \n",
       "10                 Impack Pratama Industri Tbk   IMPC   0.72  0.08   \n",
       "11                           Intraco Penta Tbk   INTA  -2.86 -0.32   \n",
       "12                     Jembo Cable Company Tbk   JECC   1.58 -0.04   \n",
       "13                        KMI Wire & Cable Tbk   KBLI   0.16  0.02   \n",
       "14                         Kabelindo Murni Tbk   KBLM   0.38  0.00   \n",
       "15            Keramika Indonesia Assosiasi Tbk   KIAS   0.18 -0.01   \n",
       "16                      Kobexindo Tractors Tbk   KOBX   2.79  0.06   \n",
       "17                      Kokoh Inti Arebama Tbk   KOIN   8.53 -0.02   \n",
       "18                        Steadfast Marine Tbk   KPAL   3.15 -0.02   \n",
       "19                        PT Grand Kartech Tbk   KRAH  16.33 -0.05   \n",
       "20             PT Mark Dynamics Indonesia Tbk.   MARK   0.67  0.31   \n",
       "21                       Mulia Industrindo Tbk   MLIA   0.91  0.08   \n",
       "22  Supreme Cable Manufacturing & Commerce Tbk   SCCO   0.08  0.04   \n",
       "23                         Singaraja Putra Tbk   SINI   4.09  0.02   \n",
       "24                  Superkrane Mitra Utama Tbk   SKRN   1.68  0.01   \n",
       "25                           Surya Pertiwi Tbk   SPTO   0.54  0.06   \n",
       "26                    Surya Toto Indonesia Tbk   TOTO   0.65  0.02   \n",
       "27                         United Tractors Tbk   UNTR   0.59  0.09   \n",
       "28                         Voksel Electric Tbk   VOKS   1.91 -0.06   \n",
       "\n",
       "    Sales Growth   ROE   NPM  Category  \n",
       "0           0.33  0.13  0.12         1  \n",
       "1           0.41 -0.12 -0.13         1  \n",
       "2           0.03  0.07  0.13         1  \n",
       "3           0.22 -0.08 -0.16         1  \n",
       "4           0.17  0.32  0.25         4  \n",
       "5           0.30  0.06  0.07         1  \n",
       "6           0.79  0.14  0.17         4  \n",
       "7          -0.17 -0.16 -0.54         1  \n",
       "8           0.68  0.29  0.21         4  \n",
       "9           0.67  0.01  0.01         1  \n",
       "10          0.28  0.13  0.13         1  \n",
       "11         -0.22  0.00 -1.99         3  \n",
       "12          0.16 -0.10 -0.05         1  \n",
       "13         -0.17  0.02  0.05         1  \n",
       "14          0.36 -0.01 -0.01         1  \n",
       "15          0.41 -0.02 -0.03         1  \n",
       "16          1.44  0.24  0.07         2  \n",
       "17          0.99 -0.21 -0.01         2  \n",
       "18          0.00 -0.08 -0.50         1  \n",
       "19          0.00 -0.93 -0.18         0  \n",
       "20          1.42  0.52  0.40         4  \n",
       "21          0.16  0.15  0.15         1  \n",
       "22          0.16  0.05  0.04         1  \n",
       "23          0.29  0.10  0.01         1  \n",
       "24         -0.28  0.01  0.03         1  \n",
       "25          0.17  0.08  0.11         1  \n",
       "26          0.14  0.04  0.06         1  \n",
       "27          0.24  0.15  0.18         1  \n",
       "28         -0.15 -0.18 -0.14         1  "
      ]
     },
     "metadata": {},
     "output_type": "display_data"
    }
   ],
   "source": [
    "display(df)"
   ]
  },
  {
   "cell_type": "markdown",
   "id": "3beb9354",
   "metadata": {
    "papermill": {
     "duration": 0.009043,
     "end_time": "2022-07-06T10:15:26.280090",
     "exception": false,
     "start_time": "2022-07-06T10:15:26.271047",
     "status": "completed"
    },
    "tags": []
   },
   "source": [
    "**Mengganti Null dengan 0**"
   ]
  },
  {
   "cell_type": "code",
   "execution_count": 7,
   "id": "faff0f89",
   "metadata": {
    "execution": {
     "iopub.execute_input": "2022-07-06T10:15:26.301187Z",
     "iopub.status.busy": "2022-07-06T10:15:26.300774Z",
     "iopub.status.idle": "2022-07-06T10:15:26.310042Z",
     "shell.execute_reply": "2022-07-06T10:15:26.308937Z"
    },
    "papermill": {
     "duration": 0.022765,
     "end_time": "2022-07-06T10:15:26.312240",
     "exception": false,
     "start_time": "2022-07-06T10:15:26.289475",
     "status": "completed"
    },
    "tags": []
   },
   "outputs": [
    {
     "data": {
      "text/plain": [
       "No              0\n",
       "Industri        0\n",
       "Company         0\n",
       "Emiten          0\n",
       "DER             0\n",
       "ROA             0\n",
       "Sales Growth    0\n",
       "ROE             0\n",
       "NPM             0\n",
       "Category        0\n",
       "dtype: int64"
      ]
     },
     "execution_count": 7,
     "metadata": {},
     "output_type": "execute_result"
    }
   ],
   "source": [
    "df.isnull().sum()"
   ]
  },
  {
   "cell_type": "code",
   "execution_count": 8,
   "id": "cc8ef7e3",
   "metadata": {
    "execution": {
     "iopub.execute_input": "2022-07-06T10:15:26.333273Z",
     "iopub.status.busy": "2022-07-06T10:15:26.332862Z",
     "iopub.status.idle": "2022-07-06T10:15:26.349729Z",
     "shell.execute_reply": "2022-07-06T10:15:26.348734Z"
    },
    "papermill": {
     "duration": 0.030604,
     "end_time": "2022-07-06T10:15:26.352169",
     "exception": false,
     "start_time": "2022-07-06T10:15:26.321565",
     "status": "completed"
    },
    "tags": []
   },
   "outputs": [
    {
     "name": "stdout",
     "output_type": "stream",
     "text": [
      "<class 'pandas.core.frame.DataFrame'>\n",
      "RangeIndex: 29 entries, 0 to 28\n",
      "Data columns (total 10 columns):\n",
      " #   Column        Non-Null Count  Dtype  \n",
      "---  ------        --------------  -----  \n",
      " 0   No            29 non-null     int64  \n",
      " 1   Industri      29 non-null     object \n",
      " 2   Company       29 non-null     object \n",
      " 3   Emiten        29 non-null     object \n",
      " 4   DER           29 non-null     float64\n",
      " 5   ROA           29 non-null     float64\n",
      " 6   Sales Growth  29 non-null     float64\n",
      " 7   ROE           29 non-null     float64\n",
      " 8   NPM           29 non-null     float64\n",
      " 9   Category      29 non-null     int64  \n",
      "dtypes: float64(5), int64(2), object(3)\n",
      "memory usage: 2.4+ KB\n"
     ]
    }
   ],
   "source": [
    "df.info()"
   ]
  },
  {
   "cell_type": "markdown",
   "id": "447ed645",
   "metadata": {
    "papermill": {
     "duration": 0.009032,
     "end_time": "2022-07-06T10:15:26.370690",
     "exception": false,
     "start_time": "2022-07-06T10:15:26.361658",
     "status": "completed"
    },
    "tags": []
   },
   "source": [
    "# 2.1 Standardize the Data"
   ]
  },
  {
   "cell_type": "markdown",
   "id": "3cebf2c1",
   "metadata": {
    "papermill": {
     "duration": 0.00897,
     "end_time": "2022-07-06T10:15:26.388900",
     "exception": false,
     "start_time": "2022-07-06T10:15:26.379930",
     "status": "completed"
    },
    "tags": []
   },
   "source": [
    "PCA dipengaruhi oleh skala / scale, sehingga diperlukan untuk men skalakan fitur dalam data sebelum menerapkan PCA. \n",
    "- gunakan StandardScaler untuk membantu menstandarisasi dataset ke unit skala (mean = 0, variance = 1) untuk mengoptimalkan kinerja algoritma dari Machine Learning \n",
    "- Untuk melihat efek negatif dari tidak menskalakan dataset, dapat menggunakan sckit-learn"
   ]
  },
  {
   "cell_type": "code",
   "execution_count": 9,
   "id": "cd92ef38",
   "metadata": {
    "execution": {
     "iopub.execute_input": "2022-07-06T10:15:26.409539Z",
     "iopub.status.busy": "2022-07-06T10:15:26.409168Z",
     "iopub.status.idle": "2022-07-06T10:15:26.417301Z",
     "shell.execute_reply": "2022-07-06T10:15:26.416172Z"
    },
    "papermill": {
     "duration": 0.021098,
     "end_time": "2022-07-06T10:15:26.419458",
     "exception": false,
     "start_time": "2022-07-06T10:15:26.398360",
     "status": "completed"
    },
    "tags": []
   },
   "outputs": [],
   "source": [
    "from sklearn.preprocessing import StandardScaler\n",
    "features = ['DER', 'ROA', 'Sales Growth', 'ROE', 'NPM']\n",
    "# Separating out the features\n",
    "x = df.loc[:, features].values\n",
    "# Separating out the target\n",
    "y = df.loc[:,['Category']].values\n",
    "# Standardizing the features\n",
    "data_standard= StandardScaler().fit_transform(x)  "
   ]
  },
  {
   "cell_type": "code",
   "execution_count": 10,
   "id": "7169cf04",
   "metadata": {
    "execution": {
     "iopub.execute_input": "2022-07-06T10:15:26.440717Z",
     "iopub.status.busy": "2022-07-06T10:15:26.440327Z",
     "iopub.status.idle": "2022-07-06T10:15:26.449172Z",
     "shell.execute_reply": "2022-07-06T10:15:26.447945Z"
    },
    "papermill": {
     "duration": 0.022461,
     "end_time": "2022-07-06T10:15:26.451515",
     "exception": false,
     "start_time": "2022-07-06T10:15:26.429054",
     "status": "completed"
    },
    "tags": []
   },
   "outputs": [
    {
     "data": {
      "text/plain": [
       "array([[-1.74593085e-01,  3.37729925e-01,  6.01890239e-02,\n",
       "         4.57607212e-01,  4.19982048e-01],\n",
       "       [-2.29003587e-01, -7.39628535e-01,  2.48889748e-01,\n",
       "        -5.95615737e-01, -1.85359870e-01],\n",
       "       [-4.25485955e-01,  2.39788246e-01, -6.47438690e-01,\n",
       "         2.04833705e-01,  4.44195725e-01],\n",
       "       [ 6.26450413e-01, -4.45803500e-01, -1.99274471e-01,\n",
       "        -4.27100065e-01, -2.58000900e-01],\n",
       "       [-4.19440343e-01,  1.80685510e+00, -3.17212423e-01,\n",
       "         1.25805665e+00,  7.34759846e-01],\n",
       "       [-3.07596534e-01,  4.39048902e-02, -1.05737474e-02,\n",
       "         1.62704787e-01,  2.98913665e-01],\n",
       "       [-4.79896456e-01,  8.27438315e-01,  1.14521818e+00,\n",
       "         4.99736130e-01,  5.41050432e-01],\n",
       "       [ 1.15596258e-01, -7.39628535e-01, -1.11919050e+00,\n",
       "        -7.64131409e-01, -1.17812062e+00],\n",
       "       [-1.56456251e-01,  9.25379993e-01,  8.85754690e-01,\n",
       "         1.13166990e+00,  6.37905139e-01],\n",
       "       [-3.71075453e-01, -1.51978466e-01,  8.62167099e-01,\n",
       "        -4.79398032e-02,  1.53631604e-01],\n",
       "       [-3.55961425e-01,  5.33613281e-01, -5.77489284e-02,\n",
       "         4.57607212e-01,  4.44195725e-01],\n",
       "       [-1.43812585e+00, -3.38405384e+00, -1.23712845e+00,\n",
       "        -9.00687212e-02, -4.68910374e+00],\n",
       "       [-9.60001382e-02, -6.41686857e-01, -3.40800014e-01,\n",
       "        -5.11357901e-01,  8.34954371e-03],\n",
       "       [-5.25238541e-01, -5.40367879e-02, -1.11919050e+00,\n",
       "        -5.81088524e-03,  2.50486311e-01],\n",
       "       [-4.58736817e-01, -2.49920144e-01,  1.30951795e-01,\n",
       "        -1.32197639e-01,  1.05204251e-01],\n",
       "       [-5.19192930e-01, -3.47861822e-01,  2.48889748e-01,\n",
       "        -1.74326557e-01,  5.67768972e-02],\n",
       "       [ 2.69759346e-01,  3.37729925e-01,  2.67841156e+00,\n",
       "         9.21025310e-01,  2.98913665e-01],\n",
       "       [ 2.00484979e+00, -4.45803500e-01,  1.61696999e+00,\n",
       "        -9.74775999e-01,  1.05204251e-01],\n",
       "       [ 3.78580350e-01, -4.45803500e-01, -7.18201461e-01,\n",
       "        -4.27100065e-01, -1.08126591e+00],\n",
       "       [ 4.36263820e+00, -7.39628535e-01, -7.18201461e-01,\n",
       "        -4.00805809e+00, -3.06428254e-01],\n",
       "       [-3.71075453e-01,  2.78627188e+00,  2.63123638e+00,\n",
       "         2.10063501e+00,  1.09796500e+00],\n",
       "       [-2.98528117e-01,  5.33613281e-01, -3.40800014e-01,\n",
       "         5.41865048e-01,  4.92623079e-01],\n",
       "       [-5.49420987e-01,  1.41846568e-01, -3.40800014e-01,\n",
       "         1.20575869e-01,  2.26272634e-01],\n",
       "       [ 6.62724081e-01, -5.40367879e-02, -3.41613379e-02,\n",
       "         3.31220459e-01,  1.53631604e-01],\n",
       "       [-6.57720817e-02, -1.51978466e-01, -1.37865399e+00,\n",
       "        -4.79398032e-02,  2.02058958e-01],\n",
       "       [-4.10371926e-01,  3.37729925e-01, -3.17212423e-01,\n",
       "         2.46962623e-01,  3.95768372e-01],\n",
       "       [-3.77121064e-01, -5.40367879e-02, -3.87975195e-01,\n",
       "         7.84469507e-02,  2.74699988e-01],\n",
       "       [-3.95257898e-01,  6.31554959e-01, -1.52099290e-01,\n",
       "         5.41865048e-01,  5.65264109e-01],\n",
       "       [ 3.75244840e-03, -8.37570213e-01, -1.07201532e+00,\n",
       "        -8.48389245e-01, -2.09573547e-01]])"
      ]
     },
     "execution_count": 10,
     "metadata": {},
     "output_type": "execute_result"
    }
   ],
   "source": [
    "data_standard"
   ]
  },
  {
   "cell_type": "markdown",
   "id": "adb193ac",
   "metadata": {
    "papermill": {
     "duration": 0.010966,
     "end_time": "2022-07-06T10:15:26.473294",
     "exception": false,
     "start_time": "2022-07-06T10:15:26.462328",
     "status": "completed"
    },
    "tags": []
   },
   "source": [
    "***\n",
    "# 3. PCA\n",
    "***\n"
   ]
  },
  {
   "cell_type": "code",
   "execution_count": 11,
   "id": "1f46a4b6",
   "metadata": {
    "execution": {
     "iopub.execute_input": "2022-07-06T10:15:26.496943Z",
     "iopub.status.busy": "2022-07-06T10:15:26.495605Z",
     "iopub.status.idle": "2022-07-06T10:15:26.520745Z",
     "shell.execute_reply": "2022-07-06T10:15:26.519493Z"
    },
    "papermill": {
     "duration": 0.039195,
     "end_time": "2022-07-06T10:15:26.523083",
     "exception": false,
     "start_time": "2022-07-06T10:15:26.483888",
     "status": "completed"
    },
    "tags": []
   },
   "outputs": [
    {
     "data": {
      "text/plain": [
       "PCA()"
      ]
     },
     "execution_count": 11,
     "metadata": {},
     "output_type": "execute_result"
    }
   ],
   "source": [
    "pca = PCA()\n",
    "pca.fit(data_standard)"
   ]
  },
  {
   "cell_type": "markdown",
   "id": "f4a38c50",
   "metadata": {
    "papermill": {
     "duration": 0.009783,
     "end_time": "2022-07-06T10:15:26.542925",
     "exception": false,
     "start_time": "2022-07-06T10:15:26.533142",
     "status": "completed"
    },
    "tags": []
   },
   "source": [
    "# 2.1 Menentukan Komponen PCA"
   ]
  },
  {
   "cell_type": "code",
   "execution_count": 12,
   "id": "2bca2546",
   "metadata": {
    "execution": {
     "iopub.execute_input": "2022-07-06T10:15:26.564868Z",
     "iopub.status.busy": "2022-07-06T10:15:26.564202Z",
     "iopub.status.idle": "2022-07-06T10:15:26.570964Z",
     "shell.execute_reply": "2022-07-06T10:15:26.569865Z"
    },
    "papermill": {
     "duration": 0.020635,
     "end_time": "2022-07-06T10:15:26.573321",
     "exception": false,
     "start_time": "2022-07-06T10:15:26.552686",
     "status": "completed"
    },
    "tags": []
   },
   "outputs": [
    {
     "data": {
      "text/plain": [
       "array([0.52995094, 0.29865841, 0.13223788, 0.03087306, 0.00827971])"
      ]
     },
     "execution_count": 12,
     "metadata": {},
     "output_type": "execute_result"
    }
   ],
   "source": [
    "pca.explained_variance_ratio_"
   ]
  },
  {
   "cell_type": "code",
   "execution_count": 13,
   "id": "c0529d1d",
   "metadata": {
    "execution": {
     "iopub.execute_input": "2022-07-06T10:15:26.594630Z",
     "iopub.status.busy": "2022-07-06T10:15:26.594226Z",
     "iopub.status.idle": "2022-07-06T10:15:26.854529Z",
     "shell.execute_reply": "2022-07-06T10:15:26.853188Z"
    },
    "papermill": {
     "duration": 0.27387,
     "end_time": "2022-07-06T10:15:26.857066",
     "exception": false,
     "start_time": "2022-07-06T10:15:26.583196",
     "status": "completed"
    },
    "tags": []
   },
   "outputs": [
    {
     "data": {
      "image/png": "[encoded data removed]",
      "text/plain": [
       "<Figure size 2088x720 with 1 Axes>"
      ]
     },
     "metadata": {
      "needs_background": "light"
     },
     "output_type": "display_data"
    }
   ],
   "source": [
    "plt.figure(figsize=(29,10))\n",
    "#plt.figure(figsize(10,8))\n",
    "#plt.plot(range(1,9), pca.explained_variance_ratio_.cumsum(), marker = 'o', linestyle='---')\n",
    "plt.title('Explained PCA Variance by Component')\n",
    "plt.xlabel('Number of Component')\n",
    "plt.ylabel('Explained Variance')\n",
    "plt.show()"
   ]
  },
  {
   "cell_type": "markdown",
   "id": "c2f6ab9a",
   "metadata": {
    "papermill": {
     "duration": 0.010073,
     "end_time": "2022-07-06T10:15:26.877805",
     "exception": false,
     "start_time": "2022-07-06T10:15:26.867732",
     "status": "completed"
    },
    "tags": []
   },
   "source": [
    "# 2.1 PCA Projection dengan 3 Komponen"
   ]
  },
  {
   "cell_type": "markdown",
   "id": "2aaa2766",
   "metadata": {
    "papermill": {
     "duration": 0.010434,
     "end_time": "2022-07-06T10:15:26.898639",
     "exception": false,
     "start_time": "2022-07-06T10:15:26.888205",
     "status": "completed"
    },
    "tags": []
   },
   "source": [
    "- Data original memiliki 5 kolom (untuk X ) yaitu DER, ROI, Sales Frowth, ROE, NPM\n",
    "- Pada bagian ini, proyeksikan data asli yaitu 5 dimensional data menjadi 3 dimensi / komponen"
   ]
  },
  {
   "cell_type": "code",
   "execution_count": 14,
   "id": "808f5577",
   "metadata": {
    "execution": {
     "iopub.execute_input": "2022-07-06T10:15:26.920868Z",
     "iopub.status.busy": "2022-07-06T10:15:26.920499Z",
     "iopub.status.idle": "2022-07-06T10:15:26.926874Z",
     "shell.execute_reply": "2022-07-06T10:15:26.925738Z"
    },
    "papermill": {
     "duration": 0.019919,
     "end_time": "2022-07-06T10:15:26.929131",
     "exception": false,
     "start_time": "2022-07-06T10:15:26.909212",
     "status": "completed"
    },
    "tags": []
   },
   "outputs": [],
   "source": [
    "pca = PCA(n_components=3)\n",
    "\n",
    "principal_components = pca.fit_transform(data_standard)\n",
    "\n",
    "new_X = pd.DataFrame(data = principal_components, columns=['PC1','PC2','PC3'])"
   ]
  },
  {
   "cell_type": "markdown",
   "id": "4ba4110b",
   "metadata": {
    "papermill": {
     "duration": 0.010047,
     "end_time": "2022-07-06T10:15:26.949768",
     "exception": false,
     "start_time": "2022-07-06T10:15:26.939721",
     "status": "completed"
    },
    "tags": []
   },
   "source": [
    "- gabungkan skor PCA yang baru diperoleh dalam algoritme K-means.\n",
    "- lakukan segmentasi terhadap skor berdasarkan komponen utama"
   ]
  },
  {
   "cell_type": "code",
   "execution_count": 15,
   "id": "5d330d41",
   "metadata": {
    "execution": {
     "iopub.execute_input": "2022-07-06T10:15:26.972401Z",
     "iopub.status.busy": "2022-07-06T10:15:26.972015Z",
     "iopub.status.idle": "2022-07-06T10:15:26.983814Z",
     "shell.execute_reply": "2022-07-06T10:15:26.982738Z"
    },
    "papermill": {
     "duration": 0.02561,
     "end_time": "2022-07-06T10:15:26.985997",
     "exception": false,
     "start_time": "2022-07-06T10:15:26.960387",
     "status": "completed"
    },
    "tags": []
   },
   "outputs": [
    {
     "data": {
      "text/html": [
       "<div>\n",
       "<style scoped>\n",
       "    .dataframe tbody tr th:only-of-type {\n",
       "        vertical-align: middle;\n",
       "    }\n",
       "\n",
       "    .dataframe tbody tr th {\n",
       "        vertical-align: top;\n",
       "    }\n",
       "\n",
       "    .dataframe thead th {\n",
       "        text-align: right;\n",
       "    }\n",
       "</style>\n",
       "<table border=\"1\" class=\"dataframe\">\n",
       "  <thead>\n",
       "    <tr style=\"text-align: right;\">\n",
       "      <th></th>\n",
       "      <th>PC1</th>\n",
       "      <th>PC2</th>\n",
       "      <th>PC3</th>\n",
       "    </tr>\n",
       "  </thead>\n",
       "  <tbody>\n",
       "    <tr>\n",
       "      <th>0</th>\n",
       "      <td>-0.676857</td>\n",
       "      <td>-0.098001</td>\n",
       "      <td>-0.210746</td>\n",
       "    </tr>\n",
       "    <tr>\n",
       "      <th>1</th>\n",
       "      <td>0.645878</td>\n",
       "      <td>-0.064995</td>\n",
       "      <td>0.414410</td>\n",
       "    </tr>\n",
       "    <tr>\n",
       "      <th>2</th>\n",
       "      <td>-0.269784</td>\n",
       "      <td>-0.339275</td>\n",
       "      <td>-0.836648</td>\n",
       "    </tr>\n",
       "    <tr>\n",
       "      <th>3</th>\n",
       "      <td>0.800063</td>\n",
       "      <td>0.429666</td>\n",
       "      <td>0.099253</td>\n",
       "    </tr>\n",
       "    <tr>\n",
       "      <th>4</th>\n",
       "      <td>-1.943338</td>\n",
       "      <td>-0.311278</td>\n",
       "      <td>-1.018369</td>\n",
       "    </tr>\n",
       "  </tbody>\n",
       "</table>\n",
       "</div>"
      ],
      "text/plain": [
       "        PC1       PC2       PC3\n",
       "0 -0.676857 -0.098001 -0.210746\n",
       "1  0.645878 -0.064995  0.414410\n",
       "2 -0.269784 -0.339275 -0.836648\n",
       "3  0.800063  0.429666  0.099253\n",
       "4 -1.943338 -0.311278 -1.018369"
      ]
     },
     "execution_count": 15,
     "metadata": {},
     "output_type": "execute_result"
    }
   ],
   "source": [
    "new_X = pd.DataFrame(data = principal_components, columns=['PC1','PC2','PC3'])\n",
    "new_X.head()"
   ]
  },
  {
   "cell_type": "markdown",
   "id": "c32bba53",
   "metadata": {
    "papermill": {
     "duration": 0.010002,
     "end_time": "2022-07-06T10:15:27.006283",
     "exception": false,
     "start_time": "2022-07-06T10:15:26.996281",
     "status": "completed"
    },
    "tags": []
   },
   "source": [
    "data baru yang terbentuk, yaitu data PC1, PC 2 dan PC3"
   ]
  },
  {
   "cell_type": "code",
   "execution_count": 16,
   "id": "f41a28c1",
   "metadata": {
    "execution": {
     "iopub.execute_input": "2022-07-06T10:15:27.028135Z",
     "iopub.status.busy": "2022-07-06T10:15:27.027653Z",
     "iopub.status.idle": "2022-07-06T10:15:27.190230Z",
     "shell.execute_reply": "2022-07-06T10:15:27.188941Z"
    },
    "papermill": {
     "duration": 0.176256,
     "end_time": "2022-07-06T10:15:27.192640",
     "exception": false,
     "start_time": "2022-07-06T10:15:27.016384",
     "status": "completed"
    },
    "tags": []
   },
   "outputs": [
    {
     "data": {
      "image/png": "[encoded data removed]",
      "text/plain": [
       "<Figure size 432x288 with 1 Axes>"
      ]
     },
     "metadata": {
      "needs_background": "light"
     },
     "output_type": "display_data"
    }
   ],
   "source": [
    "per_var = np.round(pca.explained_variance_ratio_ * 100, decimals =1)\n",
    "\n",
    "label = ['PC' + str(x) for x in range (1, len(per_var)+1)]\n",
    "\n",
    "plt.bar (x=range(1, len(per_var)+1),height=per_var,tick_label=label)\n",
    "plt.ylabel('percentage of explained variance')\n",
    "plt.xlabel('principal components')\n",
    "plt.title('scree plot')\n",
    "plt.show()"
   ]
  },
  {
   "cell_type": "markdown",
   "id": "4bac8e64",
   "metadata": {
    "papermill": {
     "duration": 0.010158,
     "end_time": "2022-07-06T10:15:27.213380",
     "exception": false,
     "start_time": "2022-07-06T10:15:27.203222",
     "status": "completed"
    },
    "tags": []
   },
   "source": [
    "***\n",
    "# 4. PCA - Clustering\n",
    "***\n"
   ]
  },
  {
   "cell_type": "markdown",
   "id": "2ba4305c",
   "metadata": {
    "papermill": {
     "duration": 0.010525,
     "end_time": "2022-07-06T10:15:27.234491",
     "exception": false,
     "start_time": "2022-07-06T10:15:27.223966",
     "status": "completed"
    },
    "tags": []
   },
   "source": [
    "# 4.1 K-Means Clustering dan PCA"
   ]
  },
  {
   "cell_type": "markdown",
   "id": "951016e7",
   "metadata": {
    "papermill": {
     "duration": 0.010335,
     "end_time": "2022-07-06T10:15:27.255721",
     "exception": false,
     "start_time": "2022-07-06T10:15:27.245386",
     "status": "completed"
    },
    "tags": []
   },
   "source": [
    "- cari elbow point, untuk menentukan jumlah cluster yang ingin dipertahankan\n",
    "- pendekatannya dengan cara, ambil titik siku pada grafik"
   ]
  },
  {
   "cell_type": "code",
   "execution_count": 17,
   "id": "3220bfbd",
   "metadata": {
    "execution": {
     "iopub.execute_input": "2022-07-06T10:15:27.278428Z",
     "iopub.status.busy": "2022-07-06T10:15:27.278045Z",
     "iopub.status.idle": "2022-07-06T10:15:27.816414Z",
     "shell.execute_reply": "2022-07-06T10:15:27.815078Z"
    },
    "papermill": {
     "duration": 0.552341,
     "end_time": "2022-07-06T10:15:27.818573",
     "exception": false,
     "start_time": "2022-07-06T10:15:27.266232",
     "status": "completed"
    },
    "tags": []
   },
   "outputs": [
    {
     "data": {
      "image/png": "[encoded data removed]",
      "text/plain": [
       "<Figure size 720x720 with 1 Axes>"
      ]
     },
     "metadata": {
      "needs_background": "light"
     },
     "output_type": "display_data"
    }
   ],
   "source": [
    "wcss = []\n",
    "for i in range(1,11):\n",
    "   model = KMeans(n_clusters = i, init = \"k-means++\")\n",
    "   model.fit(x)\n",
    "   wcss.append(model.inertia_)\n",
    "plt.figure(figsize=(10,10))\n",
    "plt.plot(range(1,11), wcss)\n",
    "plt.xlabel('Number of clusters')\n",
    "plt.ylabel('WCSS')\n",
    "plt.show()"
   ]
  },
  {
   "cell_type": "markdown",
   "id": "793865e4",
   "metadata": {
    "papermill": {
     "duration": 0.010714,
     "end_time": "2022-07-06T10:15:27.840200",
     "exception": false,
     "start_time": "2022-07-06T10:15:27.829486",
     "status": "completed"
    },
    "tags": []
   },
   "source": [
    "diketahui, elbow point = 2"
   ]
  },
  {
   "cell_type": "code",
   "execution_count": 18,
   "id": "6a763ed1",
   "metadata": {
    "execution": {
     "iopub.execute_input": "2022-07-06T10:15:27.864066Z",
     "iopub.status.busy": "2022-07-06T10:15:27.863299Z",
     "iopub.status.idle": "2022-07-06T10:15:27.869828Z",
     "shell.execute_reply": "2022-07-06T10:15:27.868443Z"
    },
    "papermill": {
     "duration": 0.022516,
     "end_time": "2022-07-06T10:15:27.873459",
     "exception": false,
     "start_time": "2022-07-06T10:15:27.850943",
     "status": "completed"
    },
    "tags": []
   },
   "outputs": [],
   "source": [
    "pca = PCA(2)\n",
    "data = pca.fit_transform(x)"
   ]
  },
  {
   "cell_type": "code",
   "execution_count": 19,
   "id": "11618176",
   "metadata": {
    "execution": {
     "iopub.execute_input": "2022-07-06T10:15:27.897567Z",
     "iopub.status.busy": "2022-07-06T10:15:27.897193Z",
     "iopub.status.idle": "2022-07-06T10:15:28.048907Z",
     "shell.execute_reply": "2022-07-06T10:15:28.047714Z"
    },
    "papermill": {
     "duration": 0.166806,
     "end_time": "2022-07-06T10:15:28.051567",
     "exception": false,
     "start_time": "2022-07-06T10:15:27.884761",
     "status": "completed"
    },
    "tags": []
   },
   "outputs": [
    {
     "data": {
      "image/png": "[encoded data removed]",
      "text/plain": [
       "<Figure size 720x720 with 1 Axes>"
      ]
     },
     "metadata": {
      "needs_background": "light"
     },
     "output_type": "display_data"
    }
   ],
   "source": [
    "plt.figure(figsize=(10,10))\n",
    "var = np.round(pca.explained_variance_ratio_*100, decimals = 1)\n",
    "lbls = [str(x) for x in range(1,len(var)+1)]\n",
    "plt.bar(x=range(1,len(var)+1), height = var, tick_label = lbls)\n",
    "plt.show()"
   ]
  },
  {
   "cell_type": "markdown",
   "id": "dd33bc17",
   "metadata": {
    "papermill": {
     "duration": 0.011732,
     "end_time": "2022-07-06T10:15:28.074533",
     "exception": false,
     "start_time": "2022-07-06T10:15:28.062801",
     "status": "completed"
    },
    "tags": []
   },
   "source": [
    "# 4.2 Analisa Hasil K-Means Clustering dengan PCA"
   ]
  },
  {
   "cell_type": "code",
   "execution_count": 20,
   "id": "040fdb94",
   "metadata": {
    "execution": {
     "iopub.execute_input": "2022-07-06T10:15:28.099012Z",
     "iopub.status.busy": "2022-07-06T10:15:28.097939Z",
     "iopub.status.idle": "2022-07-06T10:15:28.137576Z",
     "shell.execute_reply": "2022-07-06T10:15:28.136739Z"
    },
    "papermill": {
     "duration": 0.05387,
     "end_time": "2022-07-06T10:15:28.139453",
     "exception": false,
     "start_time": "2022-07-06T10:15:28.085583",
     "status": "completed"
    },
    "tags": []
   },
   "outputs": [
    {
     "data": {
      "text/html": [
       "<div>\n",
       "<style scoped>\n",
       "    .dataframe tbody tr th:only-of-type {\n",
       "        vertical-align: middle;\n",
       "    }\n",
       "\n",
       "    .dataframe tbody tr th {\n",
       "        vertical-align: top;\n",
       "    }\n",
       "\n",
       "    .dataframe thead th {\n",
       "        text-align: right;\n",
       "    }\n",
       "</style>\n",
       "<table border=\"1\" class=\"dataframe\">\n",
       "  <thead>\n",
       "    <tr style=\"text-align: right;\">\n",
       "      <th></th>\n",
       "      <th>No</th>\n",
       "      <th>Industri</th>\n",
       "      <th>Company</th>\n",
       "      <th>Emiten</th>\n",
       "      <th>DER</th>\n",
       "      <th>ROA</th>\n",
       "      <th>Sales Growth</th>\n",
       "      <th>ROE</th>\n",
       "      <th>NPM</th>\n",
       "      <th>Category</th>\n",
       "      <th>0</th>\n",
       "      <th>1</th>\n",
       "      <th>Comp 1</th>\n",
       "      <th>Comp 2</th>\n",
       "      <th>Comp 3</th>\n",
       "      <th>Segment K-Means PCA</th>\n",
       "    </tr>\n",
       "  </thead>\n",
       "  <tbody>\n",
       "    <tr>\n",
       "      <th>0</th>\n",
       "      <td>1</td>\n",
       "      <td>Industrial Machinery &amp; Components</td>\n",
       "      <td>Asahimas Flat Glass Tbk</td>\n",
       "      <td>AMFG</td>\n",
       "      <td>1.32</td>\n",
       "      <td>0.06</td>\n",
       "      <td>0.33</td>\n",
       "      <td>0.13</td>\n",
       "      <td>0.12</td>\n",
       "      <td>1</td>\n",
       "      <td>1.32</td>\n",
       "      <td>0.06</td>\n",
       "      <td>0.33</td>\n",
       "      <td>0.13</td>\n",
       "      <td>0.12</td>\n",
       "      <td>0</td>\n",
       "    </tr>\n",
       "    <tr>\n",
       "      <th>1</th>\n",
       "      <td>2</td>\n",
       "      <td>Industrial Machinery &amp; Components</td>\n",
       "      <td>PT Ateliers Mecaniques D Indonesie Tbk.</td>\n",
       "      <td>AMIN</td>\n",
       "      <td>1.14</td>\n",
       "      <td>-0.05</td>\n",
       "      <td>0.41</td>\n",
       "      <td>-0.12</td>\n",
       "      <td>-0.13</td>\n",
       "      <td>1</td>\n",
       "      <td>1.14</td>\n",
       "      <td>-0.05</td>\n",
       "      <td>0.41</td>\n",
       "      <td>-0.12</td>\n",
       "      <td>-0.13</td>\n",
       "      <td>0</td>\n",
       "    </tr>\n",
       "    <tr>\n",
       "      <th>2</th>\n",
       "      <td>3</td>\n",
       "      <td>Industrial Machinery &amp; Components</td>\n",
       "      <td>PT Arita Prima Indonesia Tbk.</td>\n",
       "      <td>APII</td>\n",
       "      <td>0.49</td>\n",
       "      <td>0.05</td>\n",
       "      <td>0.03</td>\n",
       "      <td>0.07</td>\n",
       "      <td>0.13</td>\n",
       "      <td>1</td>\n",
       "      <td>0.49</td>\n",
       "      <td>0.05</td>\n",
       "      <td>0.03</td>\n",
       "      <td>0.07</td>\n",
       "      <td>0.13</td>\n",
       "      <td>4</td>\n",
       "    </tr>\n",
       "    <tr>\n",
       "      <th>3</th>\n",
       "      <td>4</td>\n",
       "      <td>Industrial Machinery &amp; Components</td>\n",
       "      <td>PT Arkha Jayanti Persada Tbk.</td>\n",
       "      <td>ARKA</td>\n",
       "      <td>3.97</td>\n",
       "      <td>-0.02</td>\n",
       "      <td>0.22</td>\n",
       "      <td>-0.08</td>\n",
       "      <td>-0.16</td>\n",
       "      <td>1</td>\n",
       "      <td>3.97</td>\n",
       "      <td>-0.02</td>\n",
       "      <td>0.22</td>\n",
       "      <td>-0.08</td>\n",
       "      <td>-0.16</td>\n",
       "      <td>2</td>\n",
       "    </tr>\n",
       "    <tr>\n",
       "      <th>4</th>\n",
       "      <td>5</td>\n",
       "      <td>Industrial Machinery &amp; Components</td>\n",
       "      <td>Arwana Citramulia Tbk</td>\n",
       "      <td>ARNA</td>\n",
       "      <td>0.51</td>\n",
       "      <td>0.21</td>\n",
       "      <td>0.17</td>\n",
       "      <td>0.32</td>\n",
       "      <td>0.25</td>\n",
       "      <td>4</td>\n",
       "      <td>0.51</td>\n",
       "      <td>0.21</td>\n",
       "      <td>0.17</td>\n",
       "      <td>0.32</td>\n",
       "      <td>0.25</td>\n",
       "      <td>4</td>\n",
       "    </tr>\n",
       "    <tr>\n",
       "      <th>5</th>\n",
       "      <td>6</td>\n",
       "      <td>Industrial Machinery &amp; Components</td>\n",
       "      <td>Cahayaputra Asa Keramik Tbk</td>\n",
       "      <td>CAKK</td>\n",
       "      <td>0.88</td>\n",
       "      <td>0.03</td>\n",
       "      <td>0.30</td>\n",
       "      <td>0.06</td>\n",
       "      <td>0.07</td>\n",
       "      <td>1</td>\n",
       "      <td>0.88</td>\n",
       "      <td>0.03</td>\n",
       "      <td>0.30</td>\n",
       "      <td>0.06</td>\n",
       "      <td>0.07</td>\n",
       "      <td>0</td>\n",
       "    </tr>\n",
       "    <tr>\n",
       "      <th>6</th>\n",
       "      <td>7</td>\n",
       "      <td>Industrial Machinery &amp; Components</td>\n",
       "      <td>Communication Cable Systems Indonesia Tbk</td>\n",
       "      <td>CCSI</td>\n",
       "      <td>0.31</td>\n",
       "      <td>0.11</td>\n",
       "      <td>0.79</td>\n",
       "      <td>0.14</td>\n",
       "      <td>0.17</td>\n",
       "      <td>4</td>\n",
       "      <td>0.31</td>\n",
       "      <td>0.11</td>\n",
       "      <td>0.79</td>\n",
       "      <td>0.14</td>\n",
       "      <td>0.17</td>\n",
       "      <td>4</td>\n",
       "    </tr>\n",
       "    <tr>\n",
       "      <th>7</th>\n",
       "      <td>8</td>\n",
       "      <td>Industrial Machinery &amp; Components</td>\n",
       "      <td>Citatah Tbk</td>\n",
       "      <td>CTTH</td>\n",
       "      <td>2.28</td>\n",
       "      <td>-0.05</td>\n",
       "      <td>-0.17</td>\n",
       "      <td>-0.16</td>\n",
       "      <td>-0.54</td>\n",
       "      <td>1</td>\n",
       "      <td>2.28</td>\n",
       "      <td>-0.05</td>\n",
       "      <td>-0.17</td>\n",
       "      <td>-0.16</td>\n",
       "      <td>-0.54</td>\n",
       "      <td>6</td>\n",
       "    </tr>\n",
       "    <tr>\n",
       "      <th>8</th>\n",
       "      <td>9</td>\n",
       "      <td>Industrial Machinery &amp; Components</td>\n",
       "      <td>Hexindo Adiperkasa Tbk</td>\n",
       "      <td>HEXA</td>\n",
       "      <td>1.38</td>\n",
       "      <td>0.12</td>\n",
       "      <td>0.68</td>\n",
       "      <td>0.29</td>\n",
       "      <td>0.21</td>\n",
       "      <td>4</td>\n",
       "      <td>1.38</td>\n",
       "      <td>0.12</td>\n",
       "      <td>0.68</td>\n",
       "      <td>0.29</td>\n",
       "      <td>0.21</td>\n",
       "      <td>0</td>\n",
       "    </tr>\n",
       "    <tr>\n",
       "      <th>9</th>\n",
       "      <td>10</td>\n",
       "      <td>Industrial Machinery &amp; Components</td>\n",
       "      <td>Sumi Indo Kabel Tbk</td>\n",
       "      <td>IKBI</td>\n",
       "      <td>0.67</td>\n",
       "      <td>0.01</td>\n",
       "      <td>0.67</td>\n",
       "      <td>0.01</td>\n",
       "      <td>0.01</td>\n",
       "      <td>1</td>\n",
       "      <td>0.67</td>\n",
       "      <td>0.01</td>\n",
       "      <td>0.67</td>\n",
       "      <td>0.01</td>\n",
       "      <td>0.01</td>\n",
       "      <td>0</td>\n",
       "    </tr>\n",
       "    <tr>\n",
       "      <th>10</th>\n",
       "      <td>11</td>\n",
       "      <td>Industrial Machinery &amp; Components</td>\n",
       "      <td>Impack Pratama Industri Tbk</td>\n",
       "      <td>IMPC</td>\n",
       "      <td>0.72</td>\n",
       "      <td>0.08</td>\n",
       "      <td>0.28</td>\n",
       "      <td>0.13</td>\n",
       "      <td>0.13</td>\n",
       "      <td>1</td>\n",
       "      <td>0.72</td>\n",
       "      <td>0.08</td>\n",
       "      <td>0.28</td>\n",
       "      <td>0.13</td>\n",
       "      <td>0.13</td>\n",
       "      <td>0</td>\n",
       "    </tr>\n",
       "    <tr>\n",
       "      <th>11</th>\n",
       "      <td>12</td>\n",
       "      <td>Industrial Machinery &amp; Components</td>\n",
       "      <td>Intraco Penta Tbk</td>\n",
       "      <td>INTA</td>\n",
       "      <td>-2.86</td>\n",
       "      <td>-0.32</td>\n",
       "      <td>-0.22</td>\n",
       "      <td>0.00</td>\n",
       "      <td>-1.99</td>\n",
       "      <td>3</td>\n",
       "      <td>-2.86</td>\n",
       "      <td>-0.32</td>\n",
       "      <td>-0.22</td>\n",
       "      <td>0.00</td>\n",
       "      <td>-1.99</td>\n",
       "      <td>5</td>\n",
       "    </tr>\n",
       "    <tr>\n",
       "      <th>12</th>\n",
       "      <td>13</td>\n",
       "      <td>Industrial Machinery &amp; Components</td>\n",
       "      <td>Jembo Cable Company Tbk</td>\n",
       "      <td>JECC</td>\n",
       "      <td>1.58</td>\n",
       "      <td>-0.04</td>\n",
       "      <td>0.16</td>\n",
       "      <td>-0.10</td>\n",
       "      <td>-0.05</td>\n",
       "      <td>1</td>\n",
       "      <td>1.58</td>\n",
       "      <td>-0.04</td>\n",
       "      <td>0.16</td>\n",
       "      <td>-0.10</td>\n",
       "      <td>-0.05</td>\n",
       "      <td>8</td>\n",
       "    </tr>\n",
       "    <tr>\n",
       "      <th>13</th>\n",
       "      <td>14</td>\n",
       "      <td>Industrial Machinery &amp; Components</td>\n",
       "      <td>KMI Wire &amp; Cable Tbk</td>\n",
       "      <td>KBLI</td>\n",
       "      <td>0.16</td>\n",
       "      <td>0.02</td>\n",
       "      <td>-0.17</td>\n",
       "      <td>0.02</td>\n",
       "      <td>0.05</td>\n",
       "      <td>1</td>\n",
       "      <td>0.16</td>\n",
       "      <td>0.02</td>\n",
       "      <td>-0.17</td>\n",
       "      <td>0.02</td>\n",
       "      <td>0.05</td>\n",
       "      <td>4</td>\n",
       "    </tr>\n",
       "    <tr>\n",
       "      <th>14</th>\n",
       "      <td>15</td>\n",
       "      <td>Industrial Machinery &amp; Components</td>\n",
       "      <td>Kabelindo Murni Tbk</td>\n",
       "      <td>KBLM</td>\n",
       "      <td>0.38</td>\n",
       "      <td>0.00</td>\n",
       "      <td>0.36</td>\n",
       "      <td>-0.01</td>\n",
       "      <td>-0.01</td>\n",
       "      <td>1</td>\n",
       "      <td>0.38</td>\n",
       "      <td>0.00</td>\n",
       "      <td>0.36</td>\n",
       "      <td>-0.01</td>\n",
       "      <td>-0.01</td>\n",
       "      <td>4</td>\n",
       "    </tr>\n",
       "    <tr>\n",
       "      <th>15</th>\n",
       "      <td>16</td>\n",
       "      <td>Industrial Machinery &amp; Components</td>\n",
       "      <td>Keramika Indonesia Assosiasi Tbk</td>\n",
       "      <td>KIAS</td>\n",
       "      <td>0.18</td>\n",
       "      <td>-0.01</td>\n",
       "      <td>0.41</td>\n",
       "      <td>-0.02</td>\n",
       "      <td>-0.03</td>\n",
       "      <td>1</td>\n",
       "      <td>0.18</td>\n",
       "      <td>-0.01</td>\n",
       "      <td>0.41</td>\n",
       "      <td>-0.02</td>\n",
       "      <td>-0.03</td>\n",
       "      <td>4</td>\n",
       "    </tr>\n",
       "    <tr>\n",
       "      <th>16</th>\n",
       "      <td>17</td>\n",
       "      <td>Industrial Machinery &amp; Components</td>\n",
       "      <td>Kobexindo Tractors Tbk</td>\n",
       "      <td>KOBX</td>\n",
       "      <td>2.79</td>\n",
       "      <td>0.06</td>\n",
       "      <td>1.44</td>\n",
       "      <td>0.24</td>\n",
       "      <td>0.07</td>\n",
       "      <td>2</td>\n",
       "      <td>2.79</td>\n",
       "      <td>0.06</td>\n",
       "      <td>1.44</td>\n",
       "      <td>0.24</td>\n",
       "      <td>0.07</td>\n",
       "      <td>7</td>\n",
       "    </tr>\n",
       "    <tr>\n",
       "      <th>17</th>\n",
       "      <td>18</td>\n",
       "      <td>Industrial Machinery &amp; Components</td>\n",
       "      <td>Kokoh Inti Arebama Tbk</td>\n",
       "      <td>KOIN</td>\n",
       "      <td>8.53</td>\n",
       "      <td>-0.02</td>\n",
       "      <td>0.99</td>\n",
       "      <td>-0.21</td>\n",
       "      <td>-0.01</td>\n",
       "      <td>2</td>\n",
       "      <td>8.53</td>\n",
       "      <td>-0.02</td>\n",
       "      <td>0.99</td>\n",
       "      <td>-0.21</td>\n",
       "      <td>-0.01</td>\n",
       "      <td>3</td>\n",
       "    </tr>\n",
       "    <tr>\n",
       "      <th>18</th>\n",
       "      <td>19</td>\n",
       "      <td>Industrial Machinery &amp; Components</td>\n",
       "      <td>Steadfast Marine Tbk</td>\n",
       "      <td>KPAL</td>\n",
       "      <td>3.15</td>\n",
       "      <td>-0.02</td>\n",
       "      <td>0.00</td>\n",
       "      <td>-0.08</td>\n",
       "      <td>-0.50</td>\n",
       "      <td>1</td>\n",
       "      <td>3.15</td>\n",
       "      <td>-0.02</td>\n",
       "      <td>0.00</td>\n",
       "      <td>-0.08</td>\n",
       "      <td>-0.50</td>\n",
       "      <td>6</td>\n",
       "    </tr>\n",
       "    <tr>\n",
       "      <th>19</th>\n",
       "      <td>20</td>\n",
       "      <td>Industrial Machinery &amp; Components</td>\n",
       "      <td>PT Grand Kartech Tbk</td>\n",
       "      <td>KRAH</td>\n",
       "      <td>16.33</td>\n",
       "      <td>-0.05</td>\n",
       "      <td>0.00</td>\n",
       "      <td>-0.93</td>\n",
       "      <td>-0.18</td>\n",
       "      <td>0</td>\n",
       "      <td>16.33</td>\n",
       "      <td>-0.05</td>\n",
       "      <td>0.00</td>\n",
       "      <td>-0.93</td>\n",
       "      <td>-0.18</td>\n",
       "      <td>1</td>\n",
       "    </tr>\n",
       "    <tr>\n",
       "      <th>20</th>\n",
       "      <td>21</td>\n",
       "      <td>Industrial Machinery &amp; Components</td>\n",
       "      <td>PT Mark Dynamics Indonesia Tbk.</td>\n",
       "      <td>MARK</td>\n",
       "      <td>0.67</td>\n",
       "      <td>0.31</td>\n",
       "      <td>1.42</td>\n",
       "      <td>0.52</td>\n",
       "      <td>0.40</td>\n",
       "      <td>4</td>\n",
       "      <td>0.67</td>\n",
       "      <td>0.31</td>\n",
       "      <td>1.42</td>\n",
       "      <td>0.52</td>\n",
       "      <td>0.40</td>\n",
       "      <td>9</td>\n",
       "    </tr>\n",
       "    <tr>\n",
       "      <th>21</th>\n",
       "      <td>22</td>\n",
       "      <td>Industrial Machinery &amp; Components</td>\n",
       "      <td>Mulia Industrindo Tbk</td>\n",
       "      <td>MLIA</td>\n",
       "      <td>0.91</td>\n",
       "      <td>0.08</td>\n",
       "      <td>0.16</td>\n",
       "      <td>0.15</td>\n",
       "      <td>0.15</td>\n",
       "      <td>1</td>\n",
       "      <td>0.91</td>\n",
       "      <td>0.08</td>\n",
       "      <td>0.16</td>\n",
       "      <td>0.15</td>\n",
       "      <td>0.15</td>\n",
       "      <td>0</td>\n",
       "    </tr>\n",
       "    <tr>\n",
       "      <th>22</th>\n",
       "      <td>23</td>\n",
       "      <td>Industrial Machinery &amp; Components</td>\n",
       "      <td>Supreme Cable Manufacturing &amp; Commerce Tbk</td>\n",
       "      <td>SCCO</td>\n",
       "      <td>0.08</td>\n",
       "      <td>0.04</td>\n",
       "      <td>0.16</td>\n",
       "      <td>0.05</td>\n",
       "      <td>0.04</td>\n",
       "      <td>1</td>\n",
       "      <td>0.08</td>\n",
       "      <td>0.04</td>\n",
       "      <td>0.16</td>\n",
       "      <td>0.05</td>\n",
       "      <td>0.04</td>\n",
       "      <td>4</td>\n",
       "    </tr>\n",
       "    <tr>\n",
       "      <th>23</th>\n",
       "      <td>24</td>\n",
       "      <td>Industrial Machinery &amp; Components</td>\n",
       "      <td>Singaraja Putra Tbk</td>\n",
       "      <td>SINI</td>\n",
       "      <td>4.09</td>\n",
       "      <td>0.02</td>\n",
       "      <td>0.29</td>\n",
       "      <td>0.10</td>\n",
       "      <td>0.01</td>\n",
       "      <td>1</td>\n",
       "      <td>4.09</td>\n",
       "      <td>0.02</td>\n",
       "      <td>0.29</td>\n",
       "      <td>0.10</td>\n",
       "      <td>0.01</td>\n",
       "      <td>2</td>\n",
       "    </tr>\n",
       "    <tr>\n",
       "      <th>24</th>\n",
       "      <td>25</td>\n",
       "      <td>Industrial Machinery &amp; Components</td>\n",
       "      <td>Superkrane Mitra Utama Tbk</td>\n",
       "      <td>SKRN</td>\n",
       "      <td>1.68</td>\n",
       "      <td>0.01</td>\n",
       "      <td>-0.28</td>\n",
       "      <td>0.01</td>\n",
       "      <td>0.03</td>\n",
       "      <td>1</td>\n",
       "      <td>1.68</td>\n",
       "      <td>0.01</td>\n",
       "      <td>-0.28</td>\n",
       "      <td>0.01</td>\n",
       "      <td>0.03</td>\n",
       "      <td>8</td>\n",
       "    </tr>\n",
       "    <tr>\n",
       "      <th>25</th>\n",
       "      <td>26</td>\n",
       "      <td>Industrial Machinery &amp; Components</td>\n",
       "      <td>Surya Pertiwi Tbk</td>\n",
       "      <td>SPTO</td>\n",
       "      <td>0.54</td>\n",
       "      <td>0.06</td>\n",
       "      <td>0.17</td>\n",
       "      <td>0.08</td>\n",
       "      <td>0.11</td>\n",
       "      <td>1</td>\n",
       "      <td>0.54</td>\n",
       "      <td>0.06</td>\n",
       "      <td>0.17</td>\n",
       "      <td>0.08</td>\n",
       "      <td>0.11</td>\n",
       "      <td>4</td>\n",
       "    </tr>\n",
       "    <tr>\n",
       "      <th>26</th>\n",
       "      <td>27</td>\n",
       "      <td>Industrial Machinery &amp; Components</td>\n",
       "      <td>Surya Toto Indonesia Tbk</td>\n",
       "      <td>TOTO</td>\n",
       "      <td>0.65</td>\n",
       "      <td>0.02</td>\n",
       "      <td>0.14</td>\n",
       "      <td>0.04</td>\n",
       "      <td>0.06</td>\n",
       "      <td>1</td>\n",
       "      <td>0.65</td>\n",
       "      <td>0.02</td>\n",
       "      <td>0.14</td>\n",
       "      <td>0.04</td>\n",
       "      <td>0.06</td>\n",
       "      <td>4</td>\n",
       "    </tr>\n",
       "    <tr>\n",
       "      <th>27</th>\n",
       "      <td>28</td>\n",
       "      <td>Industrial Machinery &amp; Components</td>\n",
       "      <td>United Tractors Tbk</td>\n",
       "      <td>UNTR</td>\n",
       "      <td>0.59</td>\n",
       "      <td>0.09</td>\n",
       "      <td>0.24</td>\n",
       "      <td>0.15</td>\n",
       "      <td>0.18</td>\n",
       "      <td>1</td>\n",
       "      <td>0.59</td>\n",
       "      <td>0.09</td>\n",
       "      <td>0.24</td>\n",
       "      <td>0.15</td>\n",
       "      <td>0.18</td>\n",
       "      <td>4</td>\n",
       "    </tr>\n",
       "    <tr>\n",
       "      <th>28</th>\n",
       "      <td>29</td>\n",
       "      <td>Industrial Machinery &amp; Components</td>\n",
       "      <td>Voksel Electric Tbk</td>\n",
       "      <td>VOKS</td>\n",
       "      <td>1.91</td>\n",
       "      <td>-0.06</td>\n",
       "      <td>-0.15</td>\n",
       "      <td>-0.18</td>\n",
       "      <td>-0.14</td>\n",
       "      <td>1</td>\n",
       "      <td>1.91</td>\n",
       "      <td>-0.06</td>\n",
       "      <td>-0.15</td>\n",
       "      <td>-0.18</td>\n",
       "      <td>-0.14</td>\n",
       "      <td>8</td>\n",
       "    </tr>\n",
       "  </tbody>\n",
       "</table>\n",
       "</div>"
      ],
      "text/plain": [
       "    No                           Industri  \\\n",
       "0    1  Industrial Machinery & Components   \n",
       "1    2  Industrial Machinery & Components   \n",
       "2    3  Industrial Machinery & Components   \n",
       "3    4  Industrial Machinery & Components   \n",
       "4    5  Industrial Machinery & Components   \n",
       "5    6  Industrial Machinery & Components   \n",
       "6    7  Industrial Machinery & Components   \n",
       "7    8  Industrial Machinery & Components   \n",
       "8    9  Industrial Machinery & Components   \n",
       "9   10  Industrial Machinery & Components   \n",
       "10  11  Industrial Machinery & Components   \n",
       "11  12  Industrial Machinery & Components   \n",
       "12  13  Industrial Machinery & Components   \n",
       "13  14  Industrial Machinery & Components   \n",
       "14  15  Industrial Machinery & Components   \n",
       "15  16  Industrial Machinery & Components   \n",
       "16  17  Industrial Machinery & Components   \n",
       "17  18  Industrial Machinery & Components   \n",
       "18  19  Industrial Machinery & Components   \n",
       "19  20  Industrial Machinery & Components   \n",
       "20  21  Industrial Machinery & Components   \n",
       "21  22  Industrial Machinery & Components   \n",
       "22  23  Industrial Machinery & Components   \n",
       "23  24  Industrial Machinery & Components   \n",
       "24  25  Industrial Machinery & Components   \n",
       "25  26  Industrial Machinery & Components   \n",
       "26  27  Industrial Machinery & Components   \n",
       "27  28  Industrial Machinery & Components   \n",
       "28  29  Industrial Machinery & Components   \n",
       "\n",
       "                                       Company Emiten    DER   ROA  \\\n",
       "0                      Asahimas Flat Glass Tbk   AMFG   1.32  0.06   \n",
       "1      PT Ateliers Mecaniques D Indonesie Tbk.   AMIN   1.14 -0.05   \n",
       "2                PT Arita Prima Indonesia Tbk.   APII   0.49  0.05   \n",
       "3                PT Arkha Jayanti Persada Tbk.   ARKA   3.97 -0.02   \n",
       "4                        Arwana Citramulia Tbk   ARNA   0.51  0.21   \n",
       "5                  Cahayaputra Asa Keramik Tbk   CAKK   0.88  0.03   \n",
       "6    Communication Cable Systems Indonesia Tbk   CCSI   0.31  0.11   \n",
       "7                                  Citatah Tbk   CTTH   2.28 -0.05   \n",
       "8                       Hexindo Adiperkasa Tbk   HEXA   1.38  0.12   \n",
       "9                          Sumi Indo Kabel Tbk   IKBI   0.67  0.01   \n",
       "10                 Impack Pratama Industri Tbk   IMPC   0.72  0.08   \n",
       "11                           Intraco Penta Tbk   INTA  -2.86 -0.32   \n",
       "12                     Jembo Cable Company Tbk   JECC   1.58 -0.04   \n",
       "13                        KMI Wire & Cable Tbk   KBLI   0.16  0.02   \n",
       "14                         Kabelindo Murni Tbk   KBLM   0.38  0.00   \n",
       "15            Keramika Indonesia Assosiasi Tbk   KIAS   0.18 -0.01   \n",
       "16                      Kobexindo Tractors Tbk   KOBX   2.79  0.06   \n",
       "17                      Kokoh Inti Arebama Tbk   KOIN   8.53 -0.02   \n",
       "18                        Steadfast Marine Tbk   KPAL   3.15 -0.02   \n",
       "19                        PT Grand Kartech Tbk   KRAH  16.33 -0.05   \n",
       "20             PT Mark Dynamics Indonesia Tbk.   MARK   0.67  0.31   \n",
       "21                       Mulia Industrindo Tbk   MLIA   0.91  0.08   \n",
       "22  Supreme Cable Manufacturing & Commerce Tbk   SCCO   0.08  0.04   \n",
       "23                         Singaraja Putra Tbk   SINI   4.09  0.02   \n",
       "24                  Superkrane Mitra Utama Tbk   SKRN   1.68  0.01   \n",
       "25                           Surya Pertiwi Tbk   SPTO   0.54  0.06   \n",
       "26                    Surya Toto Indonesia Tbk   TOTO   0.65  0.02   \n",
       "27                         United Tractors Tbk   UNTR   0.59  0.09   \n",
       "28                         Voksel Electric Tbk   VOKS   1.91 -0.06   \n",
       "\n",
       "    Sales Growth   ROE   NPM  Category      0     1  Comp 1  Comp 2  Comp 3  \\\n",
       "0           0.33  0.13  0.12         1   1.32  0.06    0.33    0.13    0.12   \n",
       "1           0.41 -0.12 -0.13         1   1.14 -0.05    0.41   -0.12   -0.13   \n",
       "2           0.03  0.07  0.13         1   0.49  0.05    0.03    0.07    0.13   \n",
       "3           0.22 -0.08 -0.16         1   3.97 -0.02    0.22   -0.08   -0.16   \n",
       "4           0.17  0.32  0.25         4   0.51  0.21    0.17    0.32    0.25   \n",
       "5           0.30  0.06  0.07         1   0.88  0.03    0.30    0.06    0.07   \n",
       "6           0.79  0.14  0.17         4   0.31  0.11    0.79    0.14    0.17   \n",
       "7          -0.17 -0.16 -0.54         1   2.28 -0.05   -0.17   -0.16   -0.54   \n",
       "8           0.68  0.29  0.21         4   1.38  0.12    0.68    0.29    0.21   \n",
       "9           0.67  0.01  0.01         1   0.67  0.01    0.67    0.01    0.01   \n",
       "10          0.28  0.13  0.13         1   0.72  0.08    0.28    0.13    0.13   \n",
       "11         -0.22  0.00 -1.99         3  -2.86 -0.32   -0.22    0.00   -1.99   \n",
       "12          0.16 -0.10 -0.05         1   1.58 -0.04    0.16   -0.10   -0.05   \n",
       "13         -0.17  0.02  0.05         1   0.16  0.02   -0.17    0.02    0.05   \n",
       "14          0.36 -0.01 -0.01         1   0.38  0.00    0.36   -0.01   -0.01   \n",
       "15          0.41 -0.02 -0.03         1   0.18 -0.01    0.41   -0.02   -0.03   \n",
       "16          1.44  0.24  0.07         2   2.79  0.06    1.44    0.24    0.07   \n",
       "17          0.99 -0.21 -0.01         2   8.53 -0.02    0.99   -0.21   -0.01   \n",
       "18          0.00 -0.08 -0.50         1   3.15 -0.02    0.00   -0.08   -0.50   \n",
       "19          0.00 -0.93 -0.18         0  16.33 -0.05    0.00   -0.93   -0.18   \n",
       "20          1.42  0.52  0.40         4   0.67  0.31    1.42    0.52    0.40   \n",
       "21          0.16  0.15  0.15         1   0.91  0.08    0.16    0.15    0.15   \n",
       "22          0.16  0.05  0.04         1   0.08  0.04    0.16    0.05    0.04   \n",
       "23          0.29  0.10  0.01         1   4.09  0.02    0.29    0.10    0.01   \n",
       "24         -0.28  0.01  0.03         1   1.68  0.01   -0.28    0.01    0.03   \n",
       "25          0.17  0.08  0.11         1   0.54  0.06    0.17    0.08    0.11   \n",
       "26          0.14  0.04  0.06         1   0.65  0.02    0.14    0.04    0.06   \n",
       "27          0.24  0.15  0.18         1   0.59  0.09    0.24    0.15    0.18   \n",
       "28         -0.15 -0.18 -0.14         1   1.91 -0.06   -0.15   -0.18   -0.14   \n",
       "\n",
       "    Segment K-Means PCA  \n",
       "0                     0  \n",
       "1                     0  \n",
       "2                     4  \n",
       "3                     2  \n",
       "4                     4  \n",
       "5                     0  \n",
       "6                     4  \n",
       "7                     6  \n",
       "8                     0  \n",
       "9                     0  \n",
       "10                    0  \n",
       "11                    5  \n",
       "12                    8  \n",
       "13                    4  \n",
       "14                    4  \n",
       "15                    4  \n",
       "16                    7  \n",
       "17                    3  \n",
       "18                    6  \n",
       "19                    1  \n",
       "20                    9  \n",
       "21                    0  \n",
       "22                    4  \n",
       "23                    2  \n",
       "24                    8  \n",
       "25                    4  \n",
       "26                    4  \n",
       "27                    4  \n",
       "28                    8  "
      ]
     },
     "execution_count": 20,
     "metadata": {},
     "output_type": "execute_result"
    }
   ],
   "source": [
    "#buat dataframe dengan original feature, tambahkan PCA score dan assign clusternya\n",
    "df_segm_pca_kmeans = pd.concat([df.reset_index(drop = True), pd.DataFrame(x)], axis = 1)\n",
    "df_segm_pca_kmeans.columns.values[-3:] = ['Comp 1', 'Comp 2', 'Comp 3']\n",
    "#Tambahkan label pada kolom terakhir tabel\n",
    "df_segm_pca_kmeans['Segment K-Means PCA'] = model.labels_\n",
    "df_segm_pca_kmeans"
   ]
  },
  {
   "cell_type": "markdown",
   "id": "649b902c",
   "metadata": {
    "papermill": {
     "duration": 0.011485,
     "end_time": "2022-07-06T10:15:28.163042",
     "exception": false,
     "start_time": "2022-07-06T10:15:28.151557",
     "status": "completed"
    },
    "tags": []
   },
   "source": [
    "**tambahkan nama segmen kedalam label**"
   ]
  },
  {
   "cell_type": "code",
   "execution_count": 21,
   "id": "f9454578",
   "metadata": {
    "execution": {
     "iopub.execute_input": "2022-07-06T10:15:28.188263Z",
     "iopub.status.busy": "2022-07-06T10:15:28.187809Z",
     "iopub.status.idle": "2022-07-06T10:15:28.193811Z",
     "shell.execute_reply": "2022-07-06T10:15:28.193066Z"
    },
    "papermill": {
     "duration": 0.021267,
     "end_time": "2022-07-06T10:15:28.195951",
     "exception": false,
     "start_time": "2022-07-06T10:15:28.174684",
     "status": "completed"
    },
    "tags": []
   },
   "outputs": [],
   "source": [
    "df_segm_pca_kmeans['Segment'] = df_segm_pca_kmeans['Segment K-Means PCA'].map({0:'first',1:'second'})"
   ]
  },
  {
   "cell_type": "markdown",
   "id": "c2112616",
   "metadata": {
    "papermill": {
     "duration": 0.011335,
     "end_time": "2022-07-06T10:15:28.219108",
     "exception": false,
     "start_time": "2022-07-06T10:15:28.207773",
     "status": "completed"
    },
    "tags": []
   },
   "source": [
    "# 4.2 Visualize Clusters by Components"
   ]
  },
  {
   "cell_type": "markdown",
   "id": "d9d70fb5",
   "metadata": {
    "papermill": {
     "duration": 0.011842,
     "end_time": "2022-07-06T10:15:28.242542",
     "exception": false,
     "start_time": "2022-07-06T10:15:28.230700",
     "status": "completed"
    },
    "tags": []
   },
   "source": [
    "PCA = untuk menentukan komponen yang paling penting.\n",
    "Dengan cara ini, kita dapat benar-benar yakin bahwa dua komponen pertama menjelaskan lebih banyak varians."
   ]
  },
  {
   "cell_type": "code",
   "execution_count": 22,
   "id": "a78bf772",
   "metadata": {
    "execution": {
     "iopub.execute_input": "2022-07-06T10:15:28.268203Z",
     "iopub.status.busy": "2022-07-06T10:15:28.267808Z",
     "iopub.status.idle": "2022-07-06T10:15:28.531431Z",
     "shell.execute_reply": "2022-07-06T10:15:28.530136Z"
    },
    "papermill": {
     "duration": 0.279186,
     "end_time": "2022-07-06T10:15:28.533876",
     "exception": false,
     "start_time": "2022-07-06T10:15:28.254690",
     "status": "completed"
    },
    "tags": []
   },
   "outputs": [
    {
     "name": "stderr",
     "output_type": "stream",
     "text": [
      "/opt/conda/lib/python3.7/site-packages/seaborn/_decorators.py:43: FutureWarning: Pass the following variables as keyword args: x, y. From version 0.12, the only valid positional argument will be `data`, and passing other arguments without an explicit keyword will result in an error or misinterpretation.\n",
      "  FutureWarning\n"
     ]
    },
    {
     "data": {
      "image/png": "[encoded data removed]",
      "text/plain": [
       "<Figure size 720x576 with 1 Axes>"
      ]
     },
     "metadata": {
      "needs_background": "light"
     },
     "output_type": "display_data"
    }
   ],
   "source": [
    "#Plot data by PCA Component\n",
    "#Y axis and X axis\n",
    "x_axis = df_segm_pca_kmeans['Comp 2']\n",
    "y_axis = df_segm_pca_kmeans['Comp 1']\n",
    "plt.figure(figsize=(10,8))\n",
    "sns.scatterplot(x_axis, y_axis, hue = df_segm_pca_kmeans['Segment'], palette =['g','r'])\n",
    "plt.title('Cluster by PCA Components')\n",
    "plt.show()"
   ]
  },
  {
   "cell_type": "code",
   "execution_count": 23,
   "id": "825422c0",
   "metadata": {
    "execution": {
     "iopub.execute_input": "2022-07-06T10:15:28.559781Z",
     "iopub.status.busy": "2022-07-06T10:15:28.559385Z",
     "iopub.status.idle": "2022-07-06T10:15:28.566934Z",
     "shell.execute_reply": "2022-07-06T10:15:28.565802Z"
    },
    "papermill": {
     "duration": 0.023531,
     "end_time": "2022-07-06T10:15:28.569502",
     "exception": false,
     "start_time": "2022-07-06T10:15:28.545971",
     "status": "completed"
    },
    "tags": []
   },
   "outputs": [
    {
     "data": {
      "text/plain": [
       "array([0.96623073, 0.02354089])"
      ]
     },
     "execution_count": 23,
     "metadata": {},
     "output_type": "execute_result"
    }
   ],
   "source": [
    "pca.explained_variance_ratio_"
   ]
  }
 ],
 "metadata": {
  "kernelspec": {
   "display_name": "Python 3",
   "language": "python",
   "name": "python3"
  },
  "language_info": {
   "codemirror_mode": {
    "name": "ipython",
    "version": 3
   },
   "file_extension": ".py",
   "mimetype": "text/x-python",
   "name": "python",
   "nbconvert_exporter": "python",
   "pygments_lexer": "ipython3",
   "version": "3.7.12"
  },
  "papermill": {
   "default_parameters": {},
   "duration": 14.851822,
   "end_time": "2022-07-06T10:15:29.404161",
   "environment_variables": {},
   "exception": null,
   "input_path": "__notebook__.ipynb",
   "output_path": "__notebook__.ipynb",
   "parameters": {},
   "start_time": "2022-07-06T10:15:14.552339",
   "version": "2.3.4"
  }
 },
 "nbformat": 4,
 "nbformat_minor": 5
}
